{
 "cells": [
  {
   "attachments": {},
   "cell_type": "markdown",
   "metadata": {},
   "source": [
    "### Structuri de date built-in(standard) \n",
    "\n",
    "- Liste(array dinamic) -> sir de elemente unde pot modifica elementele si le pot accesa prin index.<br>\n",
    "Cateva instructiuni standard pe liste:  \n",
    "    - append(element): adauga `element` la finalul listei\n",
    "    - count(valoare): numara cate elemente sunt egale cu `valoare` in lista\n",
    "    - index(element): rezulta primul index al elementului dat\n",
    "    - pop(index): scoate elementul cu indexul `index` din lista si il rezulta (il pot afisa). Daca nu pun nimic in paranteza returneaza ultimul element din lista\n",
    "    - remove(element): scoate `element` din lista si nu rezulta nimic\n",
    "    - sorted(lista): sorteaza lista si rezulta o noua lista cu elementele sortate (nu modifica lista originala)\n",
    "    - lista.sort(): sorteaza lista si ii modifica elementele punandu-le in ordine, nu rezulta nimic\n",
    "    - list(range(start, stop)): transforma numerele de la start la stop intr-o lista \n",
    "    - lista[index]: rezulta elementul de pe pozitia `index` in lista <br><br>\n",
    "\n",
    "- Tuplu -> lista in care nu pot modifica elementele. Contine instructiunile:\n",
    "    - index(element): rezulta primul index al elementului dat\n",
    "    - count(valoare): numara cate elemente sunt egale cu `valoare` in tuplu <br><br>\n",
    "\n",
    "- Dictionar -> sir(lista) de asocieri cheie - valoare. Asocierile vor fi sub forma de tupluri cu doua elemente. Natural, pot accesa acele tupluri si elementele din ele prin indexare.\n",
    "    - keys(): rezulta cheile din dictionar -> se pot parcurge\n",
    "    - values(): rezulta valorile din dictionar -> se pot parcurge \n",
    "    - items(): rezulta perechile cheie-valoare din dictionar -> se pot parcurge "
   ]
  },
  {
   "cell_type": "code",
   "execution_count": 35,
   "metadata": {},
   "outputs": [
    {
     "name": "stdout",
     "output_type": "stream",
     "text": [
      "5\n",
      "[1, 2, 3, 4, 6, 7, 8, 9]\n",
      "[2, 3, 4, 6, 7, 8, 9]\n"
     ]
    }
   ],
   "source": [
    "vector = [1, 2, 3, 4, 5, 5, 5, 6, 7, 8, 9, 10]\n",
    "\n",
    "vector.append(11)   #-> adauga un element la finalul listei\n",
    "# -> vector = [1, 2, 3, 4, 5, 5, 5, 6, 7, 8, 9, 10, 11]\n",
    "vector.index(5)     #-> rezulta indexul primei valori gasite in lista\n",
    "vector.count(5)     #-> rezulta numarul de elemente cu valoarea data din lista\n",
    "vector.pop()\n",
    "# -> vector = [1, 2, 3, 4, 5, 5, 5, 6, 7, 8, 9, 10]\n",
    "vector.pop()\n",
    "# -> vector = [1, 2, 3, 4, 5, 5, 5, 6, 7, 8, 9]\n",
    "\n",
    "print(vector.pop(4))\n",
    "vector.pop(4)\n",
    "vector.pop(4)\n",
    "print(vector)\n",
    "\n",
    "vector.remove(1)\n",
    "print(vector)"
   ]
  },
  {
   "cell_type": "code",
   "execution_count": 36,
   "metadata": {},
   "outputs": [
    {
     "name": "stdout",
     "output_type": "stream",
     "text": [
      "[2, 3, 4, 6, 7, 8, 9, 0, 3, 2]\n",
      "None\n",
      "[0, 2, 2, 3, 3, 4, 6, 7, 8, 9]\n"
     ]
    }
   ],
   "source": [
    "\n",
    "vector.append(0)\n",
    "vector.append(3)\n",
    "vector.append(2)\n",
    "\n",
    "print(vector)\n",
    "\n",
    "sorted(vector)  #-> rezulta o copie sortata a listei \n",
    "vector.sort()   #-> sorteaza vectorul modificand pozitiile elementelor"
   ]
  },
  {
   "cell_type": "code",
   "execution_count": 42,
   "metadata": {},
   "outputs": [
    {
     "name": "stdout",
     "output_type": "stream",
     "text": [
      "[1, 2, 3, 4, 5]\n",
      "[1, 2, 3, 6, 5]\n"
     ]
    }
   ],
   "source": [
    "lista = [1, 2, 3, 4, 5]\n",
    "print(lista)\n",
    "\n",
    "lista[3] = 6    #-> modifica elementul de pe index\n",
    "\n",
    "print(lista)"
   ]
  },
  {
   "cell_type": "code",
   "execution_count": 46,
   "metadata": {},
   "outputs": [
    {
     "name": "stdout",
     "output_type": "stream",
     "text": [
      "(1, 2, 3, 4, 5, 6, 7, 8, 9, 10)\n"
     ]
    }
   ],
   "source": [
    "tuplu = (1, 2, 3, 4, 5, 6, 7, 8, 9, 10)\n",
    "\n",
    "print(tuplu)\n",
    "\n",
    "# tuplu[3] = 6    #-> eroare: NU pot modifica elementele dintr-un tuplu\n"
   ]
  },
  {
   "cell_type": "code",
   "execution_count": 49,
   "metadata": {},
   "outputs": [
    {
     "name": "stdout",
     "output_type": "stream",
     "text": [
      "[1, 2, 2, 3, 4, 5, 5, 5, 6, 7]\n",
      "{1, 2, 3, 4, 5, 6, 7}\n",
      "{'h', 'l', 'e', 'o'}\n"
     ]
    }
   ],
   "source": [
    "lista = [1, 2, 2, 3, 4, 5, 5, 5, 6, 7]\n",
    "print(lista)\n",
    "\n",
    "print(set(lista))\n",
    "\n",
    "print(set(\"heeeeello\"))"
   ]
  },
  {
   "cell_type": "code",
   "execution_count": 85,
   "metadata": {},
   "outputs": [
    {
     "name": "stdout",
     "output_type": "stream",
     "text": [
      "unu\n",
      "doi\n",
      "trei\n",
      "patru\n",
      "cinci\n",
      "1\n",
      "2\n",
      "3\n",
      "4\n",
      "5\n",
      "('unu', 1)\n",
      "unu\n",
      "1\n",
      "('doi', 2)\n",
      "doi\n",
      "2\n",
      "('trei', 3)\n",
      "trei\n",
      "3\n",
      "('patru', 4)\n",
      "patru\n",
      "4\n",
      "('cinci', 5)\n",
      "cinci\n",
      "5\n",
      "unu\n",
      "1\n",
      "doi\n",
      "2\n",
      "trei\n",
      "3\n",
      "patru\n",
      "4\n",
      "cinci\n",
      "5\n"
     ]
    }
   ],
   "source": [
    "dictionar = {\"unu\": 1, \"doi\": 2, \"trei\": 3, \"patru\": 4, \"cinci\": 5}\n",
    "\n",
    "dictionar.items()   #-> rezulta perechile de cheie-valoare (le pot parcurge)\n",
    "dictionar.keys()    #-> rezulta cheile din dictionar (le pot parcurge)\n",
    "dictionar.values()  #-> rezulta valorile din dictionar (le pot parcurge)\n",
    "\n",
    "# dictionar[cheie]  #-> rezulta elementul(valoarea) care se asociaza cu cheie in dictionar\n",
    "\n",
    "for cheie in dictionar.keys():\n",
    "    print(cheie)\n",
    "\n",
    "for valoare in dictionar.values():\n",
    "    print(valoare)\n",
    "\n",
    "# abordare mai putin folosita\n",
    "for tuplu in dictionar.items():\n",
    "    print(tuplu)    #-> tuplu cu doua elemente tuplu = (cheie, valoare)\n",
    "    print(tuplu[0]) #-> primul element: tuplu[0] = cheie\n",
    "    print(tuplu[1]) #-> al doilea element: tuplu[1] = valoare \n",
    "\n",
    "# abordare folosita mai des\n",
    "for cheie, valoare in dictionar.items():\n",
    "    print(cheie)\n",
    "    print(valoare)"
   ]
  },
  {
   "cell_type": "code",
   "execution_count": 76,
   "metadata": {},
   "outputs": [
    {
     "name": "stdout",
     "output_type": "stream",
     "text": [
      "Cristi\n",
      "['Marius', 'Marius', 'Ana']\n"
     ]
    }
   ],
   "source": [
    "nume = [\"Cristi\", \"Marius\", \"Marius\", \"George\"]\n",
    "nume.append(\"Ana\")\n",
    "\n",
    "print(nume.pop(0))\n",
    "nume.remove(\"George\")\n",
    "print(nume)"
   ]
  },
  {
   "cell_type": "code",
   "execution_count": 83,
   "metadata": {},
   "outputs": [
    {
     "name": "stdout",
     "output_type": "stream",
     "text": [
      "unu1\n",
      "doi2\n",
      "trei3\n",
      "patru4\n",
      "cinci5\n"
     ]
    }
   ],
   "source": [
    "for cheie, valoare in dictionar.items():\n",
    "    print(cheie + str(valoare))"
   ]
  },
  {
   "cell_type": "code",
   "execution_count": 20,
   "metadata": {},
   "outputs": [
    {
     "name": "stdout",
     "output_type": "stream",
     "text": [
      "[1, 2, 3, 4, 5, 6, 7, 8, 9, 10]\n"
     ]
    },
    {
     "data": {
      "text/plain": [
       "1"
      ]
     },
     "execution_count": 20,
     "metadata": {},
     "output_type": "execute_result"
    }
   ],
   "source": [
    "vector = list(range(1, 11))\n",
    "\n",
    "print(vector)\n",
    "\n",
    "vector[-len(vector)]"
   ]
  }
 ],
 "metadata": {
  "kernelspec": {
   "display_name": "Python 3",
   "language": "python",
   "name": "python3"
  },
  "language_info": {
   "codemirror_mode": {
    "name": "ipython",
    "version": 3
   },
   "file_extension": ".py",
   "mimetype": "text/x-python",
   "name": "python",
   "nbconvert_exporter": "python",
   "pygments_lexer": "ipython3",
   "version": "3.11.3"
  },
  "orig_nbformat": 4
 },
 "nbformat": 4,
 "nbformat_minor": 2
}
