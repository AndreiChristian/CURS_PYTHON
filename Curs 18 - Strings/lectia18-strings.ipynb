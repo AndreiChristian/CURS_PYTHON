{
 "cells": [
  {
   "attachments": {},
   "cell_type": "markdown",
   "metadata": {},
   "source": [
    "### Stringuri \n",
    "\n",
    "Date de tip text. Tipul de date string se refera la sir de caractere. Este echivalent cu o lista de caractere. \n",
    "Exista in programe cu ghilimele. De exemplu: \"Ana are mere\", \"A\", \"numar\", \"10\".\n",
    "\n",
    "Recomandare: \n",
    "- folositi ghilimele pentru string(sir de mai multe caractere)\n",
    "- folositi apostroafe cand aveti un singur caracter\n",
    "\n",
    "Diferite caractere care se escapeaza(se pune \\ (backslash) inainte pentru a fi citite drept caracter):\n",
    "- \\\\' -> apostrof\n",
    "- \\\\\" -> ghilimele\n",
    "- \\t -> tab\n",
    "- \\n -> newline(enter/rand nou)\n",
    "- \\\\\\\\ -> backslash "
   ]
  },
  {
   "cell_type": "code",
   "execution_count": 12,
   "metadata": {},
   "outputs": [
    {
     "name": "stdout",
     "output_type": "stream",
     "text": [
      "Anna's archive\n",
      "\tAnna's archive: \n",
      " \"site\\ de carti\" \n"
     ]
    }
   ],
   "source": [
    "text1 = 'Anna\\'s archive'\n",
    "text2 = \"\\tAnna's archive: \\n \\\"site\\\\ de carti\\\" \"\n",
    "\n",
    "print(text1)\n",
    "print(text2)\n",
    "\n",
    "caracter = 'a'\n",
    "sir_de_caractere = \"sir de caractere\""
   ]
  },
  {
   "cell_type": "code",
   "execution_count": null,
   "metadata": {},
   "outputs": [],
   "source": [
    "caracter = ''   # prin conventie, variabila caracter va contine intotdeauna un singur caracter\n",
    "text = \"\"       # prin conventie, variabila text va contine un sir de mai multe caractere"
   ]
  },
  {
   "attachments": {},
   "cell_type": "markdown",
   "metadata": {},
   "source": [
    "Raw strings - cand vreau ca textul scris sa fie escapat in intregime. (Foarte rar folosit)\n",
    "- in print se pune un r in fata stringului"
   ]
  },
  {
   "cell_type": "code",
   "execution_count": 14,
   "metadata": {},
   "outputs": [
    {
     "name": "stdout",
     "output_type": "stream",
     "text": [
      "String care contine tot felul de caractere \\' \\n \\t \n"
     ]
    }
   ],
   "source": [
    "print(r\"String care contine tot felul de caractere \\' \\n \\t \")"
   ]
  },
  {
   "attachments": {},
   "cell_type": "markdown",
   "metadata": {},
   "source": [
    "String format: (Folosit adesea)\n",
    "- se pune un f in fata stringului pentru a introduce in acel string valorile unor date din program\n",
    "- datele se pun intre acolade {variabila}, {functie()}, {lista}, etc."
   ]
  },
  {
   "cell_type": "code",
   "execution_count": 16,
   "metadata": {},
   "outputs": [
    {
     "name": "stdout",
     "output_type": "stream",
     "text": [
      "Am primit variabila: 100\n"
     ]
    }
   ],
   "source": [
    "nume = 100\n",
    "\n",
    "print(f\"Am primit variabila: {nume}\")"
   ]
  },
  {
   "cell_type": "code",
   "execution_count": 23,
   "metadata": {},
   "outputs": [
    {
     "name": "stdout",
     "output_type": "stream",
     "text": [
      "Prima propozitie de pe primul rand. \n",
      "A doua propozitie de pe al doilea rand. \n",
      " A treia propozitie.\n",
      " Text care se afiseaza pe ecran asa cum il scriu in cod.\n",
      "    Propozitiile respecta randurile si spatierea stringului din cod.\n",
      "     Textul scris intre 3 apostroafe se afiseaza exact asa cum este scris. \n"
     ]
    }
   ],
   "source": [
    "# vreau sa afisez un text si sa treaca pe rand nou cand aleg eu \n",
    "\n",
    "# prima abordare (folosesc caractere speciale pe care le escapez (newline))\n",
    "print(\"Prima propozitie de pe primul rand. \\nA doua propozitie de pe al doilea rand. \\n A treia propozitie.\")\n"
   ]
  },
  {
   "cell_type": "code",
   "execution_count": 28,
   "metadata": {},
   "outputs": [
    {
     "name": "stdout",
     "output_type": "stream",
     "text": [
      " Text care se afiseaza pe ecran asa cum il scriu in cod.\n",
      "    Propozitiile respecta randurile si spatierea stringului din cod.\n",
      "Textul scris intre 3 apostroafe se afiseaza exact asa cum este scris. \n"
     ]
    }
   ],
   "source": [
    "# a doua abordare (scriu textul asa cum il vreau afisat si il pun intre 3 apostroafe)\n",
    "\n",
    "text = ''' Text care se afiseaza pe ecran asa cum il scriu in cod.\n",
    "    Propozitiile respecta randurile si spatierea stringului din cod.\n",
    "Textul scris intre 3 apostroafe se afiseaza exact asa cum este scris. '''\n",
    "\n",
    "print(text)"
   ]
  },
  {
   "cell_type": "code",
   "execution_count": 31,
   "metadata": {},
   "outputs": [],
   "source": [
    "# Comentarii multilinie \n",
    "# Se folosesc pentru a documenta codul scris. Functiile scrise vor avea explicatiile pe care le pun intre 3 ghilimele.\n",
    "\n",
    "def functie():\n",
    "    \"\"\" Explicatia functiei definite.\n",
    "    Si aceste explicatii(documentatie) respecta spatierea \n",
    "    \"\"\"\n",
    "    pass\n",
    "\n"
   ]
  },
  {
   "attachments": {},
   "cell_type": "markdown",
   "metadata": {},
   "source": [
    "### De retinut!\n",
    "\n",
    "Stringurile sunt indexate (fiecare caracter dintr-un string are un index, pornind de la 0 consecutiv pana la lungimea stringului - 1). Accesul la caracterele dintr-un string se face prin index. Se pot parcurge stringurile pe indecsi.\n",
    "\n",
    "Scheme de Python: <br> \n",
    "`text[start:stop:pas]` -> acest cod preia din text caractere incepand de la start pana la stop, din pas in pas"
   ]
  },
  {
   "cell_type": "code",
   "execution_count": 38,
   "metadata": {},
   "outputs": [
    {
     "name": "stdout",
     "output_type": "stream",
     "text": [
      "12\n",
      "A\n",
      "e\n",
      " are mere\n",
      "Aaa\n"
     ]
    }
   ],
   "source": [
    "text = \"Ana are mere\"\n",
    "\n",
    "print(len(text))    # afisez lungimea stringului\n",
    "print(text[0])      # accesez primul caracter din string\n",
    "print(text[-1])     # accesez ultimul caracter din string\n",
    "print(text[3:])\n",
    "print(text[:5:2])"
   ]
  },
  {
   "cell_type": "code",
   "execution_count": 47,
   "metadata": {},
   "outputs": [
    {
     "name": "stdout",
     "output_type": "stream",
     "text": [
      "False\n",
      "False\n",
      "True\n"
     ]
    }
   ],
   "source": [
    "text = \"Ce cald e afara!\"\n",
    "\n",
    "substring1 = \"XYZ\"\n",
    "substring2 = \"cald    \"\n",
    "\n",
    "print(substring1 in text)\n",
    "print(substring2 in text)\n",
    "print(substring2 not in text)"
   ]
  },
  {
   "attachments": {},
   "cell_type": "markdown",
   "metadata": {},
   "source": [
    "### Functii (metode) built-in pentru stringuri\n",
    "\n",
    "Aceste functii sunt scrise specific pentru string si se aplica sub forma `string.functie()`.\n",
    "\n",
    "Functii care se refera la litera mare/litera mica:\n",
    "- upper()   -> transforma toate literele mici din string in litere mari\n",
    "- lower()   -> transforma toate literele mari din string in litere mici\n",
    "- isupper() -> verifica daca toate literele din string sunt majuscule\n",
    "- islower() -> verifica daca toate literele din string sunt litere mici"
   ]
  },
  {
   "cell_type": "code",
   "execution_count": 56,
   "metadata": {},
   "outputs": [
    {
     "name": "stdout",
     "output_type": "stream",
     "text": [
      "CRISTI\n",
      "cristi\n",
      "True\n",
      "False\n"
     ]
    }
   ],
   "source": [
    "print(\"Cristi\".upper())\n",
    "\n",
    "print(\"CRISTI\".lower())\n",
    "\n",
    "print(\"CUVANT\".isupper())\n",
    "\n",
    "print(\"Cuvant\".islower())"
   ]
  },
  {
   "attachments": {},
   "cell_type": "markdown",
   "metadata": {},
   "source": [
    "### Functii de tip isX(), unde X se refera la diferite formatari ale stringului \n",
    "\n",
    "- `string.isalpha()`   -> verifica daca stringul are doar litere si nu este gol\n",
    "- `string.isalnum()`   -> verifica daca stringul are doar litere si cifre\n",
    "- `string.isdecimal()` -> verific daca stringul contine doar cifre\n",
    "- `string.isspace()`   -> verifica daca stringul contine doar spatii, tab si newline \n",
    "- `string.istitle()`   -> verifica daca stringul incepe cu litera mare"
   ]
  },
  {
   "cell_type": "code",
   "execution_count": 77,
   "metadata": {},
   "outputs": [
    {
     "name": "stdout",
     "output_type": "stream",
     "text": [
      "True\n",
      "True\n",
      "True\n",
      "True\n",
      "True\n"
     ]
    }
   ],
   "source": [
    "print(\"cuvant\".isalpha())\n",
    "print(\"cuvant123\".isalnum())\n",
    "print(\"10\".isdecimal())\n",
    "print(\"   \\n \\t\".isspace())\n",
    "print(\"Titlu\".istitle())"
   ]
  },
  {
   "cell_type": "code",
   "execution_count": 68,
   "metadata": {},
   "outputs": [
    {
     "name": "stdout",
     "output_type": "stream",
     "text": [
      "30\n"
     ]
    }
   ],
   "source": [
    "# situatie in care folosesc isdecimal()\n",
    "\n",
    "# cer utilizatorului un numar prin input si vreau sa-l adun cu 10. Pentru a-l aduna trebuie sa-l transform in intreg,\n",
    "# deci voi verifica daca a scris doar cifre inainte pentru a nu primi o eroare. \n",
    "\n",
    "numar = input(\"Scrie un numar: \")\n",
    "\n",
    "if numar.isdecimal():\n",
    "    numar = int(numar)\n",
    "    print(numar + 10)\n",
    "else:\n",
    "    print(\"Numarul introdus este gresit\")\n",
    "    "
   ]
  },
  {
   "attachments": {},
   "cell_type": "markdown",
   "metadata": {},
   "source": [
    "- `string.startswith(substring)` -> verifica daca stringul incepe cu substringul dat ca argument\n",
    "- `string.endswith(substring)`   -> verifica daca stringul se incheie cu substringul dat ca argument"
   ]
  },
  {
   "cell_type": "code",
   "execution_count": 83,
   "metadata": {},
   "outputs": [
    {
     "name": "stdout",
     "output_type": "stream",
     "text": [
      "True\n",
      "True\n"
     ]
    }
   ],
   "source": [
    "print(\"Hello World!\".startswith(\"Hello\"))\n",
    "print(\"Hello World!\".endswith(\"World!\"))"
   ]
  },
  {
   "attachments": {},
   "cell_type": "markdown",
   "metadata": {},
   "source": [
    "### join(), split()\n",
    "\n",
    "Metode care transforma o lista de cuvinte(stringuri) intr-un singur string si invers.\n",
    "- `delimitator.join(lista_de_stringuri)` -> join se aplica peste delimitator si primeste ca argument lista\n",
    "- `string.split(delimitator)`            -> split se aplica peste string si primeste ca argument delimitatorul "
   ]
  },
  {
   "cell_type": "code",
   "execution_count": 93,
   "metadata": {},
   "outputs": [
    {
     "name": "stdout",
     "output_type": "stream",
     "text": [
      "['Ana', 'are', 'mere']\n"
     ]
    },
    {
     "data": {
      "text/plain": [
       "'Ana are mere'"
      ]
     },
     "execution_count": 93,
     "metadata": {},
     "output_type": "execute_result"
    }
   ],
   "source": [
    "lista_de_cuvinte = [\"Ana\", \"are\", \"mere\"]\n",
    "\n",
    "print(lista_de_cuvinte)\n",
    "\n",
    "' '.join(lista_de_cuvinte)"
   ]
  },
  {
   "cell_type": "code",
   "execution_count": 94,
   "metadata": {},
   "outputs": [
    {
     "data": {
      "text/plain": [
       "['Ana', 'are', 'mere.']"
      ]
     },
     "execution_count": 94,
     "metadata": {},
     "output_type": "execute_result"
    }
   ],
   "source": [
    "text = \"Ana are mere.\"\n",
    "\n",
    "text.split(' ')"
   ]
  },
  {
   "attachments": {},
   "cell_type": "markdown",
   "metadata": {},
   "source": [
    "### partition(), center(), strip(), replace()"
   ]
  },
  {
   "cell_type": "code",
   "execution_count": 5,
   "metadata": {},
   "outputs": [
    {
     "data": {
      "text/plain": [
       "('Ana ar', 'e', ' mere')"
      ]
     },
     "execution_count": 5,
     "metadata": {},
     "output_type": "execute_result"
    }
   ],
   "source": [
    "# string partition \n",
    "\n",
    "text = \"Ana are mere\"\n",
    "\n",
    "text.partition(\"e\")"
   ]
  },
  {
   "cell_type": "code",
   "execution_count": 16,
   "metadata": {},
   "outputs": [
    {
     "data": {
      "text/plain": [
       "'===============================================Hello!==============================================='"
      ]
     },
     "execution_count": 16,
     "metadata": {},
     "output_type": "execute_result"
    }
   ],
   "source": [
    "# asezare (justify)\n",
    "\n",
    "text = \"Hello!\"\n",
    "\n",
    "text.center(100, '=')"
   ]
  },
  {
   "cell_type": "code",
   "execution_count": 25,
   "metadata": {},
   "outputs": [
    {
     "name": "stdout",
     "output_type": "stream",
     "text": [
      "Salut, Cristi\n"
     ]
    }
   ],
   "source": [
    "nume = input(\"Cum te numesti?\")\n",
    "\n",
    "nume = nume.strip(\" @#$%^&*()[]\")\n",
    "print(f\"Salut, {nume}\")"
   ]
  },
  {
   "cell_type": "code",
   "execution_count": 32,
   "metadata": {},
   "outputs": [
    {
     "data": {
      "text/plain": [
       "'Hello World!!!! Hello World!!!! Hello World!!!! Hello World!!!! Hello World!!!! Hello World!!!!'"
      ]
     },
     "execution_count": 32,
     "metadata": {},
     "output_type": "execute_result"
    }
   ],
   "source": [
    "# string replace\n",
    "\n",
    "text = \"Hello World! Hello World! Hello World! Hello World! Hello World! Hello World!\"\n",
    "\n",
    "text.replace(\"World\", \"people\").replace(\"people\", \"World!!!\")"
   ]
  },
  {
   "cell_type": "code",
   "execution_count": 34,
   "metadata": {},
   "outputs": [
    {
     "data": {
      "text/plain": [
       "'Ana are mere, pere, prune, caise'"
      ]
     },
     "execution_count": 34,
     "metadata": {},
     "output_type": "execute_result"
    }
   ],
   "source": [
    "# pot folosi string.replace() pentru a sterge anumite substringuri dintr-un string\n",
    "\n",
    "text = \"Ana are mere, pere, prune, caise, caise, caise\"\n",
    "\n",
    "text.replace(\"caise, \", \"\")"
   ]
  },
  {
   "attachments": {},
   "cell_type": "markdown",
   "metadata": {},
   "source": [
    "### Tabela ASCII\n",
    "\n",
    "Fiecare caracter standard are asociat un numar in tabela ASCII. Acel numar se poate afla folosind `ord(caracter)`.\n",
    "Daca doresc operatia inversa, se foloseste `chr(numar)`."
   ]
  },
  {
   "cell_type": "code",
   "execution_count": 31,
   "metadata": {},
   "outputs": [
    {
     "name": "stdout",
     "output_type": "stream",
     "text": [
      "\u0000\n",
      "\u0001\n",
      "\u0002\n",
      "\u0003\n",
      "\u0004\n",
      "\u0005\n",
      "\u0006\n",
      "\u0007\n",
      "\b\n",
      "\t\n",
      "\n",
      "\n",
      "\u000b\n",
      "\f\n",
      "\n",
      "\u000e\n",
      "\u000f\n",
      "\u0010\n",
      "\u0011\n",
      "\u0012\n",
      "\u0013\n",
      "\u0014\n",
      "\u0015\n",
      "\u0016\n",
      "\u0017\n",
      "\u0018\n",
      "\u0019\n",
      "\u001a\n",
      "\u001b\n",
      "\u001c\n",
      "\u001d\n",
      "\u001e\n",
      "\u001f\n",
      " \n",
      "!\n",
      "\"\n",
      "#\n",
      "$\n",
      "%\n",
      "&\n",
      "'\n",
      "(\n",
      ")\n",
      "*\n",
      "+\n",
      ",\n",
      "-\n",
      ".\n",
      "/\n",
      "0\n",
      "1\n",
      "2\n",
      "3\n",
      "4\n",
      "5\n",
      "6\n",
      "7\n",
      "8\n",
      "9\n",
      ":\n",
      ";\n",
      "<\n",
      "=\n",
      ">\n",
      "?\n",
      "@\n",
      "A\n",
      "B\n",
      "C\n",
      "D\n",
      "E\n",
      "F\n",
      "G\n",
      "H\n",
      "I\n",
      "J\n",
      "K\n",
      "L\n",
      "M\n",
      "N\n",
      "O\n",
      "P\n",
      "Q\n",
      "R\n",
      "S\n",
      "T\n",
      "U\n",
      "V\n",
      "W\n",
      "X\n",
      "Y\n",
      "Z\n",
      "[\n",
      "\\\n",
      "]\n",
      "^\n",
      "_\n",
      "`\n",
      "a\n",
      "b\n",
      "c\n",
      "d\n",
      "e\n",
      "f\n",
      "g\n",
      "h\n",
      "i\n",
      "j\n",
      "k\n",
      "l\n",
      "m\n",
      "n\n",
      "o\n",
      "p\n",
      "q\n",
      "r\n",
      "s\n",
      "t\n",
      "u\n",
      "v\n",
      "w\n",
      "x\n",
      "y\n",
      "z\n",
      "{\n",
      "|\n",
      "}\n",
      "~\n",
      "\n"
     ]
    }
   ],
   "source": [
    "ord('a')\n",
    "\n",
    "# incerc sa afisez toate caracterele care se asociaza cu codurile de la 0 la 127\n",
    "for i in range(128):\n",
    "    print(chr(i))"
   ]
  }
 ],
 "metadata": {
  "kernelspec": {
   "display_name": "Python 3",
   "language": "python",
   "name": "python3"
  },
  "language_info": {
   "codemirror_mode": {
    "name": "ipython",
    "version": 3
   },
   "file_extension": ".py",
   "mimetype": "text/x-python",
   "name": "python",
   "nbconvert_exporter": "python",
   "pygments_lexer": "ipython3",
   "version": "3.11.3"
  },
  "orig_nbformat": 4
 },
 "nbformat": 4,
 "nbformat_minor": 2
}
