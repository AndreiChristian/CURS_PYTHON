{
 "cells": [
  {
   "attachments": {},
   "cell_type": "markdown",
   "metadata": {},
   "source": [
    "### Functii \n",
    "\n",
    "Sunt blocuri de cod reutilizabile. Sunt menite sa structureze, sa organizeze si sa faca o bucata de cod mai usor de folosit (si refolosit). Functia se defineste de obicei o singura data si se poate utiliza apoi ori de cate ori e nevoie.  \n",
    "\n",
    "Pentru a defini o functie folosesc cuvantul cheie `def`, urmat de numele functiei si lista de parametri ce vor fi scrisi intre paranteze rotunde, apoi se pun `:` si urmeaza corpul functiei indentat la dreapta cu tab, ca in exemplul de mai jos:"
   ]
  },
  {
   "cell_type": "code",
   "execution_count": null,
   "metadata": {},
   "outputs": [],
   "source": [
    "# definitie\n",
    "def functie(parametru1, parametru2):    #-> semnatura functiei\n",
    "    # instructiuni                      #-> cod care se afla in corpul functiei\n",
    "    return parametru1 + parametru2      #-> instructiunea de return "
   ]
  },
  {
   "attachments": {},
   "cell_type": "markdown",
   "metadata": {},
   "source": [
    "Functiile pot avea 0 sau mai multi parametri, si pot returna sau nu o valoare. \n",
    "Apelul functiilor se va face prin nume, urmat de valori pentru fiecare parametru in ordine. De exemplu:"
   ]
  },
  {
   "cell_type": "code",
   "execution_count": null,
   "metadata": {},
   "outputs": [],
   "source": [
    "# apel\n",
    "functie(10, 20)"
   ]
  },
  {
   "attachments": {},
   "cell_type": "markdown",
   "metadata": {},
   "source": [
    "Scopul functiilor este de a defini o singura data un anume comportament, iar apoi de a folosi efectul acestei functii cand este nevoie. De asemenea, organizarea codului va deveni mult mai simpla prin utilizarea functiilor. "
   ]
  },
  {
   "cell_type": "code",
   "execution_count": 13,
   "metadata": {},
   "outputs": [
    {
     "name": "stdout",
     "output_type": "stream",
     "text": [
      "Hello, Cristi\n",
      "None\n"
     ]
    }
   ],
   "source": [
    "# Scriu un program in care dau ca input numele meu si calculatorul afiseaza Hello, nume!\n",
    "\n",
    "nume = input()\n",
    "print(f\"Hello, {nume}\")"
   ]
  },
  {
   "cell_type": "code",
   "execution_count": 10,
   "metadata": {},
   "outputs": [
    {
     "name": "stdout",
     "output_type": "stream",
     "text": [
      "Hello, Ana\n",
      "Hello, Maria\n",
      "Hello, George\n",
      "Hello, Mihai\n"
     ]
    }
   ],
   "source": [
    "# doresc o singura instructiune care ruleaza bucata de program de mai sus\n",
    "def hello(prenume):\n",
    "    print(\"Hello, \" + prenume)\n",
    "        # alt cod   \n",
    "            # alt cod\n",
    "        # alt cod\n",
    "    # alt cod inca in corpul functiei\n",
    "\n",
    "# aici nu mai sunt in corpul functiei \n",
    "# aici pot apela functia definita mai sus \n",
    "hello(\"Marius\")\n",
    "hello(\"Cristi\")\n",
    "\n",
    "persoane = [\"Ana\", \"Maria\", \"George\", \"Mihai\"]\n",
    "\n",
    "for persoana in persoane:\n",
    "    hello(persoana)"
   ]
  },
  {
   "cell_type": "code",
   "execution_count": 12,
   "metadata": {},
   "outputs": [
    {
     "name": "stdout",
     "output_type": "stream",
     "text": [
      "Hello, World!\n",
      "Hello, World!\n",
      "Hello, World!\n",
      "Hello, World!\n",
      "Hello, World!\n",
      "Hello, World!\n",
      "Hello, World!\n",
      "Hello, World!\n",
      "Hello, World!\n",
      "Hello, World!\n"
     ]
    }
   ],
   "source": [
    "# functie fara parametri\n",
    "def hello_world():\n",
    "    print(\"Hello, World!\")\n",
    "\n",
    "for i in range(10):\n",
    "    hello_world()"
   ]
  },
  {
   "cell_type": "code",
   "execution_count": 20,
   "metadata": {},
   "outputs": [
    {
     "name": "stdout",
     "output_type": "stream",
     "text": [
      "Suma numerelor 5 si 10 este: 15\n",
      "Suma numerelor 12 si 17 este: 29\n"
     ]
    }
   ],
   "source": [
    "# functii care au valoare de retur\n",
    "\n",
    "# functie care calculeaza suma a doua numere\n",
    "def suma(a: int, b:float) -> int:\n",
    "    \"\"\" Functie care primeste doua numere si returneaza suma lor \"\"\"\n",
    "    rezultat = a + b\n",
    "    return rezultat\n",
    "\n",
    "# adunare = suma(5, 10)\n",
    "print(f\"Suma numerelor 5 si 10 este: {suma(5, 10)}\")\n",
    "print(f\"Suma numerelor 12 si 17 este: {suma(12, 17)}\")"
   ]
  },
  {
   "cell_type": "code",
   "execution_count": null,
   "metadata": {},
   "outputs": [],
   "source": [
    "# Scriem o functie care primeste ca parametru un text(string) si returneaza \n",
    "# un dictionar cu cheile \"a\" si \"b\" si valori numarul de aparitii al fiecarei litere"
   ]
  },
  {
   "cell_type": "code",
   "execution_count": 4,
   "metadata": {},
   "outputs": [
    {
     "name": "stdout",
     "output_type": "stream",
     "text": [
      "{'a': 3, 'b': 0}\n",
      "{'a': 2, 'b': 1}\n"
     ]
    }
   ],
   "source": [
    "def numar_literele_a_si_b():\n",
    "    cuvant = input(\"Introduceti cuvantul:\")\n",
    "    dictionar_litere = {\"a\":0, \"b\":0}\n",
    "    \n",
    "    for litera in cuvant:\n",
    "        if litera in dictionar_litere.keys():\n",
    "            dictionar_litere[litera] +=1\n",
    "    \n",
    "    return dictionar_litere\n",
    " \n",
    "print(numar_literele_a_si_b())\n",
    "print(numar_literele_a_si_b())"
   ]
  }
 ],
 "metadata": {
  "kernelspec": {
   "display_name": "Python 3",
   "language": "python",
   "name": "python3"
  },
  "language_info": {
   "codemirror_mode": {
    "name": "ipython",
    "version": 3
   },
   "file_extension": ".py",
   "mimetype": "text/x-python",
   "name": "python",
   "nbconvert_exporter": "python",
   "pygments_lexer": "ipython3",
   "version": "3.11.3"
  },
  "orig_nbformat": 4
 },
 "nbformat": 4,
 "nbformat_minor": 2
}
