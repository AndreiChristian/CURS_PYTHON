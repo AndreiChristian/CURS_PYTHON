{
 "cells": [
  {
   "attachments": {},
   "cell_type": "markdown",
   "metadata": {},
   "source": [
    "# Notite curs \n",
    "\n",
    "<!-- ## Titlu \n",
    "### Titlu\n",
    "#### Titlu -->\n",
    "\n",
    "\n",
    "Text: notite pe care le iau la curs -> detalii despre cod concepte \n",
    "hrkdjsiruagspiurh j'\n",
    "kasjh lksdj\n",
    "\n",
    "Informatia invatata\n",
    "\n",
    "Feedback \n",
    "\n",
    "Spune-mi despre Python "
   ]
  },
  {
   "cell_type": "code",
   "execution_count": 1,
   "metadata": {},
   "outputs": [
    {
     "name": "stdout",
     "output_type": "stream",
     "text": [
      "Bine ati venit!\n"
     ]
    }
   ],
   "source": [
    "print(\"Bine ati venit!\")"
   ]
  },
  {
   "cell_type": "code",
   "execution_count": null,
   "metadata": {},
   "outputs": [],
   "source": []
  }
 ],
 "metadata": {
  "kernelspec": {
   "display_name": "Python 3",
   "language": "python",
   "name": "python3"
  },
  "language_info": {
   "codemirror_mode": {
    "name": "ipython",
    "version": 3
   },
   "file_extension": ".py",
   "mimetype": "text/x-python",
   "name": "python",
   "nbconvert_exporter": "python",
   "pygments_lexer": "ipython3",
   "version": "3.11.2"
  },
  "orig_nbformat": 4
 },
 "nbformat": 4,
 "nbformat_minor": 2
}
