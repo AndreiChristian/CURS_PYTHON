{
 "cells": [
  {
   "cell_type": "markdown",
   "metadata": {},
   "source": [
    "### De ce sunt importante testele?\n",
    "\n",
    "1. **Calitate**: Testele ne ajuta sa ne asiguram ca aplicatia funcționează cum ar trebui.\n",
    "2. **Mentenanta**: Testele ușurează procesul de actualizare sau refactoring al codului.\n",
    "3. **Colaborare**: Testele bune ii ajuta si pe ceilalti developeri sa înteleaga ce ar trebui să facă codul nostru.\n",
    "4. **Automatizare**: Odata ce avem testele, le putem rula automat, economisind astfel timp si efort.\n",
    "\n",
    "### Tipuri de Teste\n",
    "\n",
    "1. **Unit Testing**: Testam parti individuale ale aplicatiei în izolare\\ separat (de exemplu, o singură funcție).\n",
    "2. **Integration Testing**: Testam interactiunea intre componente diferite.\n",
    "3. **Functional Testing**: Testam functionalitati specifice ale aplicatiei.\n",
    "4. **End-to-End Testing**: Testam aplicatia într-o modalitate care simulează comportamentul utilizatorului.\n",
    "5. **Regression Testing**: Asiguram ca functionalitătile vechi functionează după ce adaugam cod nou.\n"
   ]
  }
 ],
 "metadata": {
  "language_info": {
   "name": "python"
  },
  "orig_nbformat": 4
 },
 "nbformat": 4,
 "nbformat_minor": 2
}
