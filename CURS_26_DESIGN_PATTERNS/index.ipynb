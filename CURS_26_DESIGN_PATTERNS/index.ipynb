{
 "cells": [
  {
   "cell_type": "markdown",
   "metadata": {},
   "source": [
    "# Design Patterns"
   ]
  },
  {
   "cell_type": "markdown",
   "metadata": {},
   "source": [
    "### Tipuri\n",
    "\n",
    "<ul>\n",
    "    <li>\n",
    "        <h3>Creational</h3>\n",
    "        <li>Fabrica</li>\n",
    "        <li>Fabrica Abstracta</li>\n",
    "    </li>\n",
    "    <li>\n",
    "        <h3>Structural</h3>\n",
    "        <li></li>\n",
    "    </li>\n",
    "    <li>\n",
    "        <h3>Behvaioral</h3>\n",
    "        <li></li>\n",
    "    </li>\n",
    "</ul>"
   ]
  }
 ],
 "metadata": {
  "language_info": {
   "name": "python"
  },
  "orig_nbformat": 4
 },
 "nbformat": 4,
 "nbformat_minor": 2
}
