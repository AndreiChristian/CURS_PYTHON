{
 "cells": [
  {
   "attachments": {},
   "cell_type": "markdown",
   "metadata": {},
   "source": [
    "# Programare orientata pe obiect\n",
    "\n",
    "### De ce? \n",
    "Principalul scop in proiectele mari este sa ai un cod pe care il poti actualiza constant. In acelasi timp, proiectul trebuie sa fie sigur si robust, dar sa aiba o implementare ce ofera posibilitatea de-a reutiliza blocuri importante de cod.\n",
    "\n",
    "### Paradigma orientata pe obiect\n",
    "Ii mai putem spune cod orientat pe design, adica gandit in prealabil sa poata oferi toate functionalitatile necesare design-ului si implementarii\n",
    "proiectelor mari. \n",
    "- Codul orientat pe obiect este format din clase.\n",
    "- Clasele sunt *retete* pentru obiectele pe care vreau sa le definesc. Ele pot contine proprietati(date *variabile*) si metode(functii). <br>\n",
    "- Obiectele sunt <u> instante </u> ale clasei. Codul lucreaza cu obiecte, clasele reprezentand planul acelor obiecte. \n",
    "\n",
    "### Design\n",
    "In software development partea de design este probabil cea mai importanta din intreg procesul de dezvoltare. In acest prim pas, se decide cum impart programul in clase, cum vor fi legate clasele intre ele si cum vor interactiona, ce informatie(date) si ce actiuni(metode) am nevoie in fiecare clasa.\n",
    "Este important de schitat de la inceput un plan de structura care defineste ce bucatile(clasele) din program si ce trebuie sa faca fiecare. \n",
    "#### Sugestii de design:\n",
    "- **Responsabilitati**: pot imparti functionalitatea intregului program in responsabilitati pe care le atribui cate unei clase.\n",
    "Aleg aceste responsabilitati cat mai clar posibil pentru a putea diviza munca mai usor. \n",
    "- **Independenta**: la inceput gandesc clasele(bucatile) programului cat mai independent posibil. Fiecare sa aiba autonomie in a efectua responsabilitatea respectiva(fiecare pe parcela ei).    \n",
    "- **Comportament**: gandesc cat mai clar si precis ce comportament ar trebui sa aiba fiecare clasa. Comportamentul este dat de metodele definite in clasa si cu cat este mai clar, cu atat devine mai usor sa poata interactiona cu alte clase.\n",
    "\n",
    "Definitia claselor cu proprietatile si metodele necesare ofera fundatia programului. Cu cat e mai stabila si bine structurata cu atat va fi mai usor si mai sigur sa dezvolt si sa actualizez software-ul. \n",
    "\n",
    "(Pot gandi design-ul ca pe un film: fiecare personaj are un caracter specific(cu trasaturi de caracter) si comportament bine definite. Personajele isi creeaza legaturi intre ele si participa la firul narativ. Fiecare film are o concluzie(invatatura). Fiecare program are o functionalitate(intrebuintare), clasele din program fiind personajele care participa la functionalitatea programului, avand trasaturi bine definite si legaturi intre ele.)"
   ]
  },
  {
   "attachments": {},
   "cell_type": "markdown",
   "metadata": {},
   "source": [
    "O abordare raspandita in industrie ce ajuta design-ul programelor este folosirea diagramelor UML. \n",
    "Se construieste o reprezentare vizuala a claselor (cu proprietati si metode) si legaturilor dintre ele. Mai apoi pot incepe sa schitez cum trebuie sa lucreze fiecare pentru a defini intreaga functionalitate. \n",
    "\n",
    "---"
   ]
  },
  {
   "attachments": {},
   "cell_type": "markdown",
   "metadata": {},
   "source": [
    "### Principii: **Incapsulare | Mostenire/(Modularizare) | Polimorfism | Abstractizare**"
   ]
  },
  {
   "attachments": {},
   "cell_type": "markdown",
   "metadata": {},
   "source": [
    "### **INCAPSULARE**\n",
    "\n",
    "Codul din spatele obiectelor(din clase) trebuie sa fie greu de accesat. Trebuie protejat. \n",
    "Incapsularea se respecta folosind specificatori de acces ai proprietatilor si metodelor. In paradigma OOP clasica, acesti specificatori au mare importanta si sustin securitatea codului.\n",
    "Specificatorii de acces(access modifiers) in Python (in ordine crescatoare dupa cat de restrictivi sunt):\n",
    "<pre>\n",
    "1.  proprietate/metoda    -> public: pot accesa proprietatea/metoda de oriunde <br>\n",
    "2. _proprietate/metoda    -> protected: pot accesa proprietatea/metoda doar in clasa respectiva si in clasele copil(care mostenesc/deriva clasa respectiva) <br>\n",
    "3.__proprietate/metoda    -> private: pot accesa proprietatea/metoda doar in clasa in care a fost definita <br>\n",
    "</pre>\n",
    "\n",
    "*Pentru metode Python nu respecta intocmai regulile din OOP clasic. In mare parte metodele din Python sunt publice. (explicatie mai jos) <br>\n",
    "*Abordarea incapsularii la OOP in Python este de multe ori public/nonpublic (un underscore sau deloc) <br>\n",
    "*Se recomanda declararea proprietatilor cat mai restrictiv posibil atunci cand implementez OOP (in orice limbaj) <br>\n",
    "\n",
    "**De mentionat**: Este important de stiut ca Python are in general o abordare cat mai relaxata in ce priveste regulile generale de programare. Strictetea codului este lasata la mana programatorului, Python fiind optimizat sa eficientizeze si sa faca lucrurile cat mai usor de implementat. Puteti citi despre Lazy Evaluation si dynamically typed language. \n",
    "\n",
    "Python are foarte multe abordari/implementari pentru a face codul cat mai usor de implementat si a oferi programatorului cat mai multe unelte/resurse pentru rezolvarea oricarei probleme. In general orice problema are cele mai multe solutii (abordari de rezolvare) in Python.  "
   ]
  },
  {
   "attachments": {},
   "cell_type": "markdown",
   "metadata": {},
   "source": [
    "Definitia unei clase Person. Continut:\n",
    "- Proprietati:\n",
    "    - nume -> privat\n",
    "    - prenume -> privat\n",
    "- Metode: \n",
    "    - **constructor** `__init__` -> initializeaza proprietatile si se apeleaza la instantierea clasei\n",
    "    - metode de tip get (getters) -> returneaza valoarea actuala a proprietatilor\n",
    "    - metode de tip set (setters) -> ofera acces la a modifica proprietati \n",
    "- Cuvinte cheie: `self` -> reprezinta *sinele* obiectului construit. Fiecare clasa foloseste `self` pentru a se referi la obiectul actual. <br>\n",
    "(Eu sunt o persoana si ma prezint cu numele/prenumele *meu* (`self.__nume`, `self.__prenume`))   "
   ]
  },
  {
   "cell_type": "code",
   "execution_count": 1,
   "metadata": {},
   "outputs": [],
   "source": [
    "class Person:\n",
    "    \"\"\" Definitia clasei pentru o persoana. \"\"\"\n",
    "   \n",
    "    __nume = None\n",
    "    __prenume = None\n",
    "\n",
    "    def __init__(self, nume, prenume):\n",
    "        self.__nume = nume\n",
    "        self.__prenume = prenume\n",
    "\n",
    "    def prezentare(self):\n",
    "        print(f\"Salut, eu sunt {self.__nume} {self.__prenume}.\")\n",
    "    \n",
    "    def get_nume(self):\n",
    "        return self.__nume\n",
    "\n",
    "    def get_prenume(self):\n",
    "        return self.__prenume\n",
    "\n",
    "    def _set_nume(self, nume):\n",
    "        self.__nume = nume\n",
    "\n",
    "    def __set_prenume(self, prenume):\n",
    "        self.__prenume = prenume"
   ]
  },
  {
   "attachments": {},
   "cell_type": "markdown",
   "metadata": {},
   "source": [
    "- Instantierea unei clase este similara cu apelul unei functii. <br>\n",
    "- La instantiere se apeleaza constructorul clasei -> functia `__init__` <br>\n",
    "- Instantierea unei clase reprezinta constructia unui obiect dupa clasa respectiva. <br>\n",
    "- Obiectul are proprietatile definite in clasa si poate apela metodele publice din clasa sa.<sup>(*)</sup> \n",
    "\n",
    "*Python nu forteaza un control strict pentru accesul metodelor unei clase. \n",
    "Metodele protected si private<sup>(**)</sup> pot fi totusi apelate din exterior, insa este recomandat sa se respecte conventia de la proprietati. \n",
    "In ce priveste metodele, Python considera ca totul ar trebui sa fie public si incapsularea este respectata prin conventie. \n",
    "\n",
    "**Pentru a apela o metoda private, trebuie sa specific inainte numele clasei cu `_` in fata. (Exemplu mai jos). <br>\n",
    "Python si-a ales sa *ascunda* in acest fel metodele private de folosirea lor in exterior, insa nu le interzice complet."
   ]
  },
  {
   "cell_type": "code",
   "execution_count": 2,
   "metadata": {},
   "outputs": [
    {
     "name": "stdout",
     "output_type": "stream",
     "text": [
      "Salut, eu sunt Popescu Ion.\n",
      "Salut, eu sunt Ionescu Ion.\n",
      "Salut, eu sunt Ionescu Marcel.\n"
     ]
    }
   ],
   "source": [
    "persoana = Person(\"Popescu\", \"Ion\")     # instantiere \n",
    "persoana.prezentare()                   # apelare metoda publica din exteriorul clasei\n",
    "\n",
    "persoana._set_nume(\"Ionescu\")           # apelare metoda protected din exteriorul clasei\n",
    "persoana.prezentare()\n",
    "\n",
    "persoana._Person__set_prenume(\"Marcel\") # apelare metoda private din exteriorul clasei\n",
    "persoana.prezentare()"
   ]
  },
  {
   "attachments": {},
   "cell_type": "markdown",
   "metadata": {},
   "source": [
    "Se poate observa in codul de mai sus faptul ca se pot apela si metodele specificate drept private si protected."
   ]
  },
  {
   "attachments": {},
   "cell_type": "markdown",
   "metadata": {},
   "source": [
    "#### Cateva conventii in ce priveste stilistica codului\n",
    "- Folositi nume sugestive pentru orice: clase, variabile, metode\n",
    "    - Clasele au in general un nume la singular, care incepe cu majuscula (ex: Person). Daca e nevoie de mai multe cuvinte se scriu in CamelCase, toate cuvintele lipite intre ele si incepand cu majuscula\n",
    "    - Functiile/metodele se scriu cu litere mici, cuvintele fiind separate prin underscore (ex: <code>get_nume()</code>)\n",
    "    - Variabilele se scriu cu litere mici, de preferat sa folositi cuvinte cat mai sugestive\n",
    "    - Variabilele pe care le consider **constante**<sup>(*)</sup> se scriu cu litere mari si underscore (ex: <code>MAX_SIZE</code>)<br>\n",
    "*Python nu are o declaratie clara pentru constante, ramane din nou la latitudinea programatorului sa stabileasca acest lucru prin conventie, si in general se folosesc majuscule \n",
    "- Folositi comentarii unde codul nu este clar \n",
    "    - Comentariile ar trebui sa explice mai mult **de ce** am scris bucata respectiva de cod, si mai putin cum am implementat-o"
   ]
  },
  {
   "attachments": {},
   "cell_type": "markdown",
   "metadata": {},
   "source": [
    "### **MOSTENIRE**\n",
    "\n",
    "In programarea orientata pe obiect avem nevoie sa structuram clasele ierharhic, si sa construim legaturi intre ele."
   ]
  },
  {
   "cell_type": "code",
   "execution_count": 6,
   "metadata": {},
   "outputs": [
    {
     "name": "stdout",
     "output_type": "stream",
     "text": [
      "Salut, eu sunt Ionita Cristi\n"
     ]
    }
   ],
   "source": [
    "class Persoana():\n",
    "    def __init__(self, nume, prenume):\n",
    "        self._nume = nume\n",
    "        self._prenume = prenume\n",
    "    \n",
    "    def prezentare(self):\n",
    "        pass\n",
    "        # return \"Salut, eu sunt \" + self._nume + \" \" + self._prenume\n",
    "\n",
    "class Student(Persoana):\n",
    "    def __init__(self, nume, prenume, nota):\n",
    "        super().__init__(nume, prenume)\n",
    "        self._nota = nota\n",
    "\n",
    "    def prezentare(self):\n",
    "        print(super().prezentare() + \" si sunt student.\")\n",
    "\n",
    "    def nota_mea(self):\n",
    "        print(\"Nota mea este \" + self._nota)\n",
    "\n",
    "persoana = Persoana(\"Ionita\", \"Cristi\")\n",
    "student = Student(\"Ionita\", \"Cristi\", 10)\n",
    "\n",
    "print(persoana.prezentare())\n",
    "student.prezentare()"
   ]
  }
 ],
 "metadata": {
  "kernelspec": {
   "display_name": "Python 3",
   "language": "python",
   "name": "python3"
  },
  "language_info": {
   "codemirror_mode": {
    "name": "ipython",
    "version": 3
   },
   "file_extension": ".py",
   "mimetype": "text/x-python",
   "name": "python",
   "nbconvert_exporter": "python",
   "pygments_lexer": "ipython3",
   "version": "3.9.13"
  },
  "orig_nbformat": 4,
  "vscode": {
   "interpreter": {
    "hash": "ae9db6e0adbc91bbf2a4e52a371ad2c6e2e221ec3e109b22490793fdaff1cfb0"
   }
  }
 },
 "nbformat": 4,
 "nbformat_minor": 2
}
