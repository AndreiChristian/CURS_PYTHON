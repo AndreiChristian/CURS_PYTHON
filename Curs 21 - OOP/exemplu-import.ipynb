{
 "cells": [
  {
   "cell_type": "code",
   "execution_count": 6,
   "metadata": {},
   "outputs": [
    {
     "name": "stdout",
     "output_type": "stream",
     "text": [
      "Salut, eu sunt Mihai Stefan\n",
      "Salut, eu sunt  si am nota 10.\n"
     ]
    }
   ],
   "source": [
    "from Persoana import Student, Persoana\n",
    "\n",
    "persoana = Persoana(\"Mihai\", \"Stefan\")\n",
    "\n",
    "student = Student(\"Prenume\", \"Nume\", 10)\n",
    "\n",
    "\n",
    "persoana.prezentare()\n",
    "student.prezentare()"
   ]
  }
 ],
 "metadata": {
  "kernelspec": {
   "display_name": "Python 3",
   "language": "python",
   "name": "python3"
  },
  "language_info": {
   "codemirror_mode": {
    "name": "ipython",
    "version": 3
   },
   "file_extension": ".py",
   "mimetype": "text/x-python",
   "name": "python",
   "nbconvert_exporter": "python",
   "pygments_lexer": "ipython3",
   "version": "3.11.3"
  },
  "orig_nbformat": 4
 },
 "nbformat": 4,
 "nbformat_minor": 2
}
