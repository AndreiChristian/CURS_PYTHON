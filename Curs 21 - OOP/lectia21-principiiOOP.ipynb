{
 "cells": [
  {
   "cell_type": "markdown",
   "metadata": {},
   "source": [
    "### Exemplu INCAPSULARE si MOSTENIRE"
   ]
  },
  {
   "cell_type": "code",
   "execution_count": 16,
   "metadata": {},
   "outputs": [],
   "source": [
    "class Persoana:\n",
    "\n",
    "    # respect incapsularea prin specificatorii de acces -> unul sau doua _ (underline)\n",
    "    __nume = \"\"\n",
    "    _prenume = \"\"\n",
    "\n",
    "    def __init__(self, prenume = \"Prenume\", nume = \"Nume\"):\n",
    "        self._prenume = prenume\n",
    "        self.__nume = nume\n",
    "    \n",
    "    def get_prenume(self):\n",
    "        return self._prenume\n",
    "    \n",
    "    def prezentare(self):\n",
    "        print(f\"Salut, eu sunt {self._prenume} {self.__nume}\")\n",
    "\n",
    "\n",
    "class Student(Persoana):\n",
    "\n",
    "    __nota = \"\"\n",
    "\n",
    "    def __init__(self, prenume, nume, nota):\n",
    "        Persoana().__init__(prenume, nume)     # apelez constructorul clasei parinte\n",
    "        self.__nota = nota\n",
    "\n",
    "    def prezentare(self):\n",
    "        print(f\"Salut, eu sunt {self._prenume} si am nota {self.__nota}.\")\n",
    "\n",
    "    def notare(self, nota):\n",
    "        self.__nota = nota"
   ]
  },
  {
   "cell_type": "code",
   "execution_count": 17,
   "metadata": {},
   "outputs": [
    {
     "name": "stdout",
     "output_type": "stream",
     "text": [
      "Salut, eu sunt Ion Popescu\n",
      "Salut, eu sunt  si am nota 10.\n"
     ]
    }
   ],
   "source": [
    "persoana = Persoana(\"Ion\", \"Popescu\")\n",
    "\n",
    "persoana.prezentare()\n",
    "\n",
    "student = Student(\"Mihai\", \"Ionescu\", 10)\n",
    "\n",
    "student.prezentare()\n",
    "student.notare(11)"
   ]
  },
  {
   "cell_type": "markdown",
   "metadata": {},
   "source": [
    "### Consideratii POLIMORFISM\n",
    "\n",
    "Polimorfismul in OOP se refera la faptul ca metodele/proprietatile/obiectele pot avea mai multe forme datorita mostenirii. \n",
    "Prin mostenire pot oferi mai multe forme unui obiect.\n",
    "Prin suprascriere, pot oferi mai multe forme unei metode. Nu exista suprascriere fara mostenire.  \n",
    "In exemplul de mai sus am suprascris metoda `prezentare()`."
   ]
  },
  {
   "cell_type": "markdown",
   "metadata": {},
   "source": [
    "### Exemplu ABSTRACTIZARE \n",
    "\n",
    "In sens general, **abstractizarea** se refera la a crea template-uri (model pentru cum vreau sa arate o componenta). Acest template va fi **abstract**, in sensul ca nu va avea implementare. Pur si simplu definesc functionalitea, urmand sa fie implementata mai departe in componentele care mostenesc acea clasa. "
   ]
  },
  {
   "cell_type": "markdown",
   "metadata": {},
   "source": [
    "In Python exista o clasa prin care pot face abstractizare, si anume abc. (Abstract base class)\n",
    "Se face un import la modulul abc, si clasa ABC, iar clasele pe care le construiesc abstracte trebuie sa mosteneasca clasa ABC din modulul abc.  "
   ]
  },
  {
   "cell_type": "code",
   "execution_count": 23,
   "metadata": {},
   "outputs": [
    {
     "name": "stdout",
     "output_type": "stream",
     "text": [
      "Aceasta este o forma geometrica abstracta.\n",
      "Aria patratului este 25\n"
     ]
    }
   ],
   "source": [
    "from abc import ABC, abstractmethod\n",
    "\n",
    "class FormaGeometrica(ABC):\n",
    "\n",
    "    def explicatie(self):\n",
    "        print(\"Aceasta este o forma geometrica abstracta.\")\n",
    "\n",
    "    @abstractmethod\n",
    "    def arie(self):\n",
    "        pass\n",
    "\n",
    "class Patrat(FormaGeometrica):\n",
    "\n",
    "    _latura = 0\n",
    "\n",
    "    def __init__(self, latura):\n",
    "        self._latura = latura\n",
    "\n",
    "    def arie(self):\n",
    "        return self._latura ** 2\n",
    "\n",
    "\n",
    "patrat = Patrat(5)\n",
    "\n",
    "patrat.explicatie()\n",
    "print(f\"Aria patratului este {patrat.arie()}\")"
   ]
  }
 ],
 "metadata": {
  "kernelspec": {
   "display_name": "Python 3",
   "language": "python",
   "name": "python3"
  },
  "language_info": {
   "codemirror_mode": {
    "name": "ipython",
    "version": 3
   },
   "file_extension": ".py",
   "mimetype": "text/x-python",
   "name": "python",
   "nbconvert_exporter": "python",
   "pygments_lexer": "ipython3",
   "version": "3.11.3"
  },
  "orig_nbformat": 4
 },
 "nbformat": 4,
 "nbformat_minor": 2
}
