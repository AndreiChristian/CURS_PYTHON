{
 "cells": [
  {
   "cell_type": "markdown",
   "metadata": {},
   "source": [
    "### Tema\n",
    "\n",
    "Alegeti o problema si rezolvati-o in OOP. Folositi conceptele si structurati cat mai bine codul vostru. Dati codului o forma de proiect."
   ]
  },
  {
   "cell_type": "code",
   "execution_count": null,
   "metadata": {},
   "outputs": [],
   "source": []
  },
  {
   "cell_type": "markdown",
   "metadata": {},
   "source": [
    "Continuati cu proiecte de orice fel si adaugati-le pe GitHub. \n",
    "Mult succes!"
   ]
  }
 ],
 "metadata": {
  "language_info": {
   "name": "python"
  },
  "orig_nbformat": 4
 },
 "nbformat": 4,
 "nbformat_minor": 2
}
