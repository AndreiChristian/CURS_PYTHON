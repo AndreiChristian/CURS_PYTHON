{
 "cells": [
  {
   "attachments": {},
   "cell_type": "markdown",
   "metadata": {},
   "source": [
    "### Tema: Rezolvati una sau mai multe dintre problemele urmatoare, la alegere"
   ]
  },
  {
   "attachments": {},
   "cell_type": "markdown",
   "metadata": {},
   "source": [
    "### <a href=\"https://leetcode.com/problems/how-many-numbers-are-smaller-than-the-current-number/\"> Cate numere sunt mai mici </a>\n",
    "\n",
    "Avand dat un vector de numere intregi, calculati cate numere din acel vector sunt mai mici decat fiecare dintre elementele sale. Construiti un alt vector cu aceste rezultate. \n",
    "\n",
    "**Hint**: Sortati vectorul si dupa sortare, fiecare element va avea ca index numarul de numere mai mici decat el. \n",
    "Reconstruiti lista rezultat dupa lista de indecsi ai vectorului sortat. Aveti grija la duplicate. "
   ]
  },
  {
   "cell_type": "code",
   "execution_count": null,
   "metadata": {},
   "outputs": [],
   "source": []
  },
  {
   "cell_type": "code",
   "execution_count": 4,
   "metadata": {},
   "outputs": [
    {
     "data": {
      "text/plain": [
       "[4, 0]"
      ]
     },
     "execution_count": 4,
     "metadata": {},
     "output_type": "execute_result"
    }
   ],
   "source": [
    "nums = [8,1,2,2,3]\n",
    "rezultat = []\n",
    "\n",
    "# numarul stabilit:\n",
    "nums[0]\n",
    "count = 0\n",
    "\n",
    "# este nums[0] < nums[0] da -> count + 1, nu -> merg mai departe\n",
    "# este nums[1] < nums[0] \n",
    "# este nums[2] < nums[0]\n",
    "# este nums[3] < nums[0]\n",
    "# este nums[4] < nums[0]\n",
    "\n",
    "for numar in nums:\n",
    "    if numar < nums[0]:\n",
    "        count += 1\n",
    "\n",
    "rezultat.append(count)\n",
    "\n",
    "\n",
    "# noul numar stabilit:\n",
    "nums[1]\n",
    "count = 0\n",
    "\n",
    "# este nums[0] < nums[1] da -> count + 1, nu -> merg mai departe\n",
    "# este nums[1] < nums[1] \n",
    "# este nums[2] < nums[1]\n",
    "# este nums[3] < nums[1]\n",
    "# este nums[4] < nums[1]\n",
    "\n",
    "for numar in nums:\n",
    "    if numar < nums[1]:\n",
    "        count += 1\n",
    "\n",
    "rezultat.append(count)\n",
    "\n",
    "rezultat\n",
    "\n",
    "# ... continui iteratiile si fac acest cod pentru fiecare element in parte "
   ]
  },
  {
   "cell_type": "code",
   "execution_count": 5,
   "metadata": {},
   "outputs": [
    {
     "name": "stdout",
     "output_type": "stream",
     "text": [
      "[4, 0, 1, 1, 3]\n"
     ]
    }
   ],
   "source": [
    "# pentru fiecare element:\n",
    " # pentru fiecare element:\n",
    "  # numar cate numere sunt mai mici si construiesc lista\n",
    " # adaug acel count in lista rezultat\n",
    "\n",
    "nums = [8,1,2,2,3]\n",
    "rezultat = []\n",
    "\n",
    "for element in nums:\n",
    "    count = 0\n",
    "\n",
    "    for numar in nums:\n",
    "        if numar < element:\n",
    "            count += 1\n",
    "\n",
    "    rezultat.append(count)\n",
    "\n",
    "print(rezultat)"
   ]
  },
  {
   "cell_type": "code",
   "execution_count": 12,
   "metadata": {},
   "outputs": [
    {
     "name": "stdout",
     "output_type": "stream",
     "text": [
      "  Lista de numere sortata: [1, 2, 2, 3, 8]\n",
      "Indecsii listei de numere: [0, 1, 2, 3, 4]\n"
     ]
    }
   ],
   "source": [
    "nums = [8,1,2,2,3]\n",
    "\n",
    "print(f\"  Lista de numere sortata: {sorted(nums)}\")\n",
    "\n",
    "indecsi_dupa_sortare = []\n",
    "\n",
    "for i in range(len(nums)):\n",
    "    indecsi_dupa_sortare.append(i)\n",
    "\n",
    "print(f\"Indecsii listei de numere: {indecsi_dupa_sortare}\")"
   ]
  },
  {
   "attachments": {},
   "cell_type": "markdown",
   "metadata": {},
   "source": [
    "### <a href =\"https://leetcode.com/problems/two-sum/\"> Suma a doua numere </a>\n",
    "\n",
    "Avand dat un vector de numere intregi si un numar tinta (target), afisati perechea de indecsi ai elementelor din vector care dau suma `target`. De exemplu: <br>\n",
    "`vector = [2,7,11,15], target = 9`\n",
    "\n",
    "Numerele care verifica conditia data sunt 2 si 7, deci se va afisa perechea `[0, 1]` (indecsii lor). Afisati indecsii sub forma de lista. \n",
    "\n",
    "**Hint**: retineti intr-un dictionar perechile element - index. Cand am dat de un numar, daca exista in lista numar - target, inseamna ca am gasit perechea de numere cu suma dorita. "
   ]
  },
  {
   "cell_type": "code",
   "execution_count": null,
   "metadata": {},
   "outputs": [],
   "source": [
    "vector = [2, 7, 11, 15]\n",
    "target = 9"
   ]
  },
  {
   "cell_type": "code",
   "execution_count": null,
   "metadata": {},
   "outputs": [],
   "source": [
    "\n",
    "def suma_target(nums, target):\n",
    "    for i in range(len(nums)):\n",
    "        for j in range(i + 1, len(nums)):\n",
    "            if nums[i] + nums[j] == target:\n",
    "                return [i,j]\n",
    "    return []"
   ]
  }
 ],
 "metadata": {
  "kernelspec": {
   "display_name": "Python 3",
   "language": "python",
   "name": "python3"
  },
  "language_info": {
   "codemirror_mode": {
    "name": "ipython",
    "version": 3
   },
   "file_extension": ".py",
   "mimetype": "text/x-python",
   "name": "python",
   "nbconvert_exporter": "python",
   "pygments_lexer": "ipython3",
   "version": "3.11.3"
  },
  "orig_nbformat": 4
 },
 "nbformat": 4,
 "nbformat_minor": 2
}
