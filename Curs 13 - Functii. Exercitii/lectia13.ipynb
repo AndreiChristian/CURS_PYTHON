{
 "cells": [
  {
   "attachments": {},
   "cell_type": "markdown",
   "metadata": {},
   "source": [
    "### Call Stack\n",
    "\n",
    "Fiecarei functii i se atribuie o adresa in Call Stack (stiva de apel), si in acest mod interpretorul stie intodeauna unde se afla (ce functii executa si ce apeluri face)."
   ]
  },
  {
   "cell_type": "code",
   "execution_count": 25,
   "metadata": {},
   "outputs": [],
   "source": [
    "def a():\n",
    "    print(\"executia functiei a\")\n",
    "    b()\n",
    "    print(\"iesire din functia a\")\n",
    "    \n",
    "\n",
    "def b():\n",
    "    print(\"executia functiei b\")\n",
    "    c()\n",
    "    print(\"iesire din functia b\")\n",
    "\n",
    "\n",
    "def c():\n",
    "    print(\"executia functiei c\")\n",
    "\n",
    "    print(\"iesire din functia c\")\n",
    "\n",
    "def main():\n",
    "    print(\"punct de pornire in program. incep apelul functiilor:\")\n",
    "    a()\n",
    "    # b()\n",
    "    # c()\n",
    "    print(\"iesire din functia main\")"
   ]
  },
  {
   "cell_type": "code",
   "execution_count": 26,
   "metadata": {},
   "outputs": [
    {
     "name": "stdout",
     "output_type": "stream",
     "text": [
      "punct de pornire in program. incep apelul functiilor:\n",
      "executia functiei a\n",
      "executia functiei b\n",
      "executia functiei c\n",
      "iesire din functia c\n",
      "iesire din functia b\n",
      "iesire din functia a\n",
      "iesire din functia main\n"
     ]
    }
   ],
   "source": [
    "main()"
   ]
  }
 ],
 "metadata": {
  "kernelspec": {
   "display_name": "Python 3",
   "language": "python",
   "name": "python3"
  },
  "language_info": {
   "codemirror_mode": {
    "name": "ipython",
    "version": 3
   },
   "file_extension": ".py",
   "mimetype": "text/x-python",
   "name": "python",
   "nbconvert_exporter": "python",
   "pygments_lexer": "ipython3",
   "version": "3.11.3"
  },
  "orig_nbformat": 4
 },
 "nbformat": 4,
 "nbformat_minor": 2
}
