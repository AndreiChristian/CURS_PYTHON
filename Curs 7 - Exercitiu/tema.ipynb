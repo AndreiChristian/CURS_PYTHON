{
 "cells": [
  {
   "attachments": {},
   "cell_type": "markdown",
   "metadata": {},
   "source": [
    "### Tema: Paranteze\n",
    "\n",
    "Avand un sir de paranteze rotunde, scrieti un cod care verifica daca acel sir este echilibrat. \n",
    "- un sir de paranteze echilibrat inseamna ca toate parantezele sunt inchise, de ex: \"()(()())\"\n",
    "- un sir de paranteze care nu este echilibrat are cel putin o paranteze care nu este inchisa, de ex: \"())())\" <br>\n",
    "\n",
    "Codul va afisa \"echilibrat\" sau \"neechilibrat\" pe ecran in functie de sirul construit. "
   ]
  }
 ],
 "metadata": {
  "kernelspec": {
   "display_name": "Python 3",
   "language": "python",
   "name": "python3"
  },
  "language_info": {
   "codemirror_mode": {
    "name": "ipython",
    "version": 3
   },
   "file_extension": ".py",
   "mimetype": "text/x-python",
   "name": "python",
   "nbconvert_exporter": "python",
   "pygments_lexer": "ipython3",
   "version": "3.11.3"
  },
  "orig_nbformat": 4
 },
 "nbformat": 4,
 "nbformat_minor": 2
}
