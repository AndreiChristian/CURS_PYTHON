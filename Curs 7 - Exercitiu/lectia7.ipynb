{
 "cells": [
  {
   "attachments": {},
   "cell_type": "markdown",
   "metadata": {},
   "source": [
    "### <a href=\"https://leetcode.com/problems/single-number/\"> Numar unic </a>\n",
    "\n",
    "Avem o lista de numere, in care toate numerele sunt duplicat(apar de doua ori), exceptand unul singur. Afisati acel numar.\n",
    "\n",
    "Incercari si rezolvari:"
   ]
  },
  {
   "cell_type": "code",
   "execution_count": 24,
   "metadata": {},
   "outputs": [
    {
     "name": "stdout",
     "output_type": "stream",
     "text": [
      "4\n"
     ]
    }
   ],
   "source": [
    "# Rezolvare mai putin eficienta: foloseste instructiuni specializate si dureaza mult (6649ms pe testele Leetcode)\n",
    "\n",
    "vector = [1,2,1,4,2]\n",
    "\n",
    "# rezultat: 4\n",
    "\n",
    "for element in vector:\n",
    "    if vector.count(element) == 1:\n",
    "        print(element)"
   ]
  },
  {
   "cell_type": "code",
   "execution_count": 25,
   "metadata": {},
   "outputs": [
    {
     "name": "stdout",
     "output_type": "stream",
     "text": [
      "5\n"
     ]
    }
   ],
   "source": [
    "# Incercari cu XOR\n",
    "\n",
    "vector = [2, 3, 3, 2, 5]\n",
    "\n",
    "print(2 ^ 3 ^ 3 ^ 2 ^ 5)"
   ]
  },
  {
   "cell_type": "code",
   "execution_count": 26,
   "metadata": {},
   "outputs": [
    {
     "name": "stdout",
     "output_type": "stream",
     "text": [
      "5\n"
     ]
    }
   ],
   "source": [
    "# Rezolvarea cu XOR\n",
    "\n",
    "vector = [4, 1, 2, 1, 2, 3, 3, 5, 4]\n",
    "\n",
    "rezultat = 0\n",
    "\n",
    "for numar in vector:\n",
    "    rezultat = rezultat ^ numar\n",
    "\n",
    "print(rezultat)"
   ]
  },
  {
   "attachments": {},
   "cell_type": "markdown",
   "metadata": {},
   "source": [
    "### Numar de vocale intr-un sir de caractere\n",
    "\n",
    "Scrieti un cod care avand un sir de caractere (string), numara cate vocale contine. Pentru simplitate considerati ca sirul nu contine caractere care nu sunt vocala sau consoana si nici majuscule. "
   ]
  },
  {
   "cell_type": "code",
   "execution_count": 27,
   "metadata": {},
   "outputs": [
    {
     "name": "stdout",
     "output_type": "stream",
     "text": [
      "6\n"
     ]
    }
   ],
   "source": [
    "text = \"anaaremere\"\n",
    "\n",
    "# Vreau sa numar cate vocale contine stringul text\n",
    "\n",
    "# retin vocalele intr-un sir separat\n",
    "vocale = [\"a\", \"e\", \"i\", \"o\", \"u\"]\n",
    "\n",
    "# incep cu un numar_vocale = 0 (va retine numarul de vocale)\n",
    "numar_vocale = 0\n",
    "\n",
    "# parcurg sirul original caracter cu caracter si pentru fiecare caracter, verific daca se afla si in sirul de vocale\n",
    "for caracter in text:\n",
    "    if caracter in vocale:\n",
    "        numar_vocale += 1 # numar_vocale = numar_vocale + 1\n",
    "\n",
    "# afisez numarul de vocale calculat\n",
    "print(numar_vocale)"
   ]
  },
  {
   "attachments": {},
   "cell_type": "markdown",
   "metadata": {},
   "source": [
    "### Paranteze\n",
    "\n",
    "Avand un sir de paranteze rotunde, scrieti un cod care verifica daca acel sir este echilibrat. \n",
    "- un sir de paranteze echilibrat inseamna ca toate parantezele sunt inchise, de ex: \"()(()())\"\n",
    "- un sir de paranteze care nu este echilibrat are cel putin o paranteze care nu este inchisa, de ex: \"())())\" <br>\n",
    "\n",
    "Codul va afisa \"echilibrat\" sau \"neechilibrat\" pe ecran in functie de sirul construit. "
   ]
  },
  {
   "cell_type": "code",
   "execution_count": 5,
   "metadata": {},
   "outputs": [
    {
     "name": "stdout",
     "output_type": "stream",
     "text": [
      "neechilibrate\n"
     ]
    }
   ],
   "source": [
    "sir_paranteze = \"())(()\"\n",
    "# echivalent \n",
    "sir_lista = [\"(\", \")\", \"(\", \")\", ...]\n",
    "\n",
    "# fac o conventie in functie de paranteza intalnita:\n",
    "   # daca apare paranteza deschisa, adun 1 \n",
    "   # daca apare paranteza inchisa, scad 1\n",
    "\n",
    "conventie = 0\n",
    "incheiat = False\n",
    "\n",
    "for paranteza in sir_paranteze:\n",
    "   if conventie < 0:\n",
    "      print(\"neechilibrate\")\n",
    "      incheiat = True\n",
    "      break\n",
    "   \n",
    "   if paranteza == \"(\":\n",
    "      conventie += 1\n",
    "   elif paranteza == \")\":\n",
    "      conventie -= 1\n",
    "\n",
    "\n",
    "if conventie == 0 and incheiat == False:\n",
    "   print(\"echilibrate\")\n",
    "elif incheiat == False:\n",
    "   print(\"neechilibrate\")"
   ]
  }
 ],
 "metadata": {
  "kernelspec": {
   "display_name": "Python 3",
   "language": "python",
   "name": "python3"
  },
  "language_info": {
   "codemirror_mode": {
    "name": "ipython",
    "version": 3
   },
   "file_extension": ".py",
   "mimetype": "text/x-python",
   "name": "python",
   "nbconvert_exporter": "python",
   "pygments_lexer": "ipython3",
   "version": "3.11.3"
  },
  "orig_nbformat": 4
 },
 "nbformat": 4,
 "nbformat_minor": 2
}
