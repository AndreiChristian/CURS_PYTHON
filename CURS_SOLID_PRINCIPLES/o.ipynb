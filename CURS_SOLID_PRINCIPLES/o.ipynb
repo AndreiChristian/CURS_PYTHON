{
 "cells": [
  {
   "cell_type": "markdown",
   "metadata": {},
   "source": [
    "# Open-Closed Principle (OCP) \n",
    "## Principiul Deschiderii-Închiderii\n",
    "\n",
    "Principiul afirmă că \"entitățile software (clase, module, funcții etc.) ar trebui să fie deschise pentru extensie, dar închise pentru modificare\". În termeni simpli, ar trebui să poți adăuga noi funcționalități unei clase fără să modifici codul deja existent."
   ]
  },
  {
   "cell_type": "code",
   "execution_count": null,
   "metadata": {},
   "outputs": [],
   "source": [
    "# exemplu prost\n",
    "\n",
    "class Shape:\n",
    "    def area(self):\n",
    "        pass\n",
    "\n",
    "class Square(Shape):\n",
    "    def __init__(self, side):\n",
    "        self.side = side\n",
    "   \n",
    "\n",
    "class Circle(Shape):\n",
    "    def __init__(self, radius):\n",
    "        self.radius = radius\n",
    "\n",
    "class AreaCalculator:\n",
    "    def area(self, shape):\n",
    "        if isinstance(shape, Square):\n",
    "            return shape.side * shape.side\n",
    "        elif isinstance(shape, Circle):\n",
    "            return 3.14159 * shape.radius * shape.radius\n",
    "        elif isinstance(shape,Triangle):\n",
    "            return \"etc\"\n"
   ]
  },
  {
   "cell_type": "code",
   "execution_count": null,
   "metadata": {},
   "outputs": [],
   "source": [
    "# exemplu bun\n",
    "class Shape:\n",
    "    def area(self):\n",
    "        pass\n",
    "\n",
    "class Square(Shape):\n",
    "    def __init__(self, side):\n",
    "        self.side = side\n",
    "\n",
    "    def area(self):\n",
    "        return self.side * self.side\n",
    "\n",
    "class Circle(Shape):\n",
    "    def __init__(self, radius):\n",
    "        self.radius = radius\n",
    "\n",
    "    def area(self):\n",
    "        return 3.14159 * self.radius * self.radius\n",
    "\n",
    "class AreaCalculator:\n",
    "    def area(self, shape):\n",
    "        return shape.area()\n"
   ]
  },
  {
   "cell_type": "markdown",
   "metadata": {},
   "source": [
    "### EXERCITII"
   ]
  },
  {
   "cell_type": "code",
   "execution_count": null,
   "metadata": {},
   "outputs": [],
   "source": [
    "# exemplu rau\n",
    "class PaymentProcessor:\n",
    "    def process(self, payment_type, amount):\n",
    "        if payment_type == 'credit_card':\n",
    "            # Logic for processing credit card payment\n",
    "            pass\n",
    "        elif payment_type == 'paypal':\n",
    "            # Logic for processing PayPal payment\n",
    "            pass\n",
    "\n",
    "# exemplu bun\n",
    "class PaymentProcessor:\n",
    "    def process(self, payment_type, amount):\n",
    "        if payment_type == 'credit_card':\n",
    "            # Logic for processing credit card payment\n",
    "            pass\n",
    "        elif payment_type == 'paypal':\n",
    "            # Logic for processing PayPal payment\n",
    "            pass\n",
    "\n",
    "class Credit_card:\n",
    "    def process():\n",
    "        #se procesaza plata\n",
    "        pass\n",
    "\n",
    "class Paypal:\n",
    "    def process():\n",
    "        pass\n",
    "\n",
    "class Cash:\n",
    "    def process():\n",
    "        pass\n",
    "\n",
    "class Payment():\n",
    "    def process(self,tip_de_plata):\n",
    "        tip_de_plata.process()\n"
   ]
  },
  {
   "cell_type": "code",
   "execution_count": null,
   "metadata": {},
   "outputs": [],
   "source": [
    "class NotificationSender:\n",
    "    def send(self, notification_type, message):\n",
    "        if notification_type == 'email':\n",
    "            # Logic for sending email\n",
    "            pass\n",
    "        elif notification_type == 'sms':\n",
    "            # Logic for sending SMS\n",
    "            pass"
   ]
  }
 ],
 "metadata": {
  "kernelspec": {
   "display_name": "Python 3",
   "language": "python",
   "name": "python3"
  },
  "language_info": {
   "name": "python",
   "version": "3.11.2"
  },
  "orig_nbformat": 4
 },
 "nbformat": 4,
 "nbformat_minor": 2
}
