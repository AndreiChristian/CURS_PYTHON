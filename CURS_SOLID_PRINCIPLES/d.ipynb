{
 "cells": [
  {
   "cell_type": "markdown",
   "metadata": {},
   "source": [
    "# Dependency Inversion Principle (DIP) \n",
    "## Principiul Inversării Dependențelor\n",
    "Detalii\n",
    "Principiul Inversării Dependențelor ne spune că modulele de nivel înalt nu ar trebui să depindă de modulele de nivel jos. Ambele ar trebui să depindă de abstracții. De asemenea, abstracțiile nu ar trebui să depindă de detaliile implementării; detaliile implementării ar trebui să depindă de abstracții."
   ]
  },
  {
   "cell_type": "code",
   "execution_count": null,
   "metadata": {},
   "outputs": [],
   "source": [
    "# exemplu prost\n",
    "\n",
    "class MesajAfisare:\n",
    "    def afișează(self):\n",
    "        # Logica de accesare a bazei de date\n",
    "        # ...\n",
    "        print(\"Mesaj din baza de date\")\n"
   ]
  },
  {
   "cell_type": "code",
   "execution_count": null,
   "metadata": {},
   "outputs": [],
   "source": [
    "# exemplu bun\n",
    "from abc import ABC, abstractmethod\n",
    "\n",
    "class SursaMesaj(ABC):\n",
    "    @abstractmethod\n",
    "    def citește_mesaj(self):\n",
    "        pass\n",
    "\n",
    "class MesajDinBazaDeDate(SursaMesaj):\n",
    "    def citește_mesaj(self):\n",
    "        return \"Mesaj din baza de date\"\n",
    "\n",
    "class MesajDinAPI(SursaMesaj):\n",
    "    def citește_mesaj(self):\n",
    "        return \"Mesaj din API\"\n",
    "\n",
    "class MesajAfisare:\n",
    "    def __init__(self, sursa: SursaMesaj):\n",
    "        self.sursa = sursa\n",
    "\n",
    "    def afișează(self):\n",
    "        mesaj = self.sursa.citește_mesaj()\n",
    "        print(mesaj)\n"
   ]
  },
  {
   "cell_type": "markdown",
   "metadata": {},
   "source": [
    "### EXERCITII"
   ]
  },
  {
   "cell_type": "code",
   "execution_count": null,
   "metadata": {},
   "outputs": [],
   "source": [
    "class ManagerAngajați:\n",
    "    def salvează_angajat(self, tip_bază_date):\n",
    "        if tip_bază_date == 'MySQL':\n",
    "            # Logica pentru salvarea în MySQL\n",
    "            pass\n",
    "        elif tip_bază_date == 'MongoDB':\n",
    "            # Logica pentru salvarea în MongoDB\n",
    "            pass\n"
   ]
  },
  {
   "cell_type": "code",
   "execution_count": null,
   "metadata": {},
   "outputs": [],
   "source": [
    "class PlayerAudio:\n",
    "    def redă(self, tip_format):\n",
    "        if tip_format == 'MP3':\n",
    "            # Logica pentru redarea MP3\n",
    "            pass\n",
    "        elif tip_format == 'WAV':\n",
    "            # Logica pentru redarea WAV\n",
    "            pass\n"
   ]
  }
 ],
 "metadata": {
  "kernelspec": {
   "display_name": "Python 3",
   "language": "python",
   "name": "python3"
  },
  "language_info": {
   "name": "python",
   "version": "3.11.2"
  },
  "orig_nbformat": 4
 },
 "nbformat": 4,
 "nbformat_minor": 2
}
