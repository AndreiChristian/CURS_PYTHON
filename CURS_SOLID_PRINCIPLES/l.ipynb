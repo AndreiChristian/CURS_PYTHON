{
 "cells": [
  {
   "cell_type": "markdown",
   "metadata": {},
   "source": [
    "# Liskov Substitution Principle (LSP)\n",
    "## Principiul Substituției Liskov\n",
    "\n",
    "Detalii\n",
    "Acest principiu afirmă că obiectele unei clase de bază ar trebui să fie înlocuibile cu obiecte ale unei clase derivate, fără a afecta corectitudinea programului. Practic, dacă ai o clasă de bază și o clasă derivată, ar trebui să poți folosi clasa derivată în locul clasei de bază fără a întâmpina probleme."
   ]
  },
  {
   "cell_type": "code",
   "execution_count": null,
   "metadata": {},
   "outputs": [],
   "source": [
    "# exemplu prost\n",
    "class Dreptunghi:\n",
    "    def __init__(self, înălțime, lățime):\n",
    "        self.înălțime = înălțime\n",
    "        self.lățime = lățime\n",
    "\n",
    "    def arie(self):\n",
    "        return self.înălțime * self.lățime\n",
    "\n",
    "class Pătrat(Dreptunghi):\n",
    "    def __init__(self, latura):\n",
    "        super().__init__(latura, latura)\n"
   ]
  },
  {
   "cell_type": "code",
   "execution_count": null,
   "metadata": {},
   "outputs": [],
   "source": [
    "# exemplu bun\n",
    "from abc import ABC, abstractmethod\n",
    "\n",
    "class FormăGeometrică(ABC):\n",
    "    @abstractmethod\n",
    "    def arie(self):\n",
    "        pass\n",
    "\n",
    "class Dreptunghi(FormăGeometrică):\n",
    "    def __init__(self, înălțime, lățime):\n",
    "        self.înălțime = înălțime\n",
    "        self.lățime = lățime\n",
    "\n",
    "    def arie(self):\n",
    "        return self.înălțime * self.lățime\n",
    "\n",
    "class Pătrat(FormăGeometrică):\n",
    "    def __init__(self, latura):\n",
    "        self.latura = latura\n",
    "\n",
    "    def arie(self):\n",
    "        return self.latura * self.latura\n"
   ]
  },
  {
   "cell_type": "markdown",
   "metadata": {},
   "source": [
    "### EXERCITII"
   ]
  },
  {
   "cell_type": "code",
   "execution_count": null,
   "metadata": {},
   "outputs": [],
   "source": [
    "class Animal:\n",
    "    def se_mișcă(self):\n",
    "        return \"Merg pe pământ\"\n",
    "\n",
    "class Pește(Animal):\n",
    "    def se_mișcă(self):\n",
    "        return \"Înot în apă\"\n"
   ]
  },
  {
   "cell_type": "code",
   "execution_count": null,
   "metadata": {},
   "outputs": [],
   "source": [
    "class Vehicul:\n",
    "    def se_mișcă(self):\n",
    "        return \"Rulare pe pământ\"\n",
    "\n",
    "class Barcă(Vehicul):\n",
    "    def se_mișcă(self):\n",
    "        return \"Navigare pe apă\"\n"
   ]
  }
 ],
 "metadata": {
  "kernelspec": {
   "display_name": "Python 3",
   "language": "python",
   "name": "python3"
  },
  "language_info": {
   "name": "python",
   "version": "3.11.2"
  },
  "orig_nbformat": 4
 },
 "nbformat": 4,
 "nbformat_minor": 2
}
