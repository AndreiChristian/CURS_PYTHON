{
 "cells": [
  {
   "cell_type": "markdown",
   "metadata": {},
   "source": [
    "# Single Responsibility Principle (SRP) \n",
    "## Principiul Unicătății Responsabilității Detalii\n",
    "\n",
    "Acest principiu spune că o clasă ar trebui să aibă un singur motiv pentru a se schimba, adică o singură responsabilitate. Când o clasă are mai multe responsabilități, devine mai dificil de înțeles, modificat și testat. Imaginează-ți o clasă ca fiind un instrument într-o cutie de scule. Dacă ai un ciocan care încearcă să fie și șurubelniță, și foarfecă, lucrurile se complică repede."
   ]
  },
  {
   "cell_type": "code",
   "execution_count": null,
   "metadata": {},
   "outputs": [],
   "source": [
    "# exemplu prost\n",
    "\n",
    "class Report:\n",
    "    def __init__(self, title, content):\n",
    "        self.title = title\n",
    "        self.content = content\n",
    "\n",
    "    def generate_report(self):\n",
    "        # genereaza reportul\n",
    "        pass\n",
    "\n",
    "    def save_to_file(self, file_path):\n",
    "        # save to file\n",
    "        pass\n"
   ]
  },
  {
   "cell_type": "code",
   "execution_count": null,
   "metadata": {},
   "outputs": [],
   "source": [
    "# exemplu bun\n",
    "class Report:\n",
    "    def __init__(self, title, content):\n",
    "        self.title = title\n",
    "        self.content = content\n",
    "\n",
    "    def generate_report(self):\n",
    "        # Logic for generating the report\n",
    "        pass\n",
    "\n",
    "class ReportSaver:\n",
    "    def save_to_file(self, report, file_path):\n",
    "        # save to file\n",
    "        pass\n"
   ]
  },
  {
   "cell_type": "markdown",
   "metadata": {},
   "source": [
    "### EXERCITII"
   ]
  },
  {
   "cell_type": "code",
   "execution_count": null,
   "metadata": {},
   "outputs": [],
   "source": [
    "# exemplu prost\n",
    "class Employee:\n",
    "    def __init__(self, name, salary):\n",
    "        self.name = name\n",
    "        self.salary = salary\n",
    "\n",
    "    def calculate_tax(self):\n",
    "        return self.salary * 0.2\n",
    "\n",
    "    def save_to_database(self):\n",
    "        # Logic to save employee details to database\n",
    "        pass\n",
    "\n",
    "# exemplu bun\n",
    "\n",
    "class Employee:\n",
    "    def __init__(self, name, salary):\n",
    "        self.name = name\n",
    "        self.salary = salary\n",
    "\n",
    "    def calculate_tax(self):\n",
    "        return self.salary * 0.2\n",
    "\n",
    "\n",
    "class Employee_Tax_Database:\n",
    "    def __init__(self):\n",
    "        pass\n",
    "\n",
    "    def save_to_database(self):\n",
    "        # Logic to save employee details to database\n",
    "        pass"
   ]
  },
  {
   "cell_type": "code",
   "execution_count": null,
   "metadata": {},
   "outputs": [],
   "source": [
    "#exemplul prost\n",
    "\n",
    "class Order:\n",
    "\n",
    "    def __init__(self, items):\n",
    "\n",
    "        self.items = items\n",
    "\n",
    " \n",
    "\n",
    "    def calculate_total(self):\n",
    "\n",
    "        # Logic to calculate the total order value\n",
    "\n",
    "        pass\n",
    "\n",
    " \n",
    "\n",
    "    def print_invoice(self):\n",
    "\n",
    "        # Logic to print the invoice\n",
    "\n",
    "        pass\n",
    "\n",
    " \n",
    "\n",
    "#exemplul bun\n",
    "\n",
    "class Order:\n",
    "\n",
    "    def __init__(self, items):\n",
    "\n",
    "        self.items = items\n",
    "\n",
    " \n",
    "\n",
    "    def calculate_tax(self):\n",
    "\n",
    "        # Calculate total\n",
    "\n",
    "        pass\n",
    "\n",
    " \n",
    "\n",
    "class Invoice_Printer:\n",
    "\n",
    "    def __init__(self):\n",
    "\n",
    "        pass\n",
    "\n",
    "    def print_invoice(self):\n",
    "\n",
    "        pass"
   ]
  }
 ],
 "metadata": {
  "kernelspec": {
   "display_name": "Python 3",
   "language": "python",
   "name": "python3"
  },
  "language_info": {
   "name": "python",
   "version": "3.11.2"
  },
  "orig_nbformat": 4
 },
 "nbformat": 4,
 "nbformat_minor": 2
}
