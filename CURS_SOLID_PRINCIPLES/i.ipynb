{
 "cells": [
  {
   "cell_type": "markdown",
   "metadata": {},
   "source": [
    "# Interface Segregation Principle (ISP) \n",
    "## Principiul Segregării Interfețelor\n",
    "\n",
    "\n",
    "ISP ne spune că nicio clasă nu ar trebui să fie forțată să implementeze interfețe pe care nu le folosește. Adică, este mai bine să avem mai multe interfețe specifice decât o interfață \"face-tot\"."
   ]
  },
  {
   "cell_type": "code",
   "execution_count": null,
   "metadata": {},
   "outputs": [],
   "source": [
    "# exemplu prost\n",
    "\n",
    "class Imprimantă:\n",
    "    def printează(self):\n",
    "        pass\n",
    "\n",
    "    def scanează(self):\n",
    "        pass\n",
    "\n",
    "    def trimite_fax(self):\n",
    "        pass\n",
    "\n",
    "\n",
    "class ImprimantăSimplă(Imprimantă):\n",
    "    def printează(self):\n",
    "        return \"Document printat\"\n",
    "\n",
    "    def scanează(self):\n",
    "        return \"Această funcție nu este suportată\"\n",
    "\n",
    "    def trimite_fax(self):\n",
    "        return \"Această funcție nu este suportată\"\n",
    "\n"
   ]
  },
  {
   "cell_type": "code",
   "execution_count": null,
   "metadata": {},
   "outputs": [],
   "source": [
    "# exemplu bun \n",
    "class Imprimantă:\n",
    "    def printează(self):\n",
    "        pass\n",
    "\n",
    "class Scanner:\n",
    "    def scanează(self):\n",
    "        pass\n",
    "\n",
    "class Fax:\n",
    "    def trimite_fax(self):\n",
    "        pass\n",
    "\n",
    "class ImprimantăMultifuncțională(Imprimantă, Scanner, Fax):\n",
    "    # Implementează toate metodele\n",
    "    pass\n",
    "\n",
    "class ImprimantăSimplă(Imprimantă):\n",
    "    # Implementează doar metoda de printare\n",
    "    pass\n"
   ]
  },
  {
   "cell_type": "markdown",
   "metadata": {},
   "source": [
    "# EXERCITII"
   ]
  },
  {
   "cell_type": "code",
   "execution_count": null,
   "metadata": {},
   "outputs": [],
   "source": [
    "class DispozitivAudio:\n",
    "    def redă_muzică(self):\n",
    "        pass\n",
    "\n",
    "    def înregistrează_audio(self):\n",
    "        pass\n"
   ]
  },
  {
   "cell_type": "code",
   "execution_count": null,
   "metadata": {},
   "outputs": [],
   "source": [
    "class AplicațieMobil:\n",
    "    def deschide(self):\n",
    "        pass\n",
    "\n",
    "    def închide(self):\n",
    "        pass\n",
    "\n",
    "    def instalează_actualizare(self):\n",
    "        pass"
   ]
  }
 ],
 "metadata": {
  "kernelspec": {
   "display_name": "Python 3",
   "language": "python",
   "name": "python3"
  },
  "language_info": {
   "name": "python",
   "version": "3.11.2"
  },
  "orig_nbformat": 4
 },
 "nbformat": 4,
 "nbformat_minor": 2
}
