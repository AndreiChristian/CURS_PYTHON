{
 "cells": [
  {
   "attachments": {},
   "cell_type": "markdown",
   "metadata": {},
   "source": [
    "### Instructiuni basic in Python\n",
    "\n"
   ]
  },
  {
   "cell_type": "code",
   "execution_count": 27,
   "metadata": {},
   "outputs": [
    {
     "name": "stdout",
     "output_type": "stream",
     "text": [
      "Hello\n",
      "[1, 2, 3, 4, 5, 6, 7, 8, 9, 10, 11, 12, 13, 14, 15, 16, 17, 18, 19, 20, 21, 22, 23, 24, 25, 26, 27, 28, 29, 30, 31, 32, 33, 34, 35, 36, 37, 38, 39, 40, 41, 42, 43, 44, 45, 46, 47, 48, 49, 50, 51, 52, 53, 54, 55, 56, 57, 58, 59, 60, 61, 62, 63, 64, 65, 66, 67, 68, 69, 70, 71, 72, 73, 74, 75, 76, 77, 78, 79, 80, 81, 82, 83, 84, 85, 86, 87, 88, 89, 90, 91, 92, 93, 94, 95, 96, 97, 98, 99, 100]\n",
      "100\n"
     ]
    }
   ],
   "source": [
    "print(\"Hello\") #-> instructiune care afiseaza ceva la ecran\n",
    "\n",
    "inceput = 1\n",
    "sfarsit = 10\n",
    "range(inceput, sfarsit) #-> numara de la start la end, fara end\n",
    "vector = list(range(inceput, sfarsit)) #-> transform intr-o lista numaratoarea de la start la end\n",
    "\n",
    "lista_de_numere = [5, 6, 7, 8, 9, 10]\n",
    "lista_de_numere = list(range(1, 101))\n",
    "lungime_lista = len(lista_de_numere)  #-> cate elemente am in lista \n",
    "\n",
    "print(lista_de_numere)\n",
    "print(len(lista_de_numere))"
   ]
  },
  {
   "cell_type": "code",
   "execution_count": null,
   "metadata": {},
   "outputs": [],
   "source": [
    "#       0 1 2 3 4 5 6 7 8 9 10 11\n",
    "text = \"A n a   a r e   m e r e\"\n",
    "# print(len(text))\n",
    "\n",
    "print(text[1])"
   ]
  },
  {
   "attachments": {},
   "cell_type": "markdown",
   "metadata": {},
   "source": [
    "### Structuri simple de date \n",
    "\n",
    "#### Indexare\n",
    "\n",
    "Orice structura simpla de date (string(text), lista, tuplu) este indexata. \n",
    "Fiecare element din structura de date are asociat un index. <br>\n",
    "La ce e util: pot sa separ elementele si sa le accesez prin indexul lor."
   ]
  },
  {
   "cell_type": "code",
   "execution_count": null,
   "metadata": {},
   "outputs": [],
   "source": [
    "vector = [1, 2, 3, 4, 5, 6, 7, 8, 9, 10]\n",
    "print(vector)        #-> afiseaza vectorul\n",
    "print(len(vector))   #-> afiseaza numarul de elemente din vector\n",
    "print(vector[5])"
   ]
  },
  {
   "cell_type": "code",
   "execution_count": null,
   "metadata": {},
   "outputs": [],
   "source": [
    "lista = list(range(10))\n",
    "print(lista)"
   ]
  },
  {
   "cell_type": "code",
   "execution_count": null,
   "metadata": {},
   "outputs": [],
   "source": [
    "text = \"Anaaremere\"\n",
    "lungime_text = len(text)\n",
    "\n",
    "print(lungime_text)\n",
    "\n",
    "#parcurgerea textului caracter cu caracter pe baza indexului fiecarui caracter\n",
    "# print(text[0])\n",
    "# print(text[1])\n",
    "# print(text[2])\n",
    "# print(text[3])\n",
    "# print(text[4])\n",
    "# print(text[5])\n",
    "# print(text[6])\n",
    "# print(text[7])\n",
    "# print(text[8])\n",
    "# print(text[9])\n",
    "\n",
    "for index in range(lungime_text):\n",
    "    print(text[index])\n",
    "\n",
    "print(\"------------------------\")\n",
    "\n",
    "for caracter in text:\n",
    "    print(caracter)"
   ]
  },
  {
   "cell_type": "code",
   "execution_count": 8,
   "metadata": {},
   "outputs": [
    {
     "name": "stdout",
     "output_type": "stream",
     "text": [
      "mesaj\n"
     ]
    }
   ],
   "source": [
    "date = input(\"Mesajul care apare in prompt-ul in care mi se cere sa introduc date\") #-> instructiune care cere input de la utilizator\n",
    "\n",
    "print(date)"
   ]
  },
  {
   "attachments": {},
   "cell_type": "markdown",
   "metadata": {},
   "source": [
    "### Challenge\n",
    "\n",
    "Scrieti un program care cere numele vostru de la input, si afiseaza un mesaj de forma `\"Hello, nume!\"`"
   ]
  },
  {
   "cell_type": "code",
   "execution_count": 9,
   "metadata": {},
   "outputs": [
    {
     "name": "stdout",
     "output_type": "stream",
     "text": [
      "Hello Cristi, mesajul meu este: mesaj!\n"
     ]
    }
   ],
   "source": [
    "nume = input(\"Cum te numesti?\")\n",
    "mesaj = input(\"Scrie un mesaj\")\n",
    "\n",
    "print(f\"Hello {nume}, mesajul meu este: {mesaj}!\")"
   ]
  },
  {
   "attachments": {},
   "cell_type": "markdown",
   "metadata": {},
   "source": [
    "#### Experiment tipuri de date si cast"
   ]
  },
  {
   "cell_type": "code",
   "execution_count": 10,
   "metadata": {},
   "outputs": [
    {
     "name": "stdout",
     "output_type": "stream",
     "text": [
      "10\n",
      "Numar mai mic decat 10\n"
     ]
    }
   ],
   "source": [
    "numar = input(\"Scrie un numar\") #-> numarul este string\n",
    "print(numar)    #-> afiseaza un string(text)\n",
    "\n",
    "numar_intreg = int(numar)      #-> int(string) -> un string se tranforma in int\n",
    "numar_text = str(numar_intreg) #-> str(int)    -> un int se transforma in string\n",
    "\n",
    "if numar_intreg > 10:\n",
    "    print(\"Numar mai mare decat 10\")\n",
    "else:\n",
    "    print(\"Numar mai mic decat 10\")\n"
   ]
  },
  {
   "cell_type": "code",
   "execution_count": 15,
   "metadata": {},
   "outputs": [
    {
     "ename": "ValueError",
     "evalue": "invalid literal for int() with base 10: 'doispe'",
     "output_type": "error",
     "traceback": [
      "\u001b[1;31m---------------------------------------------------------------------------\u001b[0m",
      "\u001b[1;31mValueError\u001b[0m                                Traceback (most recent call last)",
      "Cell \u001b[1;32mIn[15], line 1\u001b[0m\n\u001b[1;32m----> 1\u001b[0m numar \u001b[39m=\u001b[39m \u001b[39mint\u001b[39;49m(\u001b[39minput\u001b[39;49m())\n\u001b[0;32m      3\u001b[0m \u001b[39mprint\u001b[39m(numar)\n\u001b[0;32m      4\u001b[0m \u001b[39mprint\u001b[39m(\u001b[39mtype\u001b[39m(numar))\n",
      "\u001b[1;31mValueError\u001b[0m: invalid literal for int() with base 10: 'doispe'"
     ]
    }
   ],
   "source": [
    "numar = int(input())\n",
    "\n",
    "print(numar)\n",
    "print(type(numar))"
   ]
  },
  {
   "attachments": {},
   "cell_type": "markdown",
   "metadata": {},
   "source": [
    "### Operatori matematici\n",
    "\n",
    "Operatori matematici cu care pot scrie operatii matematice. \n",
    "\n",
    "- `+`   -> plus matematic\n",
    "- `-`   -> minus matematic\n",
    "- `*`   -> inmultire matematica\n",
    "- `/`   -> impartire cu virgula (rezultatul este intotdeauna un float)\n",
    "- `//`  -> impartire intreaga (rezultatul este cel mai mare intreg mai mic sau egal decat numarul cu virgula)\n",
    "- `**`  -> ridicare la putere \n",
    "\n",
    "operand1 operator operand2 = rezultat"
   ]
  },
  {
   "cell_type": "code",
   "execution_count": 22,
   "metadata": {},
   "outputs": [
    {
     "name": "stdout",
     "output_type": "stream",
     "text": [
      "2.0\n",
      "16\n"
     ]
    }
   ],
   "source": [
    "print(5.5 // 2)\n",
    "print(2 ** 4)"
   ]
  },
  {
   "attachments": {},
   "cell_type": "markdown",
   "metadata": {},
   "source": [
    "## Flow Control\n",
    "\n",
    "Conrolul datelor si instructiunilor, interactiune cu calculatorul. \n",
    "\n",
    "### Operatori logici \n",
    "\n",
    "Operatori cu care scriu operatii logice. -> operatii din care vor rezulta valori logice/de adevar (True/False)\n",
    "\n",
    "Seamana cu chestii matematice:\n",
    "- `==`  -> operator care verifica egalitatea\n",
    "- `!=`  -> operator care verifica inegalitatea\n",
    "- `>`   -> mai mare (10 > 5 se traduce in intrebarea \"este 10 mai mare decat 5?\")\n",
    "- `<`   -> mai mic\n",
    "- `>=`  -> mai mare sau egal\n",
    "- `<=`  -> mai mic sau egal\n",
    "\n",
    "Nu mai seamana cu chestii matematice: Se folosesc in general cu valori logice \n",
    "- `or`  -> OR (SAU) \n",
    "- `and` -> AND (SI)\n",
    "- `not` -> NOT (negare) \n",
    "- `^`   -> XOR (or pe dos)\n",
    "\n",
    "<img src=\"logic.jpg\"> </img>\n",
    "\n",
    "Legenda: \n",
    "- A, B operatori logici (1 inseamna True, 0 inseamna False)\n",
    "- Y rezultatul (tot de tip 0/1 (False/True))"
   ]
  },
  {
   "cell_type": "code",
   "execution_count": 2,
   "metadata": {},
   "outputs": [
    {
     "name": "stdout",
     "output_type": "stream",
     "text": [
      "True\n",
      "False\n"
     ]
    }
   ],
   "source": [
    "print(5 <= 5)\n",
    "\n",
    "print(False or False)"
   ]
  },
  {
   "attachments": {},
   "cell_type": "markdown",
   "metadata": {},
   "source": [
    "### Elemente de control flow\n",
    "\n",
    "Conditie:\n",
    "- `if`      -> (daca): primeste o expresie logica si evalueaza la True/False\n",
    "- `else`    -> (altfel): se foloseste impreuna cu if (mai intotdeauna) si semnifica ce se intampla cand expresia evaluata nu este True\n",
    "\n",
    "Codul va arata de forma:\n",
    "\n",
    "<code> if expresie: <br>\n",
    "cod care se va rula daca expresia este True <br>\n",
    "else:   <br>\n",
    "    cod care se va rula daca expresia este False    <br>\n",
    "</code> "
   ]
  },
  {
   "cell_type": "code",
   "execution_count": 3,
   "metadata": {},
   "outputs": [
    {
     "name": "stdout",
     "output_type": "stream",
     "text": [
      "10 este mai mare decat 5\n"
     ]
    }
   ],
   "source": [
    "if (10 > 5):\n",
    "    print(\"10 este mai mare decat 5\")\n",
    "else:\n",
    "    print(\"10 nu este mai mare decat 5\")"
   ]
  },
  {
   "cell_type": "code",
   "execution_count": 7,
   "metadata": {},
   "outputs": [
    {
     "name": "stdout",
     "output_type": "stream",
     "text": [
      "Variabila nu exista\n"
     ]
    }
   ],
   "source": [
    "variabila = 0\n",
    "\n",
    "if variabila:\n",
    "    print(\"Variabila exista\")\n",
    "else:\n",
    "    print(\"Variabila nu exista\")"
   ]
  },
  {
   "cell_type": "code",
   "execution_count": 21,
   "metadata": {},
   "outputs": [
    {
     "name": "stdout",
     "output_type": "stream",
     "text": [
      "salut\thello\n"
     ]
    }
   ],
   "source": [
    "print(input() + \"\\nhello\")\n",
    "\n",
    "# \\t -> tab (patru spatii)\n",
    "# \\n -> newline (trece pe randul urmator)"
   ]
  }
 ],
 "metadata": {
  "kernelspec": {
   "display_name": "Python 3",
   "language": "python",
   "name": "python3"
  },
  "language_info": {
   "codemirror_mode": {
    "name": "ipython",
    "version": 3
   },
   "file_extension": ".py",
   "mimetype": "text/x-python",
   "name": "python",
   "nbconvert_exporter": "python",
   "pygments_lexer": "ipython3",
   "version": "3.11.3"
  },
  "orig_nbformat": 4,
  "vscode": {
   "interpreter": {
    "hash": "ae9db6e0adbc91bbf2a4e52a371ad2c6e2e221ec3e109b22490793fdaff1cfb0"
   }
  }
 },
 "nbformat": 4,
 "nbformat_minor": 2
}
