{
 "cells": [
  {
   "attachments": {},
   "cell_type": "markdown",
   "metadata": {},
   "source": [
    "Feedback inainte de tema "
   ]
  },
  {
   "attachments": {},
   "cell_type": "markdown",
   "metadata": {},
   "source": [
    "### Experiment cu XOR\n",
    "\n",
    "In programul vostru veti avea un numar care reprezinta o parola. Cereti de la utilizator un alt numar ca input, si folosindu-va de XOR verificati daca numarul respectiv este sau nu parola aleasa de voi. (Nu aveti voie sa folositi operatorul `==`). Daca parola este corecta afisati un mesaj, altfel afisati un alt mesaj. \n",
    "Experimentati cu XOR pentru a descoperi cum faceti verificarea ca cele doua numere sunt aceleasi fara a folosi `==`. (XOR in Python este de forma `operator1 ^ operator2`). Fiti creativi"
   ]
  }
 ],
 "metadata": {
  "kernelspec": {
   "display_name": "Python 3",
   "language": "python",
   "name": "python3"
  },
  "language_info": {
   "codemirror_mode": {
    "name": "ipython",
    "version": 3
   },
   "file_extension": ".py",
   "mimetype": "text/x-python",
   "name": "python",
   "nbconvert_exporter": "python",
   "pygments_lexer": "ipython3",
   "version": "3.11.3"
  },
  "orig_nbformat": 4
 },
 "nbformat": 4,
 "nbformat_minor": 2
}
