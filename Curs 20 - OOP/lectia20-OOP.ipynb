{
 "cells": [
  {
   "cell_type": "markdown",
   "metadata": {},
   "source": [
    "## OOP - Object oriented programming "
   ]
  },
  {
   "cell_type": "markdown",
   "metadata": {},
   "source": [
    "Celula de cod de mai jos reprezinta o 'componenta' definita prin programare procedurala."
   ]
  },
  {
   "cell_type": "code",
   "execution_count": 1,
   "metadata": {},
   "outputs": [],
   "source": [
    "# Vreau o bucata de cod care sa reprezinte o persoana. \n",
    "\n",
    "# caracteristici \n",
    "nume = \"\"\n",
    "prenume = \"\"\n",
    "\n",
    "# actiuni pe care le poate face \n",
    "def prezentare(nume, prenume):\n",
    "    print(f\"Salut, eu sunt {nume} {prenume}.\")\n",
    "\n",
    "def intrebare():\n",
    "    print(f\"Ce mai faci?\")"
   ]
  },
  {
   "cell_type": "markdown",
   "metadata": {},
   "source": [
    "Modul de folosire al 'componentei' procedurale:"
   ]
  },
  {
   "cell_type": "code",
   "execution_count": 3,
   "metadata": {},
   "outputs": [
    {
     "name": "stdout",
     "output_type": "stream",
     "text": [
      "Salut, eu sunt Popescu Marcel.\n",
      "Ce mai faci?\n"
     ]
    }
   ],
   "source": [
    "# am initializat persoana (caracteristicile sale)\n",
    "nume = \"Popescu\"\n",
    "prenume = \"Marcel\"\n",
    "\n",
    "# efectuez actiuni ale persoanei \n",
    "prezentare(nume, prenume)\n",
    "intrebare()"
   ]
  },
  {
   "cell_type": "code",
   "execution_count": 4,
   "metadata": {},
   "outputs": [
    {
     "name": "stdout",
     "output_type": "stream",
     "text": [
      "Salut, eu sunt Stanescu George.\n",
      "Ce mai faci?\n"
     ]
    }
   ],
   "source": [
    "nume = \"Stanescu\"\n",
    "prenume = \"George\"\n",
    "\n",
    "prezentare(nume, prenume)\n",
    "intrebare()"
   ]
  },
  {
   "cell_type": "markdown",
   "metadata": {},
   "source": [
    "### Aceeasi componenta definita orientat pe obiect"
   ]
  },
  {
   "cell_type": "markdown",
   "metadata": {},
   "source": [
    "Codul de mai jos construieste reteta pentru o persoana. Defineste cum va arata un obiect de tip persoana.\n",
    "Mai jos este partea de definitie/dezvoltare/proiectare."
   ]
  },
  {
   "cell_type": "code",
   "execution_count": 6,
   "metadata": {},
   "outputs": [],
   "source": [
    "class Persoana:\n",
    "    \"\"\" Definitia unei clase de tip Persoana. \"\"\"\n",
    "\n",
    "    _nume = \"\"\n",
    "    __prenume = \"\"\n",
    "    parola = \"\"\n",
    "\n",
    "    def __init__(self, prenume = \" \", nume = \" \"):\n",
    "        self.__prenume = prenume\n",
    "        self._nume = nume\n",
    "\n",
    "    # Getter: metoda de tip get care imi ofera acces la caracteristica nume \n",
    "    def get_nume(self):\n",
    "        return self._nume\n",
    "    \n",
    "    # Setter: metoda de tip set care imi ofera acces la a schimba caracteristica nume\n",
    "    def set_nume(self, nume):\n",
    "        self._nume = nume\n",
    "\n",
    "    def prezentare(self):\n",
    "        \"\"\" Persoana se prezinta cu nume si prenume. \"\"\"\n",
    "\n",
    "        print(f\"Salut, eu sunt {self._nume} {self.__prenume}\")\n",
    "\n",
    "    def intrebare(self):\n",
    "        \"\"\" Persoana adreseaza o intrebare. \"\"\"\n",
    "\n",
    "        print(f\"{self.__prenume}: Ce mai faci?\")"
   ]
  },
  {
   "cell_type": "code",
   "execution_count": 9,
   "metadata": {},
   "outputs": [
    {
     "name": "stdout",
     "output_type": "stream",
     "text": [
      "Salut, eu sunt Nume Prenume\n",
      "Salut, eu sunt Cristi Prenume\n"
     ]
    }
   ],
   "source": [
    "# exteriorul clasei \n",
    "\n",
    "persoana = Persoana(\"Prenume\", \"Nume\")\n",
    "persoana.prezentare()\n",
    "\n",
    "persoana._nume = \"Cristi\"\n",
    "\n",
    "persoana.prezentare()\n"
   ]
  },
  {
   "cell_type": "markdown",
   "metadata": {},
   "source": [
    "Punerea in aplicare a clasei (instantiere)"
   ]
  },
  {
   "cell_type": "code",
   "execution_count": 3,
   "metadata": {},
   "outputs": [
    {
     "name": "stdout",
     "output_type": "stream",
     "text": [
      "Salut, eu sunt Popescu Marcel\n",
      "Salut, eu sunt Stanescu Ana\n",
      "Dan: Ce mai faci?\n",
      "Marcel: Ce mai faci?\n",
      "Numele persoanei 1 este: Popescu\n"
     ]
    }
   ],
   "source": [
    "persoana1 = Persoana(\"Popescu\", \"Marcel\")   # instantierea clasei -> obiectul persoana1\n",
    "persoana2 = Persoana(\"Stanescu\", \"Ana\")     # apeleaza functia init cu parametri ceruti -> initializeaza caracteristicile obiectului\n",
    "persoana3 = Persoana(\"Mihai\", \"Dan\")        # un obiect se mai numeste instanta a clasei\n",
    "\n",
    "persoana1.prezentare()\n",
    "persoana2.prezentare()\n",
    "persoana3.intrebare()\n",
    "persoana1.intrebare()\n",
    "\n",
    "print(f\"Numele persoanei 1 este: {persoana1.nume}\")\n"
   ]
  },
  {
   "cell_type": "code",
   "execution_count": 10,
   "metadata": {},
   "outputs": [
    {
     "name": "stdout",
     "output_type": "stream",
     "text": [
      "Rafa\n",
      "Alex\n",
      "Andrei\n",
      "Nicu\n",
      "Cecilia\n",
      "Ivo\n",
      "Bogdan\n",
      "Cristi\n"
     ]
    }
   ],
   "source": [
    "grupa = [Persoana(\"Rafa\"), Persoana(\"Alex\"), Persoana(\"Andrei\"), Persoana(\"Nicu\"), Persoana(\"Cecilia\"), Persoana(\"Ivo\"), Persoana(\"Bogdan\")]\n",
    "grupa.append(Persoana(\"Cristi\"))\n",
    "\n",
    "\n",
    "for persoana in grupa:\n",
    "    print(persoana.prenume)"
   ]
  },
  {
   "cell_type": "code",
   "execution_count": 11,
   "metadata": {},
   "outputs": [
    {
     "name": "stdout",
     "output_type": "stream",
     "text": [
      "Aceasta este o functie din solutie.\n"
     ]
    }
   ],
   "source": [
    "# exemplu de clasa fara __init__()\n",
    "class Solutie:\n",
    "    def functie(self):\n",
    "        print(\"Aceasta este o functie din solutie.\")\n",
    "\n",
    "\n",
    "solutie = Solutie()\n",
    "solutie.functie()"
   ]
  }
 ],
 "metadata": {
  "kernelspec": {
   "display_name": "Python 3",
   "language": "python",
   "name": "python3"
  },
  "language_info": {
   "codemirror_mode": {
    "name": "ipython",
    "version": 3
   },
   "file_extension": ".py",
   "mimetype": "text/x-python",
   "name": "python",
   "nbconvert_exporter": "python",
   "pygments_lexer": "ipython3",
   "version": "3.11.3"
  },
  "orig_nbformat": 4
 },
 "nbformat": 4,
 "nbformat_minor": 2
}
