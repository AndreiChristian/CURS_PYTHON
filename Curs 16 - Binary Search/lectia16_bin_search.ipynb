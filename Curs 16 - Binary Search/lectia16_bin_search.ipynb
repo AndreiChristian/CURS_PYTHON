{
 "cells": [
  {
   "attachments": {},
   "cell_type": "markdown",
   "metadata": {},
   "source": [
    "### Cautarea binara\n",
    "\n"
   ]
  },
  {
   "attachments": {},
   "cell_type": "markdown",
   "metadata": {},
   "source": [
    "Scrieti o functie care primeste o lista(vector) de elemente si un element cautat, si daca elementul exista in lista returneaza indexul sau, daca nu exista printeaza un mesaj. "
   ]
  },
  {
   "cell_type": "code",
   "execution_count": 10,
   "metadata": {},
   "outputs": [],
   "source": [
    "lista = list(range(100000000))"
   ]
  },
  {
   "cell_type": "code",
   "execution_count": 18,
   "metadata": {},
   "outputs": [
    {
     "name": "stdout",
     "output_type": "stream",
     "text": [
      "[2, 4, 5, 6, 7, 10, 12, 19, 20, 44]\n",
      "[2, 4, 5, 6, 7, 10]\n",
      "[2, 4, 5]\n",
      "[2]\n"
     ]
    }
   ],
   "source": [
    "lista = [2, 7, 10, 6, 4, 12, 20, 5, 19, 44]\n",
    "# lista.index(5)\n",
    "\n",
    "def cauta(element, lista):\n",
    "    for index in range(len(lista)):\n",
    "        if element == lista[index]:\n",
    "            return index\n",
    "        \n",
    "    print(\"Elementul nu exista in lista\")\n",
    "\n",
    "# Gandire cautarea binara\n",
    "\n",
    "lista.sort()\n",
    "print(lista)\n",
    "\n",
    "# caut elementul 5 in lista \n",
    "# sortez lista crescator si ma uit intotdeauna la jumatate (elementul din mijoc)\n",
    "# daca elementul cautat este mai mic decat mijlocul NU mai are sens sa iau in considerare jumatea superioara\n",
    "# elimin jumatatea care nu ma intereseaza si caut in jumatatea potrivita\n",
    "\n",
    "print(lista[0:6])\n",
    "print(lista[0:3])\n",
    "print(lista[0:1])\n",
    "# daca elementul "
   ]
  },
  {
   "attachments": {},
   "cell_type": "markdown",
   "metadata": {},
   "source": [
    "## Cautarea binara \n",
    "\n",
    "Lista trebuie sortata crescator. \n",
    "Am in vedere limitele si mijlocul listei in care caut, avand urmatorii indecsi:\n",
    "- low este limita inferioara\n",
    "- high este limita superioara \n",
    "- mid este mijlocul bucatii in care caut, anume $mid = (low + high) / 2$\n",
    "\n",
    "Adresez intrebarea daca elementul pe care il caut este mai mic sau mai mare decat elementul din mijloc. \n",
    "Daca este egal cu mijlocul bucatii in care caut, am gasit elementul si pot returna indexul. \n",
    "\n",
    "La inceput:\n",
    "- low = 0 (indexul de inceput al listei)\n",
    "- high = len(list) - 1 (indexul de final)\n",
    "\n",
    "Pe parcurs: \n",
    "- daca elementul cautat este lista[mid] atunci am gasit si pot returna mid (indexul elementului)\n",
    "- daca elementul cautat este mai mic decat lista[mid], atunci se modifica high\n",
    "- altfel, elementul se afla in a doua jumatate a bucatii, deci se modifica low\n",
    "\n",
    "Efectuez calculele cat timp low < high "
   ]
  },
  {
   "cell_type": "code",
   "execution_count": 20,
   "metadata": {},
   "outputs": [
    {
     "data": {
      "text/plain": [
       "2"
      ]
     },
     "execution_count": 20,
     "metadata": {},
     "output_type": "execute_result"
    }
   ],
   "source": [
    "# lista trebuie sortata si voi face cautarea pe o lista sortata crescator\n",
    "def binary_search(element, lista):\n",
    "    low = 0                 # indexul de inceput al listei\n",
    "    high = len(lista) - 1    # indexul de final din lista\n",
    "\n",
    "    while low <= high:      # algoritmul are sens cat timp low < high \n",
    "        mid = (low + high) // 2     # indexul de la jumatatea listei\n",
    "\n",
    "        if element == lista[mid]:   # deja am gasit elementul pe mijlocul listei\n",
    "            return mid\n",
    "        elif element < lista[mid]:\n",
    "            high = mid - 1\n",
    "        elif element > lista[mid]:\n",
    "            low = mid + 1\n",
    "\n",
    "    print(\"Elementul nu a fost gasit\")\n"
   ]
  },
  {
   "cell_type": "code",
   "execution_count": 4,
   "metadata": {},
   "outputs": [],
   "source": [
    "def cautare_normala(element, lista):\n",
    "    for index in range(len(lista)):\n",
    "        if element == lista[index]:\n",
    "            return index\n",
    "        \n",
    "    print(\"Elementul nu exista in lista\")\n",
    "\n",
    "\n",
    "def cautare_binara(element, lista):\n",
    "    low = 0                  # indexul de inceput al listei\n",
    "    high = len(lista) - 1    # indexul de final din lista\n",
    "\n",
    "    while low <= high:       # algoritmul are sens cat timp low < high \n",
    "        mid = (low + high) // 2     # indexul de la jumatatea listei\n",
    "\n",
    "        if element == lista[mid]:   # deja am gasit elementul pe mijlocul listei\n",
    "            return mid\n",
    "        elif element < lista[mid]:\n",
    "            high = mid - 1\n",
    "        elif element > lista[mid]:\n",
    "            low = mid + 1\n",
    "\n",
    "    print(\"Elementul nu a fost gasit\")"
   ]
  },
  {
   "cell_type": "code",
   "execution_count": 9,
   "metadata": {},
   "outputs": [],
   "source": [
    "lista = list(range(1000))"
   ]
  },
  {
   "cell_type": "code",
   "execution_count": 10,
   "metadata": {},
   "outputs": [
    {
     "data": {
      "text/plain": [
       "999"
      ]
     },
     "execution_count": 10,
     "metadata": {},
     "output_type": "execute_result"
    }
   ],
   "source": [
    "cautare_normala(999, lista)"
   ]
  },
  {
   "cell_type": "code",
   "execution_count": 11,
   "metadata": {},
   "outputs": [
    {
     "data": {
      "text/plain": [
       "999"
      ]
     },
     "execution_count": 11,
     "metadata": {},
     "output_type": "execute_result"
    }
   ],
   "source": [
    "cautare_binara(999, lista)"
   ]
  },
  {
   "cell_type": "code",
   "execution_count": 12,
   "metadata": {},
   "outputs": [
    {
     "name": "stdout",
     "output_type": "stream",
     "text": [
      "1024\n"
     ]
    }
   ],
   "source": [
    "print(2 ** 10)"
   ]
  }
 ],
 "metadata": {
  "kernelspec": {
   "display_name": "Python 3",
   "language": "python",
   "name": "python3"
  },
  "language_info": {
   "codemirror_mode": {
    "name": "ipython",
    "version": 3
   },
   "file_extension": ".py",
   "mimetype": "text/x-python",
   "name": "python",
   "nbconvert_exporter": "python",
   "pygments_lexer": "ipython3",
   "version": "3.11.3"
  },
  "orig_nbformat": 4
 },
 "nbformat": 4,
 "nbformat_minor": 2
}
