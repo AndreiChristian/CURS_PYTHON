{
 "cells": [
  {
   "attachments": {},
   "cell_type": "markdown",
   "metadata": {},
   "source": [
    "### Exercitii simple cu ce am lucrat pana acum\n",
    "\n",
    "1. Scrieti un program care afiseaza \"Hello, World!\".\n",
    "\n",
    "2. Scrieti o functie care primeste ca parametru un nume si afiseaza \"Hello, nume!\"\n",
    "\n",
    "3. Scrieti o functie care primeste ca parametru un numar n, si afiseaza numerele de la 1 la n.\n",
    "\n",
    "4. Scrieti o functie care primeste ca parametru un numar n, si verifica daca este par. Va returna True/False. \n",
    "\n",
    "5. Scrieti o functie care primeste ca parametru un string si afiseaza numarul de caractere din acel string. \n",
    "\n",
    "6. Scrieti o functie care primeste doua numere si afiseaza numarul mai mare. \n",
    "\n",
    "7. Scrieti o functie care primeste o lista si returneaza suma numerelor din acea lista.\n",
    "\n",
    "8. Scrieti o functie care primeste un numar n si afiseaza numerele pare mai mici decat acesta.\n",
    "\n",
    "9. Scrieti o functie care primeste o lista de numere si o afiseaza in ordine inversa. \n",
    "\n",
    "10. Scrieti o functie care primeste o lista de numere si afiseaza numerele pare din aceasta. \n",
    "\n",
    "11. Scrieti o functie care primeste un string si afiseaza numarul de vocale din acesta. \n",
    "\n",
    "12. Scrieti o functie care primeste un numar si afiseaza suma cifrelor acelui numar. \n",
    "\n",
    "13. Scrieti o functie care primeste un numar n si construieste doua liste, una cu numerele impare pana la n, si cealalta cu pare. \n",
    "\n",
    "14. Scrieti o functie care primeste o lista si construieste un dictionar cu chei indecsi incepand de la 0 si valorile din lista. \n",
    "\n",
    "15. Scrieti o functie care primeste un dictionar si afiseaza cheile. \n",
    "\n",
    "16. Scrieti o functie care primeste un dictionar si adauga intr-o lista intai cheile in ordine, apoi valorile. \n",
    "\n",
    "17. Scrieti o functie care primeste un string si verifica daca are mai mult de 10 caractere. Va returna True/False. \n",
    "\n",
    "18. Scrieti o functie care primeste o lista de numere in ordine aleatorie si afiseaza cea mai mare suma a doua numere din acea lista. \n",
    "\n",
    "19. Scrieti o functie care primeste doua liste de numere si afiseaza cate numere din cele doua liste sunt egale. \n",
    "\n",
    "20. Scrieti o functie care primeste un dictionar si sorteaza valorile. Va returna dictionarul cu aceleasi chei si valorile sortate."
   ]
  },
  {
   "attachments": {},
   "cell_type": "markdown",
   "metadata": {},
   "source": [
    "1. Scrieti o functie care afiseaza \"Hello, World!\"."
   ]
  },
  {
   "cell_type": "code",
   "execution_count": 2,
   "metadata": {},
   "outputs": [
    {
     "name": "stdout",
     "output_type": "stream",
     "text": [
      "Hello World!\n"
     ]
    }
   ],
   "source": [
    "def salut():\n",
    "    print(\"Hello World!\")\n",
    "\n",
    "salut()"
   ]
  },
  {
   "attachments": {},
   "cell_type": "markdown",
   "metadata": {},
   "source": [
    "2. Scrieti o functie care primeste ca parametru un nume si afiseaza \"Hello, nume!\""
   ]
  },
  {
   "cell_type": "code",
   "execution_count": 8,
   "metadata": {},
   "outputs": [
    {
     "name": "stdout",
     "output_type": "stream",
     "text": [
      "hello Cristi\n"
     ]
    }
   ],
   "source": [
    "# prima abordare: numele va fi dat ca input de la tastatura, primesc inputul dupa ce apelez functia si este rulata\n",
    "def hello():\n",
    "    nume = input(\"hello, name:\")\n",
    "    print(f\"hello {nume}\")\n",
    "\n",
    "hello()"
   ]
  },
  {
   "cell_type": "code",
   "execution_count": 9,
   "metadata": {},
   "outputs": [
    {
     "name": "stdout",
     "output_type": "stream",
     "text": [
      "hello Cristi\n"
     ]
    }
   ],
   "source": [
    "# a doua abordare: numele exista deja inainte de a se apela functia. Functia va primi acest nume ca parametru\n",
    "\n",
    "def hello(nume):\n",
    "    print(f\"hello {nume}\")\n",
    "\n",
    "nume = \"Cristi\"\n",
    "hello(nume)"
   ]
  },
  {
   "attachments": {},
   "cell_type": "markdown",
   "metadata": {},
   "source": [
    "3. Scrieti o functie care primeste ca parametru un numar n, si afiseaza numerele de la 1 la n."
   ]
  },
  {
   "cell_type": "code",
   "execution_count": 21,
   "metadata": {},
   "outputs": [
    {
     "name": "stdout",
     "output_type": "stream",
     "text": [
      "[1, 2, 3, 4, 5, 6, 7, 8, 9, 10]\n",
      "None\n"
     ]
    }
   ],
   "source": [
    "def lista_numere(n):\n",
    "    print(list(range(1, n+1, 1)))\n",
    "\n",
    "numar = 10\n",
    "lista_numere(numar)"
   ]
  },
  {
   "attachments": {},
   "cell_type": "markdown",
   "metadata": {},
   "source": [
    "4. Scrieti o functie care primeste ca parametru un numar n, si verifica daca este par. Va returna True/False. "
   ]
  },
  {
   "cell_type": "code",
   "execution_count": 24,
   "metadata": {},
   "outputs": [
    {
     "name": "stdout",
     "output_type": "stream",
     "text": [
      "Numarul 11 este par: False\n"
     ]
    }
   ],
   "source": [
    "def par(n):\n",
    "    if n % 2 == 0:\n",
    "        return True\n",
    "    # elif n % 2 != 0:\n",
    "    return False\n",
    "\n",
    "rezultat = par(11)\n",
    "print(f\"Numarul 11 este par: {par(11)}\")"
   ]
  },
  {
   "attachments": {},
   "cell_type": "markdown",
   "metadata": {},
   "source": [
    "5. Scrieti o functie care primeste ca parametru un string si afiseaza numarul de caractere din acel string. Nu iau in considerare spatiile. "
   ]
  },
  {
   "cell_type": "code",
   "execution_count": 7,
   "metadata": {},
   "outputs": [
    {
     "data": {
      "text/plain": [
       "10"
      ]
     },
     "execution_count": 7,
     "metadata": {},
     "output_type": "execute_result"
    }
   ],
   "source": [
    "text = \"Ana are mere\"\n",
    "\n",
    "def string(string):\n",
    "    numaratoare = 0\n",
    "    for character in string:\n",
    "        if character != \" \":\n",
    "            numaratoare += 1\n",
    "\n",
    "    return numaratoare\n",
    "    \n",
    "\n",
    "numaratoare = 0, 1, 2, 3, 3, 4\n",
    "\n",
    "string(text)"
   ]
  },
  {
   "attachments": {},
   "cell_type": "markdown",
   "metadata": {},
   "source": [
    "6. Scrieti o functie care primeste doua numere si afiseaza numarul mai mare. "
   ]
  },
  {
   "cell_type": "code",
   "execution_count": 1,
   "metadata": {},
   "outputs": [
    {
     "name": "stdout",
     "output_type": "stream",
     "text": [
      "Numarul mai mare dintre 10 si 12 este: 12\n"
     ]
    }
   ],
   "source": [
    "# abordare in care primesc inputul de la tastatura si afisez rezultatul pe ecran\n",
    "# def nums():\n",
    "#     a = int(input(\"A: \"))\n",
    "#     b = int(input(\"B: \"))\n",
    "\n",
    "#     if a > b:\n",
    "#         print(a)\n",
    "#     else:\n",
    "#         print(b)\n",
    "\n",
    "# nums()\n",
    "\n",
    "\n",
    "\n",
    "# abordare in care exista numerele deja in cod si le primesc ca parametri, si returnez rezultatul \n",
    "def compara_doua_numere(a, b):\n",
    "    if a > b:\n",
    "        return a\n",
    "    else:\n",
    "        return b\n",
    "    \n",
    "compara_doua_numere(20, 50)\n",
    " \n",
    "print(f\"Numarul mai mare dintre 10 si 12 este: {compara_doua_numere(10, compara_doua_numere(5, 12))}\")"
   ]
  },
  {
   "attachments": {},
   "cell_type": "markdown",
   "metadata": {},
   "source": [
    "7. Scrieti o functie care primeste o lista si returneaza suma numerelor din acea lista."
   ]
  },
  {
   "cell_type": "code",
   "execution_count": 11,
   "metadata": {},
   "outputs": [
    {
     "name": "stdout",
     "output_type": "stream",
     "text": [
      "Suma elementelor din lista: 30\n",
      "Suma numerelor este: 30\n"
     ]
    }
   ],
   "source": [
    "lista = [1, 2, 3, 9, 8, 7]\n",
    "\n",
    "def suma(lista):\n",
    "    suma = 0\n",
    "    for element in lista:\n",
    "        suma += element\n",
    "    \n",
    "    return suma\n",
    "\n",
    "print(f\"Suma elementelor din lista: {sum(lista)}\")  # functie built-in care calculeaza suma elementelor dintr-un container\n",
    "print(f\"Suma numerelor este: {suma(lista)}\")"
   ]
  },
  {
   "attachments": {},
   "cell_type": "markdown",
   "metadata": {},
   "source": [
    "8. Scrieti o functie care primeste un numar n si afiseaza numerele pare mai mici sau egale decat acesta."
   ]
  },
  {
   "cell_type": "code",
   "execution_count": 21,
   "metadata": {},
   "outputs": [
    {
     "name": "stdout",
     "output_type": "stream",
     "text": [
      "0\n",
      "2\n",
      "4\n",
      "6\n",
      "8\n",
      "10\n"
     ]
    }
   ],
   "source": [
    "def pare(n):\n",
    "    for numar in range(0, n):\n",
    "        if numar % 2 == 0:\n",
    "            print(numar)\n",
    "\n",
    "def pare2(n):\n",
    "    numar = 0\n",
    "    while numar < n:\n",
    "        if numar % 2 == 0:\n",
    "            print(numar)\n",
    "        numar += 1\n",
    "    \n",
    "pare2(10)"
   ]
  },
  {
   "attachments": {},
   "cell_type": "markdown",
   "metadata": {},
   "source": [
    "9. Scrieti o functie care primeste o lista de numere si o afiseaza in ordine inversa. "
   ]
  },
  {
   "cell_type": "code",
   "execution_count": 28,
   "metadata": {},
   "outputs": [
    {
     "data": {
      "text/plain": [
       "[6, 5, 4]"
      ]
     },
     "execution_count": 28,
     "metadata": {},
     "output_type": "execute_result"
    }
   ],
   "source": [
    "#        0  1  2\n",
    "lista = [4, 5, 6]\n",
    "\n",
    "def invers(lista):\n",
    "    solutie = []\n",
    "    for index in range(len(lista) - 1, -1, -1):\n",
    "        solutie.append(lista[index])\n",
    "        \n",
    "    return solutie\n",
    "\n",
    "invers(lista)"
   ]
  },
  {
   "attachments": {},
   "cell_type": "markdown",
   "metadata": {},
   "source": [
    "10. Scrieti o functie care primeste o lista de numere si afiseaza numerele pare din aceasta. "
   ]
  },
  {
   "cell_type": "code",
   "execution_count": 29,
   "metadata": {},
   "outputs": [
    {
     "name": "stdout",
     "output_type": "stream",
     "text": [
      "12\n",
      "14\n",
      "16\n"
     ]
    }
   ],
   "source": [
    "def pare(lista):\n",
    "    for element in lista:\n",
    "        if element % 2 == 0:\n",
    "            print(element)\n",
    "\n",
    "pare([11, 12, 13, 14, 15, 16])"
   ]
  },
  {
   "attachments": {},
   "cell_type": "markdown",
   "metadata": {},
   "source": [
    "10'. Scrieti o functie care primeste ca parametru o lista de numere si afiseaza cel mai mic numar din acea lista. "
   ]
  },
  {
   "cell_type": "code",
   "execution_count": 42,
   "metadata": {},
   "outputs": [
    {
     "name": "stdout",
     "output_type": "stream",
     "text": [
      "Minim: 6\n",
      "Minim calculat: 2\n"
     ]
    }
   ],
   "source": [
    "def numar_minim(lista):\n",
    "    minim = lista[0]\n",
    "    for numar in lista:\n",
    "        if numar < minim:\n",
    "            minim = numar\n",
    "    \n",
    "    return minim\n",
    "\n",
    "print(f\"Minim: {min([6, 2, 3, 4, 5])}\")\n",
    "print(f\"Minim calculat: {numar_minim([6, 2, 3, 4, 5])}\")"
   ]
  }
 ],
 "metadata": {
  "kernelspec": {
   "display_name": "Python 3",
   "language": "python",
   "name": "python3"
  },
  "language_info": {
   "codemirror_mode": {
    "name": "ipython",
    "version": 3
   },
   "file_extension": ".py",
   "mimetype": "text/x-python",
   "name": "python",
   "nbconvert_exporter": "python",
   "pygments_lexer": "ipython3",
   "version": "3.11.3"
  },
  "orig_nbformat": 4
 },
 "nbformat": 4,
 "nbformat_minor": 2
}
