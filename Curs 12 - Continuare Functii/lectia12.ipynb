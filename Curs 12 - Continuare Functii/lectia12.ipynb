{
 "cells": [
  {
   "attachments": {},
   "cell_type": "markdown",
   "metadata": {},
   "source": [
    "### Continuare explicatii Functii, CallStack \n",
    "\n",
    "#### Spatiu local vs Spatiu global\n",
    "\n",
    "Spatiul local (local scope):\n",
    "- este spatiul din interiorul functiei, toate variabilele (datele) declarate in spatiul local, vor fi vizibile doar in acest spatiu\n",
    "- in exteriorul functiei am acces doar la valoarea de return (rezultatul functiei) prin apelul ei, NU am acces nici la parametri si nici la alte date declarate in spatiul local\n",
    "\n",
    "Spatiul global (global scope):\n",
    "- reprezinta variabile (date) declarate in exteriorul oricarei functii \n",
    "- variabilele (datele) declarate in spatiul global sunt vizibile in spatii locale\n",
    "- variabilele (datele) declarate global pot fi modificate folosind cuvantul cheie global\n",
    "\n",
    "**BAD PRACTICE**\n",
    "- folosirea in functii a variabilelor globale fara sa le declar ca parametri\n",
    "- in general nu este recomandata folosirea datelor globale (care nu se afla in nicio functie)\n",
    "\n",
    "**!!** Intotdeauna fac legatura functiilor cu exteriorul prin parametri (Declar inputul functiilor prin parametri si vor fi primite datele ca argumente la apel)"
   ]
  },
  {
   "cell_type": "code",
   "execution_count": 10,
   "metadata": {},
   "outputs": [
    {
     "name": "stdout",
     "output_type": "stream",
     "text": [
      "Apelul functiei suma fara parametri -> 45\n",
      "Variabila globala = 10\n",
      "Apelul functiei produs(1,2,3) -> 60\n",
      "17\n"
     ]
    }
   ],
   "source": [
    "variabila = 10\n",
    "numar = 10\n",
    "\n",
    "def suma(a = 20, b = 10, c = 0):\n",
    "    \"\"\" Functie care primeste 3 numere si returneaza suma lor. \"\"\"\n",
    "\n",
    "    variabila = 15\n",
    "    \n",
    "    return a + b + c + variabila\n",
    "\n",
    "def produs(a, b, c = 1):\n",
    "    \"\"\" Functie care primeste 3 numere si returneaza produsul lor. \"\"\"\n",
    "\n",
    "    global variabila\n",
    "    variabila = 17\n",
    "\n",
    "    return a * b * c * numar\n",
    "\n",
    "print(f\"Apelul functiei suma fara parametri -> {suma()}\")\n",
    "print(f\"Variabila globala = {variabila}\")\n",
    "print(f\"Apelul functiei produs(1,2,3) -> {produs(1,2,3)}\")\n",
    "print(variabila)"
   ]
  }
 ],
 "metadata": {
  "kernelspec": {
   "display_name": "Python 3",
   "language": "python",
   "name": "python3"
  },
  "language_info": {
   "codemirror_mode": {
    "name": "ipython",
    "version": 3
   },
   "file_extension": ".py",
   "mimetype": "text/x-python",
   "name": "python",
   "nbconvert_exporter": "python",
   "pygments_lexer": "ipython3",
   "version": "3.11.3"
  },
  "orig_nbformat": 4
 },
 "nbformat": 4,
 "nbformat_minor": 2
}
