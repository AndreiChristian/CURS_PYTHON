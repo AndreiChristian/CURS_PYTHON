{
 "cells": [
  {
   "cell_type": "markdown",
   "metadata": {},
   "source": [
    "## INTRODUCERE\n",
    "\n",
    "Inteligența artificială (AI) este un subdomeniu al informaticii care se concentrează pe dezvoltarea de algoritmi și modele capabile să efectueze sarcini care necesită inteligență umană. Aceasta poate varia de la recunoașterea vocală și procesarea limbajului natural până la diagnosticul medical și pilotarea automată a vehiculelor. Ideea de bază este aceea de a dezvolta sisteme care să \"înțeleagă\", să \"raționeze\", să \"învețe\" și să \"acționeze\". Dar să fim clari, AI nu \"gândește\" în mod autonom ca un om; ea doar imită anumite aspecte ale gândirii umane."
   ]
  },
  {
   "cell_type": "markdown",
   "metadata": {},
   "source": [
    "### Cum Funcționează? \n",
    "\n",
    "Inteligența artificială funcționează pe baza a trei elemente cheie: algoritmi, statistici și date. Algoritmii sunt seturi de reguli sau instrucțiuni care ajută computerul să execute o anumită sarcină. Statisticile permit modelului să \"înțeleagă\" și să \"învețe\" din date. Iar datele sunt, bineînțeles, informațiile brute pe care modelul le folosește pentru a învăța. Fără date de calitate și în cantități mari, o inteligență artificială este ca un atlet fără antrenament: inutilă. Da, matematica și statistica sunt coloana vertebrală a AI, așa că dacă ați ignorat aceste materii la școală, acum e momentul să vă revizuiți."
   ]
  }
 ],
 "metadata": {
  "language_info": {
   "name": "python"
  },
  "orig_nbformat": 4
 },
 "nbformat": 4,
 "nbformat_minor": 2
}
