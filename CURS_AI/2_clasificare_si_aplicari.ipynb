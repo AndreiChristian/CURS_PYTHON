{
 "cells": [
  {
   "cell_type": "markdown",
   "metadata": {},
   "source": [
    "### **🎯 Machine Learning (ML) 🎯**\n",
    "\n",
    "- **Învățarea Supervizată**: Antrenarea modelului se face cu date etichetate.\n",
    "- **Învățarea Nonsupervizată**: Algoritmi care găsesc structuri în date fără etichete.\n",
    "- **Învățarea prin Reinforcement**: Învățare bazată pe recompense și penalizări.\n",
    "\n",
    "### **🗨️ Procesarea Limbajului Natural (NLP) 🗨️**\n",
    "\n",
    "- **Analiza Sentimentelor**: Determină tonul unui text.\n",
    "- **Generare de Text**: Chatbots, traduceri etc.\n",
    "\n",
    "### **💡 Computer Vision 💡**\n",
    "\n",
    "- **Recunoașterea Obiectelor**: Identificarea obiectelor din imagini.\n",
    "- **Recunoașterea Facială**: Identificarea sau verificarea persoanelor.\n",
    "\n",
    "### **🤖 Robotică 🤖**\n",
    "\n",
    "- **Roboți Autonomi**: Droni, roboți care navighează singuri.\n",
    "- **Manipulare Robotică**: Roboți care manevrează obiecte.\n",
    "\n",
    "### **📊 Analiza Datelor și Business Intelligence 📊**\n",
    "\n",
    "- **Analiză Predictivă**: Prezice tendințe viitoare din date istorice.\n",
    "- **Sisteme de Recomandare**: Algoritmi care recomandă produse sau servicii.\n",
    "\n",
    "### **🎮 AI în Jocuri 🎮**\n",
    "\n",
    "- **Inteligența NPC-urilor**: Crearea de caractere non-jucător inteligente.\n",
    "- **Optimizarea Jocurilor**: Adaptarea nivelurilor pentru a menține jucătorii angajați.\n",
    "\n",
    "### **🌐 Rețele Neuronale și Deep Learning 🌐**\n",
    "\n",
    "- **Rețele Convolutive**: Specializate în procesarea imaginilor.\n",
    "- **Rețele Recurente**: Potrivite pentru secvențe, ca seriile temporale sau text.\n",
    "\n",
    "### **🛡️ Securitate și Fraudă 🛡️**\n",
    "\n",
    "- **Detectarea Fraudelor**: Identifică activități suspecte.\n",
    "- **Securitate Cibernetică**: Protejează împotriva amenințărilor online.\n",
    "\n",
    "### **🏥 AI în Medicină 🏥**\n",
    "\n",
    "- **Diagnosticare**: Identificarea bolilor.\n",
    "- **Imagistică Medicală**: Îmbunătățirea și interpretarea imaginilor medicale."
   ]
  }
 ],
 "metadata": {
  "language_info": {
   "name": "python"
  },
  "orig_nbformat": 4
 },
 "nbformat": 4,
 "nbformat_minor": 2
}
