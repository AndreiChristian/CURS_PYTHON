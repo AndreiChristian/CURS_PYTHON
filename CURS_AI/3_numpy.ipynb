{
 "cells": [
  {
   "cell_type": "markdown",
   "metadata": {},
   "source": [
    "<a href=\"https://imgflip.com/i/815vvz\"><img src=\"https://i.imgflip.com/815vvz.jpg\" title=\"made at imgflip.com\"/></a><div><a href=\"https://imgflip.com/memegenerator\">from Imgflip Meme Generator</a></div>\n",
    "\n",
    "NumPy (Numerical Python) e o bibliotecă în Python special creată pentru manipularea de matrici, vectori și general orice lucruri ce țin de matematică numerică. E super rapidă (bine, pentru Python), și e fundația pe care se bazează o grămadă de alte biblioteci, cum ar fi Pandas, Matplotlib și chiar pachetele de machine learning ca scikit-learn.\n",
    "\n",
    "### **🚀 De Ce E Cool? 🚀**\n",
    "\n",
    "Pentru că vă ajută să faceți calcule complexe la viteze înalte, și cu un cod destul de curat și ușor de înțeles. Adică, în loc să scrii un for-loop imens pentru a aduna două liste element cu element, poți pur și simplu să faci **`lista1 + lista2`** și gata, magie!\n",
    "\n",
    "### **🧠 Elemente de Bază 🧠**\n",
    "\n",
    "- **Vectori**: Sunt ca listele din Python, dar mult mai rapide.\n",
    "- **Matrici**: Tablouri bidimensionale. Ideal pentru reprezentarea datelor.\n",
    "- **Funcții Universale (UFuncs)**: Funcții care pot opera pe vectori și matrici fără a trebui să folosiți loop-uri.\n",
    "\n",
    "### **🎯 Unde Se Folosește? 🎯**\n",
    "\n",
    "De la analiza de date și vizualizare, la simulări științifice, machine learning și practic orice lucru care necesită calcule numerice rapide și eficiente."
   ]
  },
  {
   "cell_type": "code",
   "execution_count": null,
   "metadata": {
    "vscode": {
     "languageId": "plaintext"
    }
   },
   "outputs": [],
   "source": [
    "import numpy as np  \n",
    "\n",
    "# Create a 1D array\n",
    "one_dim_array = np.array([1, 2, 3])\n",
    "# Output: [1 2 3]\n",
    "\n",
    "# Create a 2D array (Matrix)\n",
    "two_dim_array = np.array([[1, 2], [3, 4]])\n",
    "# Output: [[1 2]\n",
    "#          [3 4]]\n",
    "\n",
    "# Addition\n",
    "sum_array = np.array([1, 2, 3]) + np.array([4, 5, 6])\n",
    "# Output: [5 7 9]\n",
    "\n",
    "# Scalar Multiplication\n",
    "scaled_array = 2 * np.array([1, 2, 3])\n",
    "# Output: [2 4 6]\n",
    "\n",
    "# Square root of each element\n",
    "sqrt_array = np.sqrt([1, 4, 9])\n",
    "# Output: [1. 2. 3.]\n",
    "\n",
    "# Natural logarithm\n",
    "log_array = np.log([1, np.e, np.e**2])\n",
    "# Output: [0. 1. 2.]\n",
    "\n",
    "# Create a 2D array\n",
    "array_2d = np.array([[1, 2, 3], [4, 5, 6], [7, 8, 9]])\n",
    "\n",
    "# Get the first row\n",
    "first_row = array_2d[0]\n",
    "# Output: [1 2 3]\n",
    "\n",
    "# Get the last element from the last row\n",
    "last_elem = array_2d[-1, -1]\n",
    "# Output: 9\n",
    "\n",
    "# Reshape a 1D array to a 3x3 2D array\n",
    "reshaped_array = np.array([1, 2, 3, 4, 5, 6, 7, 8, 9]).reshape(3, 3)\n",
    "# Output: [[1 2 3]\n",
    "#          [4 5 6]\n",
    "#          [7 8 9]]\n",
    "\n",
    "# Mean of array\n",
    "mean_val = np.mean([1, 2, 3, 4, 5])\n",
    "# Output: 3.0\n",
    "\n",
    "# Standard Deviation\n",
    "std_dev = np.std([1, 2, 3, 4, 5])\n",
    "# Output: 1.4142135623730951"
   ]
  }
 ],
 "metadata": {
  "language_info": {
   "name": "python"
  },
  "orig_nbformat": 4
 },
 "nbformat": 4,
 "nbformat_minor": 2
}
