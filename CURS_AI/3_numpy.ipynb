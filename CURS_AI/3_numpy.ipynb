{
 "cells": [
  {
   "cell_type": "markdown",
   "metadata": {},
   "source": [
    "NumPy (Numerical Python) e o bibliotecă în Python special creată pentru manipularea de matrici, vectori și general orice lucruri ce țin de matematică numerică. E super rapidă (bine, pentru Python), și e fundația pe care se bazează o grămadă de alte biblioteci, cum ar fi Pandas, Matplotlib și chiar pachetele de machine learning ca scikit-learn.\n",
    "\n",
    "### **🚀 De Ce E Cool? 🚀**\n",
    "\n",
    "Pentru că vă ajută să faceți calcule complexe la viteze înalte, și cu un cod destul de curat și ușor de înțeles. Adică, în loc să scrii un for-loop imens pentru a aduna două liste element cu element, poți pur și simplu să faci **`lista1 + lista2`** și gata, magie!\n",
    "\n",
    "### **🧠 Elemente de Bază 🧠**\n",
    "\n",
    "- **Vectori**: Sunt ca listele din Python, dar mult mai rapide.\n",
    "- **Matrici**: Tablouri bidimensionale. Ideal pentru reprezentarea datelor.\n",
    "- **Funcții Universale (UFuncs)**: Funcții care pot opera pe vectori și matrici fără a trebui să folosiți loop-uri.\n",
    "\n",
    "### **🛠 Cum Îl Folosești? 🛠**\n",
    "\n",
    "1. **Instalare**: **`pip install numpy`** sau **`conda install numpy`** dacă ești pe Anaconda.\n",
    "2. **Importare**: **`import numpy as np`**\n",
    "3. **Creare de Array-uri**: **`np.array([1, 2, 3])`** pentru vectori sau **`np.array([[1, 2], [3, 4]])`** pentru matrici.\n",
    "\n",
    "### **🎯 Unde Se Folosește? 🎯**\n",
    "\n",
    "De la analiza de date și vizualizare, la simulări științifice, machine learning și practic orice lucru care necesită calcule numerice rapide și eficiente."
   ]
  }
 ],
 "metadata": {
  "language_info": {
   "name": "python"
  },
  "orig_nbformat": 4
 },
 "nbformat": 4,
 "nbformat_minor": 2
}
