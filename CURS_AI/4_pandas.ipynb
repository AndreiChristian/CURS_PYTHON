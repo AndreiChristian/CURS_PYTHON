{
 "cells": [
  {
   "cell_type": "markdown",
   "metadata": {},
   "source": [
    "<a href=\"https://imgflip.com/i/815vp6\"><img src=\"https://i.imgflip.com/815vp6.jpg\" title=\"made at imgflip.com\"/></a><div><a href=\"https://imgflip.com/memegenerator\">from Imgflip Meme Generator</a></div>\n",
    "\n",
    "### **🐼 Ce Este Pandas? 🐼**\n",
    "\n",
    "Pandas este o bibliotecă în Python folosită pentru manipularea și analiza datelor. E construită peste NumPy, deci multe dintre funcționalități sunt similare. Principalii \"actori\" aici sunt DataFrame-ul și Series-ul.\n",
    "\n",
    "### **🚀 De Ce E Cool? 🚀**\n",
    "\n",
    "Pentru că face viața mult mai ușoară. Imaginează-ți că ai un tabel imens de date; cu Pandas, poți să-l filtrezi, să-l sortezi, să-l transformi în alt tabel sau chiar să creezi grafice, totul în câteva linii de cod.\n",
    "\n",
    "### **🧠 Elemente de Bază 🧠**\n",
    "\n",
    "- **Series**: Un vector cu etichete pentru index. Cam ca o listă, dar mai fancy.\n",
    "- **DataFrame**: Un tabel. Practic, o colecție de Series-uri.\n"
   ]
  },
  {
   "cell_type": "code",
   "execution_count": 1,
   "metadata": {},
   "outputs": [
    {
     "ename": "KeyError",
     "evalue": "'Salariu'",
     "output_type": "error",
     "traceback": [
      "\u001b[0;31m---------------------------------------------------------------------------\u001b[0m",
      "\u001b[0;31mKeyError\u001b[0m                                  Traceback (most recent call last)",
      "File \u001b[0;32m/Library/Frameworks/Python.framework/Versions/3.11/lib/python3.11/site-packages/pandas/core/indexes/base.py:3652\u001b[0m, in \u001b[0;36mIndex.get_loc\u001b[0;34m(self, key)\u001b[0m\n\u001b[1;32m   3651\u001b[0m \u001b[39mtry\u001b[39;00m:\n\u001b[0;32m-> 3652\u001b[0m     \u001b[39mreturn\u001b[39;00m \u001b[39mself\u001b[39;49m\u001b[39m.\u001b[39;49m_engine\u001b[39m.\u001b[39;49mget_loc(casted_key)\n\u001b[1;32m   3653\u001b[0m \u001b[39mexcept\u001b[39;00m \u001b[39mKeyError\u001b[39;00m \u001b[39mas\u001b[39;00m err:\n",
      "File \u001b[0;32m/Library/Frameworks/Python.framework/Versions/3.11/lib/python3.11/site-packages/pandas/_libs/index.pyx:147\u001b[0m, in \u001b[0;36mpandas._libs.index.IndexEngine.get_loc\u001b[0;34m()\u001b[0m\n",
      "File \u001b[0;32m/Library/Frameworks/Python.framework/Versions/3.11/lib/python3.11/site-packages/pandas/_libs/index.pyx:176\u001b[0m, in \u001b[0;36mpandas._libs.index.IndexEngine.get_loc\u001b[0;34m()\u001b[0m\n",
      "File \u001b[0;32mpandas/_libs/hashtable_class_helper.pxi:7080\u001b[0m, in \u001b[0;36mpandas._libs.hashtable.PyObjectHashTable.get_item\u001b[0;34m()\u001b[0m\n",
      "File \u001b[0;32mpandas/_libs/hashtable_class_helper.pxi:7088\u001b[0m, in \u001b[0;36mpandas._libs.hashtable.PyObjectHashTable.get_item\u001b[0;34m()\u001b[0m\n",
      "\u001b[0;31mKeyError\u001b[0m: 'Salariu'",
      "\nThe above exception was the direct cause of the following exception:\n",
      "\u001b[0;31mKeyError\u001b[0m                                  Traceback (most recent call last)",
      "\u001b[1;32m/Volumes/Elements/CURS_PYTHON/CURS_AI/4_pandas.ipynb Cell 2\u001b[0m line \u001b[0;36m2\n\u001b[1;32m     <a href='vscode-notebook-cell:/Volumes/Elements/CURS_PYTHON/CURS_AI/4_pandas.ipynb#W1sZmlsZQ%3D%3D?line=20'>21</a>\u001b[0m df_sortat \u001b[39m=\u001b[39m df\u001b[39m.\u001b[39msort_values(\u001b[39m'\u001b[39m\u001b[39mVarsta\u001b[39m\u001b[39m'\u001b[39m)\n\u001b[1;32m     <a href='vscode-notebook-cell:/Volumes/Elements/CURS_PYTHON/CURS_AI/4_pandas.ipynb#W1sZmlsZQ%3D%3D?line=21'>22</a>\u001b[0m medie_varsta \u001b[39m=\u001b[39m df[\u001b[39m'\u001b[39m\u001b[39mVarsta\u001b[39m\u001b[39m'\u001b[39m]\u001b[39m.\u001b[39mmean()\n\u001b[0;32m---> <a href='vscode-notebook-cell:/Volumes/Elements/CURS_PYTHON/CURS_AI/4_pandas.ipynb#W1sZmlsZQ%3D%3D?line=22'>23</a>\u001b[0m suma_salariu \u001b[39m=\u001b[39m df[\u001b[39m'\u001b[39;49m\u001b[39mSalariu\u001b[39;49m\u001b[39m'\u001b[39;49m]\u001b[39m.\u001b[39msum()\n\u001b[1;32m     <a href='vscode-notebook-cell:/Volumes/Elements/CURS_PYTHON/CURS_AI/4_pandas.ipynb#W1sZmlsZQ%3D%3D?line=23'>24</a>\u001b[0m df_group \u001b[39m=\u001b[39m df\u001b[39m.\u001b[39mgroupby(\u001b[39m'\u001b[39m\u001b[39mOcupatie\u001b[39m\u001b[39m'\u001b[39m)\u001b[39m.\u001b[39mmean()\n\u001b[1;32m     <a href='vscode-notebook-cell:/Volumes/Elements/CURS_PYTHON/CURS_AI/4_pandas.ipynb#W1sZmlsZQ%3D%3D?line=24'>25</a>\u001b[0m al_doilea_df \u001b[39m=\u001b[39m pd\u001b[39m.\u001b[39mDataFrame({\n\u001b[1;32m     <a href='vscode-notebook-cell:/Volumes/Elements/CURS_PYTHON/CURS_AI/4_pandas.ipynb#W1sZmlsZQ%3D%3D?line=25'>26</a>\u001b[0m     \u001b[39m'\u001b[39m\u001b[39mNume\u001b[39m\u001b[39m'\u001b[39m: [\u001b[39m'\u001b[39m\u001b[39mAndrei\u001b[39m\u001b[39m'\u001b[39m, \u001b[39m'\u001b[39m\u001b[39mMaria\u001b[39m\u001b[39m'\u001b[39m],\n\u001b[1;32m     <a href='vscode-notebook-cell:/Volumes/Elements/CURS_PYTHON/CURS_AI/4_pandas.ipynb#W1sZmlsZQ%3D%3D?line=26'>27</a>\u001b[0m     \u001b[39m'\u001b[39m\u001b[39mProiect\u001b[39m\u001b[39m'\u001b[39m: [\u001b[39m'\u001b[39m\u001b[39mProiect1\u001b[39m\u001b[39m'\u001b[39m, \u001b[39m'\u001b[39m\u001b[39mProiect2\u001b[39m\u001b[39m'\u001b[39m]\n\u001b[1;32m     <a href='vscode-notebook-cell:/Volumes/Elements/CURS_PYTHON/CURS_AI/4_pandas.ipynb#W1sZmlsZQ%3D%3D?line=27'>28</a>\u001b[0m })\n",
      "File \u001b[0;32m/Library/Frameworks/Python.framework/Versions/3.11/lib/python3.11/site-packages/pandas/core/frame.py:3760\u001b[0m, in \u001b[0;36mDataFrame.__getitem__\u001b[0;34m(self, key)\u001b[0m\n\u001b[1;32m   3758\u001b[0m \u001b[39mif\u001b[39;00m \u001b[39mself\u001b[39m\u001b[39m.\u001b[39mcolumns\u001b[39m.\u001b[39mnlevels \u001b[39m>\u001b[39m \u001b[39m1\u001b[39m:\n\u001b[1;32m   3759\u001b[0m     \u001b[39mreturn\u001b[39;00m \u001b[39mself\u001b[39m\u001b[39m.\u001b[39m_getitem_multilevel(key)\n\u001b[0;32m-> 3760\u001b[0m indexer \u001b[39m=\u001b[39m \u001b[39mself\u001b[39;49m\u001b[39m.\u001b[39;49mcolumns\u001b[39m.\u001b[39;49mget_loc(key)\n\u001b[1;32m   3761\u001b[0m \u001b[39mif\u001b[39;00m is_integer(indexer):\n\u001b[1;32m   3762\u001b[0m     indexer \u001b[39m=\u001b[39m [indexer]\n",
      "File \u001b[0;32m/Library/Frameworks/Python.framework/Versions/3.11/lib/python3.11/site-packages/pandas/core/indexes/base.py:3654\u001b[0m, in \u001b[0;36mIndex.get_loc\u001b[0;34m(self, key)\u001b[0m\n\u001b[1;32m   3652\u001b[0m     \u001b[39mreturn\u001b[39;00m \u001b[39mself\u001b[39m\u001b[39m.\u001b[39m_engine\u001b[39m.\u001b[39mget_loc(casted_key)\n\u001b[1;32m   3653\u001b[0m \u001b[39mexcept\u001b[39;00m \u001b[39mKeyError\u001b[39;00m \u001b[39mas\u001b[39;00m err:\n\u001b[0;32m-> 3654\u001b[0m     \u001b[39mraise\u001b[39;00m \u001b[39mKeyError\u001b[39;00m(key) \u001b[39mfrom\u001b[39;00m \u001b[39merr\u001b[39;00m\n\u001b[1;32m   3655\u001b[0m \u001b[39mexcept\u001b[39;00m \u001b[39mTypeError\u001b[39;00m:\n\u001b[1;32m   3656\u001b[0m     \u001b[39m# If we have a listlike key, _check_indexing_error will raise\u001b[39;00m\n\u001b[1;32m   3657\u001b[0m     \u001b[39m#  InvalidIndexError. Otherwise we fall through and re-raise\u001b[39;00m\n\u001b[1;32m   3658\u001b[0m     \u001b[39m#  the TypeError.\u001b[39;00m\n\u001b[1;32m   3659\u001b[0m     \u001b[39mself\u001b[39m\u001b[39m.\u001b[39m_check_indexing_error(key)\n",
      "\u001b[0;31mKeyError\u001b[0m: 'Salariu'"
     ]
    }
   ],
   "source": [
    "# Import Pandas\n",
    "import pandas as pd\n",
    "\n",
    "# Create a DataFrame\n",
    "df = pd.DataFrame({\n",
    "    'Nume': ['Andrei', 'Maria', 'Ion'],\n",
    "    'Varsta': [23, 25, 22],\n",
    "    'Ocupatie': ['Developer', 'Designer', 'Manager']\n",
    "})\n",
    "\n",
    "# Select a column\n",
    "nume_col = df['Nume']\n",
    "\n",
    "# Filter rows where age is greater than 23\n",
    "filtru_varsta = df[df['Varsta'] > 23]\n",
    "\n",
    "df['Salariu'] = [5000, 6000, 7000]\n",
    "df.drop('Salariu', axis=1, inplace=True)\n",
    "df.rename(columns={'Nume': 'Prenume'}, inplace=True)\n",
    "df_filtrat = df[(df['Varsta'] > 23) & (df['Ocupatie'] == 'Developer')]\n",
    "df_sortat = df.sort_values('Varsta')\n",
    "medie_varsta = df['Varsta'].mean()\n",
    "suma_salariu = df['Salariu'].sum()\n",
    "df_group = df.groupby('Ocupatie').mean()\n",
    "al_doilea_df = pd.DataFrame({\n",
    "    'Nume': ['Andrei', 'Maria'],\n",
    "    'Proiect': ['Proiect1', 'Proiect2']\n",
    "})\n",
    "\n",
    "df_combinat = pd.merge(df, al_doilea_df, on='Nume')"
   ]
  }
 ],
 "metadata": {
  "kernelspec": {
   "display_name": "Python 3",
   "language": "python",
   "name": "python3"
  },
  "language_info": {
   "codemirror_mode": {
    "name": "ipython",
    "version": 3
   },
   "file_extension": ".py",
   "mimetype": "text/x-python",
   "name": "python",
   "nbconvert_exporter": "python",
   "pygments_lexer": "ipython3",
   "version": "3.11.2"
  },
  "orig_nbformat": 4
 },
 "nbformat": 4,
 "nbformat_minor": 2
}
