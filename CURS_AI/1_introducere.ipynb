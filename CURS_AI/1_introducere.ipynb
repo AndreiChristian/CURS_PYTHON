{
 "cells": [
  {
   "cell_type": "markdown",
   "metadata": {},
   "source": [
    "## INTRODUCERE\n",
    "\n",
    "Inteligența artificială (AI) este un subdomeniu al informaticii care se concentrează pe dezvoltarea de algoritmi și modele capabile să efectueze sarcini care necesită inteligență umană. Aceasta poate varia de la recunoașterea vocală și procesarea limbajului natural până la diagnosticul medical și pilotarea automată a vehiculelor. Ideea de bază este aceea de a dezvolta sisteme care să \"înțeleagă\", să \"raționeze\", să \"învețe\" și să \"acționeze\"."
   ]
  },
  {
   "cell_type": "markdown",
   "metadata": {},
   "source": [
    "### Cum Funcționează? \n",
    "\n",
    "Inteligența artificială funcționează pe baza a trei elemente cheie: \n",
    "- algoritmi, \n",
    "- statistici \n",
    "- date. \n",
    "\n",
    "Algoritmii sunt seturi de reguli sau instrucțiuni care ajută computerul să execute o anumită sarcină. \n",
    "\n",
    "Statisticile permit modelului să \"înțeleagă\" și să \"învețe\" din date. Iar datele sunt, bineînțeles, informațiile brute pe care modelul le folosește pentru a învăța. Fără date de calitate și în cantități mari, o inteligență artificială este ca un atlet fără antrenament: inutilă. Da, matematica și statistica sunt coloana vertebrală a AI."
   ]
  },
  {
   "cell_type": "markdown",
   "metadata": {},
   "source": [
    "<a href=\"https://imgflip.com/i/815sk9\"><img src=\"https://i.imgflip.com/815sk9.jpg\" title=\"made at imgflip.com\"/></a><div><a href=\"https://imgflip.com/memegenerator\">from Imgflip Meme Generator</a></div>"
   ]
  }
 ],
 "metadata": {
  "language_info": {
   "name": "python"
  },
  "orig_nbformat": 4
 },
 "nbformat": 4,
 "nbformat_minor": 2
}
