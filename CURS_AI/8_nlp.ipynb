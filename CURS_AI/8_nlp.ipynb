{
 "cells": [
  {
   "cell_type": "markdown",
   "metadata": {},
   "source": [
    "### Ce este NLP?\n",
    "\n",
    "NLP se referă la interacțiunea automată între calculatoare și limbajul natural al oamenilor. Scopul este de a citi, înțelege și interpreta limbajul uman într-un mod valoros. NLP combină lingvistica cu informatica și inteligența artificială.\n",
    "\n",
    "### Sub-domenii\n",
    "\n",
    "- **Tokenizare**: Divizarea textului în fraze, cuvinte sau alte unități.\n",
    "- **POS Tagging (Part-of-Speech Tagging)**: Identificarea părților de vorbire (substantive, adjective, etc.).\n",
    "- **Named Entity Recognition (NER)**: Identificarea entităților (nume de persoane, organizații, locații etc.).\n",
    "- **Sentiment Analysis**: Evaluarea sentimentelor sau a atitudinilor exprimate într-un text.\n",
    "- **Text Classification**: Categorizarea textului în diferite clase.\n",
    "- **Machine Translation**: Traducerea automată a textului între limbi.\n",
    "- **Speech Recognition**: Transformarea vorbirii în text și viceversa.\n",
    "\n",
    "### Aplicații practice\n",
    "\n",
    "1. **Asistenți virtuali**: Siri, Alexa, Google Assistant.\n",
    "2. **Chatbots pentru serviciul clienți**: Automatizarea răspunsurilor la întrebări frecvente.\n",
    "3. **Filtrarea e-mailurilor**: Separarea spam-ului de e-mail-urile legitime.\n",
    "4. **Traducere automată**: Google Translate, Duolingo.\n",
    "5. **Analiza sentimentelor**: Evaluarea feedback-ului clienților pe platforme ca Amazon sau TripAdvisor.\n",
    "6. **Recunoașterea vorbirii**: Aplicații de transcriere sau de comenzi vocale.\n",
    "7. **Sisteme de recomandare**: Recomandări de produse, filme, muzică, etc. bazate pe text.\n",
    "8. **Extracția de informații**: Transformarea textului neorganizat în baze de date structurate."
   ]
  },
  {
   "cell_type": "code",
   "execution_count": 1,
   "metadata": {},
   "outputs": [
    {
     "name": "stdout",
     "output_type": "stream",
     "text": [
      "Sentiment(polarity=0.75, subjectivity=0.44999999999999996)\n"
     ]
    }
   ],
   "source": [
    "# pip install textblob\n",
    "\n",
    "from textblob import TextBlob\n",
    "\n",
    "text = \"I love programming. It is the best thing ever\"\n",
    "\n",
    "blob = TextBlob(text)\n",
    "\n",
    "print(blob.sentiment)\n",
    "\n",
    "# polarity\n",
    "# sub 0 negativ\n",
    "# peste 0 pozitiv\n",
    "# subiectiviate -> 0-1"
   ]
  }
 ],
 "metadata": {
  "kernelspec": {
   "display_name": "Python 3",
   "language": "python",
   "name": "python3"
  },
  "language_info": {
   "codemirror_mode": {
    "name": "ipython",
    "version": 3
   },
   "file_extension": ".py",
   "mimetype": "text/x-python",
   "name": "python",
   "nbconvert_exporter": "python",
   "pygments_lexer": "ipython3",
   "version": "3.11.2"
  },
  "orig_nbformat": 4
 },
 "nbformat": 4,
 "nbformat_minor": 2
}
