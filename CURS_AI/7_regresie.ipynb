{
 "cells": [
  {
   "cell_type": "markdown",
   "metadata": {},
   "source": [
    "### **🎯 Ce Este Regresia Liniară? 🎯**\n",
    "\n",
    "Regresia liniară este un tip de model predictiv care încearcă să stabilească o relație liniară între o variabilă dependentă (căreia îi spuneam *Y*) și una sau mai multe variabile independente (*X*).\n",
    "\n",
    "### **🚀 Aplicații Posibile 🚀**\n",
    "\n",
    "1. **Prezicerea Prețurilor Imobiliare**: Pe baza factorilor ca suprafață, număr de camere, locație etc.\n",
    "2. **Estimarea Vânzărilor**: Înțelegerea cum anumite factori ca publicitate, preț și sezonalitate afectează vânzările.\n",
    "3. **Managementul Resurselor**: În domenii ca agricultura, se poate estima producția pe baza variabilelor ca precipitații, tipul de sol și altele.\n",
    "4. **Sănătate**: Prezicerea răspunsului la un tratament pe baza datelor pacienților.\n",
    "\n",
    "### **👎 Dezavantaje și Limitări 👎**\n",
    "\n",
    "1. **Suprapotrivire sau Subpotrivire (Overfitting/Underfitting)**: Dacă modelul este prea simplu sau prea complex, nu va generaliza bine pe date noi.\n",
    "2. **Sensibilitate la Zgomot**: Datele neclare sau inexacte pot afecta semnificativ modelul.\n",
    "3. **Presupune o Relație Liniară**: Dacă relația dintre variabile nu este liniară, modelul nu va fi eficient.\n",
    "4. **Impactul Variabilelor Necorelate**: Dacă includem variabile care nu influențează variabila dependentă, modelul va fi mai puțin precis."
   ]
  }
 ],
 "metadata": {
  "kernelspec": {
   "display_name": "Python 3",
   "language": "python",
   "name": "python3"
  },
  "language_info": {
   "codemirror_mode": {
    "name": "ipython",
    "version": 3
   },
   "file_extension": ".py",
   "mimetype": "text/x-python",
   "name": "python",
   "nbconvert_exporter": "python",
   "pygments_lexer": "ipython3",
   "version": "3.11.2"
  },
  "orig_nbformat": 4
 },
 "nbformat": 4,
 "nbformat_minor": 2
}
