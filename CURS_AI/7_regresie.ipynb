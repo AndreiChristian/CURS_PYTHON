{
 "cells": [
  {
   "cell_type": "markdown",
   "metadata": {},
   "source": [
    "### **🎯 Ce Este Regresia Liniară? 🎯**\n",
    "\n",
    "Regresia liniară este un tip de model predictiv care încearcă să stabilească o relație liniară între o variabilă dependentă (căreia îi spuneam *Y*) și una sau mai multe variabile independente (*X*).\n",
    "\n",
    "### **🚀 Aplicații Posibile 🚀**\n",
    "\n",
    "1. **Prezicerea Prețurilor Imobiliare**: Pe baza factorilor ca suprafață, număr de camere, locație etc.\n",
    "2. **Estimarea Vânzărilor**: Înțelegerea cum anumite factori ca publicitate, preț și sezonalitate afectează vânzările.\n",
    "3. **Managementul Resurselor**: În domenii ca agricultura, se poate estima producția pe baza variabilelor ca precipitații, tipul de sol și altele.\n",
    "4. **Sănătate**: Prezicerea răspunsului la un tratament pe baza datelor pacienților.\n",
    "\n",
    "### **👎 Dezavantaje și Limitări 👎**\n",
    "\n",
    "1. **Suprapotrivire sau Subpotrivire (Overfitting/Underfitting)**: Dacă modelul este prea simplu sau prea complex, nu va generaliza bine pe date noi.\n",
    "2. **Sensibilitate la Zgomot**: Datele neclare sau inexacte pot afecta semnificativ modelul.\n",
    "3. **Presupune o Relație Liniară**: Dacă relația dintre variabile nu este liniară, modelul nu va fi eficient.\n",
    "4. **Impactul Variabilelor Necorelate**: Dacă includem variabile care nu influențează variabila dependentă, modelul va fi mai puțin precis."
   ]
  },
  {
   "cell_type": "code",
   "execution_count": 9,
   "metadata": {},
   "outputs": [
    {
     "name": "stdout",
     "output_type": "stream",
     "text": [
      "[87.5095716]\n"
     ]
    }
   ],
   "source": [
    "#pentru instalare\n",
    "# pip install numpy\n",
    "# pip install -U scikit-learn\n",
    "# pip install pandas\n",
    "\n",
    "from sklearn.linear_model import LinearRegression\n",
    "import numpy as np\n",
    "import pandas as pd\n",
    "\n",
    "# incarcam datele dintr o fila csv(comma separated value)/excel kindof in codul nostru\n",
    "df = pd.read_csv(\"./data/consum_de_energie.csv\")\n",
    "\n",
    "# selectam coloanele dorite si ne asiguram ca avem doar valori numerice\n",
    "pd_X = df[[\"temperatura\",\"numarul_de_persoane\",\"ora_din_zi\"]].values\n",
    "pd_y = df['consumul_de_energie'].values\n",
    "\n",
    "# print(df.head())\n",
    "# print(pd_X)\n",
    "# print(pd_y)\n",
    "\n",
    "# [temperatura,nr persoane, ora din zi]\n",
    "X = np.array(\n",
    "    [[22,5,12],\n",
    "    [18,3,6],\n",
    "    [27,10,18],\n",
    "    [23,4,14],\n",
    "    [21,2,9]]\n",
    "    )\n",
    "\n",
    "# consumul de energie (kWh)\n",
    "y = np.array([70,50,120,80,40])\n",
    "\n",
    "#initializam modelul de regresie lineara\n",
    "model = LinearRegression()\n",
    "\n",
    "# antrenam modelul\n",
    "model.fit(pd_X,pd_y)\n",
    "# model.fit(X,y)\n",
    "\n",
    "prezicere = model.predict([[25,6,15]])\n",
    "\n",
    "print(prezicere)\n"
   ]
  }
 ],
 "metadata": {
  "kernelspec": {
   "display_name": "Python 3",
   "language": "python",
   "name": "python3"
  },
  "language_info": {
   "codemirror_mode": {
    "name": "ipython",
    "version": 3
   },
   "file_extension": ".py",
   "mimetype": "text/x-python",
   "name": "python",
   "nbconvert_exporter": "python",
   "pygments_lexer": "ipython3",
   "version": "3.11.2"
  },
  "orig_nbformat": 4
 },
 "nbformat": 4,
 "nbformat_minor": 2
}
