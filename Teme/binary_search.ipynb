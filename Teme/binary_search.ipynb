{
 "cells": [
  {
   "attachments": {},
   "cell_type": "markdown",
   "metadata": {},
   "source": [
    "## Cautarea binara \n",
    "\n",
    "Lista trebuie sortata crescator. \n",
    "Am in vedere limitele si mijlocul listei in care caut, avand urmatorii indecsi:\n",
    "- low este limita inferioara\n",
    "- high este limita superioara \n",
    "- mid este mijlocul bucatii in care caut, anume $mid = (low + high) / 2$\n",
    "\n",
    "Adresez intrebarea daca elementul pe care il caut este mai mic sau mai mare decat elementul din mijloc. \n",
    "Daca este egal cu mijlocul bucatii in care caut, am gasit elementul si pot returna indexul. \n",
    "\n",
    "La inceput:\n",
    "- low = 0 (indexul de inceput al listei)\n",
    "- high = len(list) - 1 (indexul de final)\n",
    "\n",
    "Pe parcurs: \n",
    "- daca elementul cautat este lista[mid] atunci am gasit si pot returna mid (indexul elementului)\n",
    "- daca elementul cautat este mai mic decat lista[mid], atunci se modifica high\n",
    "- altfel, elementul se afla in a doua jumatate a bucatii, deci se modifica low\n",
    "\n",
    "Efectuez calculele cat timp low < high "
   ]
  },
  {
   "attachments": {},
   "cell_type": "markdown",
   "metadata": {},
   "source": [
    "#### Definiti functia binary_search si implementati-o\n",
    "\n",
    "Functia primeste o lista si un element si returneaza indexul elementului in lista daca s-a gasit, sau un mesaj sau -1 altfel. "
   ]
  },
  {
   "cell_type": "code",
   "execution_count": null,
   "metadata": {},
   "outputs": [],
   "source": []
  },
  {
   "attachments": {},
   "cell_type": "markdown",
   "metadata": {},
   "source": [
    "### Cateva probleme cu Binary Search\n",
    "\n",
    "#### 1. Definiti functia binary_search si implementati-o\n",
    "\n",
    "Functia primeste o lista si un element si returneaza indexul elementului in lista daca s-a gasit, sau un mesaj sau -1 altfel. "
   ]
  },
  {
   "cell_type": "code",
   "execution_count": null,
   "metadata": {},
   "outputs": [],
   "source": []
  },
  {
   "attachments": {},
   "cell_type": "markdown",
   "metadata": {},
   "source": [
    "2.Scrieti o functie care gaseste indexul primei aparitii unui numar intr-un vector. Avand dat un vector de numere ordonate crescator (cu numar arbitrar de aparitii ale aceluiasi element) si un numar cautat, functia returneaza indexul primei aparitii a numarului in vector. \n",
    "\n",
    "exemplu: 1 2 3 4 5 6 5 5 2 7 7 8 \n",
    "\n",
    "index(vector, 2) -> 1   <br>\n",
    "index(vector, 5) -> 4   <br>\n",
    "index(vector, 7) -> 9   <br>"
   ]
  },
  {
   "cell_type": "code",
   "execution_count": null,
   "metadata": {},
   "outputs": [],
   "source": []
  },
  {
   "attachments": {},
   "cell_type": "markdown",
   "metadata": {},
   "source": [
    "3.Scrieti o functie care gaseste intr-un vector fara duplicate perechi de numere avand suma un numar dat. Functia primeste ca parametri un vector si un numar (suma cautata) si returneaza perechile care insumate dau numarul respectiv. \n",
    "\n",
    "exemplu: vector = [1, 3, 5, 10, 4, 7, 2, 9, 12, 8] <br>\n",
    "         numar  = 12\n",
    "functia -> (3,9), (5,7), (10,2), (4,8)\n",
    "\n",
    "Solutia sa fie mai buna decat brute force (doua for-uri) -> complexitate mai buna decat $O(n^2)$"
   ]
  },
  {
   "cell_type": "code",
   "execution_count": null,
   "metadata": {},
   "outputs": [],
   "source": []
  }
 ],
 "metadata": {
  "language_info": {
   "name": "python"
  },
  "orig_nbformat": 4
 },
 "nbformat": 4,
 "nbformat_minor": 2
}
