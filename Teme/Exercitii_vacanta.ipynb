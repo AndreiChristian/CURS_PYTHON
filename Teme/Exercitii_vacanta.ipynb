{
  "cells": [
    {
      "cell_type": "markdown",
      "id": "e99e696b-aceb-4b0a-a6de-a335773eccba",
      "metadata": {
        "noteable": {
          "cell_type": "markdown"
        }
      },
      "source": [
        "# Exerciții de antrenament \n"
      ]
    },
    {
      "cell_type": "markdown",
      "id": "45b9c4fd-7afb-4535-88ca-a462c1920672",
      "metadata": {
        "noteable": {
          "cell_type": "markdown"
        }
      },
      "source": [
        "## Exercițiul 1\n",
        "\n",
        "Creați două variabile, `a` și `b`, atribuiți-le valorile 5 și 6, apoi schimbați valorile acestora între ele. Astfel, `a` ar trebui să aibă valoarea 6 și `b` valoarea 5."
      ]
    },
    {
      "cell_type": "code",
      "execution_count": null,
      "id": "7ea37953-a49b-48ac-9f98-70de181dbfe2",
      "metadata": {
        "noteable": {
          "cell_type": "code"
        }
      },
      "outputs": [],
      "source": []
    },
    {
      "cell_type": "markdown",
      "id": "3012090f-7a4e-44ed-aefe-deee2338b8e4",
      "metadata": {
        "noteable": {
          "cell_type": "markdown"
        }
      },
      "source": [
        "## Exercițiul 2\n",
        "\n",
        "Creați o variabilă `c` care este suma variabilelor `a` și `b` din exercițiul anterior. Apoi, verificați dacă `c` este un număr par sau impar. Dacă este par, printați \"c este par\", altfel printați \"c este impar\"."
      ]
    },
    {
      "cell_type": "code",
      "execution_count": null,
      "id": "b0c38c4f-f979-47e1-87cb-76bcbee06ad5",
      "metadata": {
        "jupyter": {
          "source_hidden": false
        },
        "noteable": {
          "cell_type": "code"
        }
      },
      "outputs": [],
      "source": []
    },
    {
      "cell_type": "markdown",
      "id": "5eca4e16-68f9-4848-ae64-a748a6ed00d0",
      "metadata": {
        "noteable": {
          "cell_type": "markdown"
        }
      },
      "source": [
        "## Exercițiul 3\n",
        "\n",
        "Creați o listă cu numerele de la 1 la 10. Apoi, adăugați la sfârșitul listei numerele 11 și 12 și eliminați primul număr din listă. La final, lista ar trebui să arate astfel: [2, 3, 4, 5, 6, 7, 8, 9, 10, 11, 12]."
      ]
    },
    {
      "cell_type": "code",
      "execution_count": null,
      "id": "6b9c1493-ebd0-4e20-a2a3-03f7f0eab402",
      "metadata": {
        "noteable": {
          "cell_type": "code"
        }
      },
      "outputs": [],
      "source": []
    },
    {
      "cell_type": "markdown",
      "id": "b7fbd9f6-2130-47e9-b792-8a0b04ca9904",
      "metadata": {
        "noteable": {
          "cell_type": "markdown"
        }
      },
      "source": [
        "## Exercițiul 4\n",
        "\n",
        "Creați un tuplu cu numerele de la 1 la 5. Apoi, transformați acest tuplu într-o listă, adăugați numărul 6 la sfârșitul listei și transformați lista înapoi în tuplu. La final, tuplul ar trebui să arate astfel: (1, 2, 3, 4, 5, 6)."
      ]
    },
    {
      "cell_type": "code",
      "execution_count": null,
      "id": "a22b98f2-d7ea-4156-8901-7921c4b353ac",
      "metadata": {
        "noteable": {
          "cell_type": "code"
        }
      },
      "outputs": [],
      "source": []
    },
    {
      "cell_type": "markdown",
      "id": "66db1189-7651-4140-8b5a-57b32e6d81aa",
      "metadata": {
        "noteable": {
          "cell_type": "markdown"
        }
      },
      "source": [
        "## Exercițiul 5\n",
        "\n",
        "Creați un dicționar care conține perechi de cheie-valoare unde cheia este un număr de la 1 la 5, iar valoarea este pătratul cheii. Dicționarul ar trebui să arate astfel: {1: 1, 2: 4, 3: 9, 4: 16, 5: 25}."
      ]
    },
    {
      "cell_type": "code",
      "execution_count": null,
      "id": "b1ea17b0-8ed0-4acd-addf-76ad91991d00",
      "metadata": {
        "noteable": {
          "cell_type": "code"
        }
      },
      "outputs": [],
      "source": []
    },
    {
      "cell_type": "markdown",
      "id": "8a88773b-5754-4123-9fce-83a7bb1cc040",
      "metadata": {
        "noteable": {
          "cell_type": "markdown"
        }
      },
      "source": [
        "## Exercițiul 6\n",
        "\n",
        "Creați un string care să conțină propoziția \"Python este un limbaj de programare foarte popular.\". Apoi, transformați toate literele în litere mici și înlocuiți cuvântul \"popular\" cu \"util\"."
      ]
    },
    {
      "cell_type": "code",
      "execution_count": null,
      "id": "e318df35-b579-4b72-8ced-f412b28225a2",
      "metadata": {
        "noteable": {
          "cell_type": "code"
        }
      },
      "outputs": [],
      "source": []
    },
    {
      "cell_type": "markdown",
      "id": "48e842aa-8c91-460e-bdd5-614bbfd0e9dc",
      "metadata": {
        "noteable": {
          "cell_type": "markdown"
        }
      },
      "source": [
        "## Exercițiul 7\n",
        "\n",
        "Scrieți un \"if\" care verifică dacă un număr este mai mare, egal sau mai mic decât 10. Testați cu un număr ales de voi."
      ]
    },
    {
      "cell_type": "code",
      "execution_count": null,
      "id": "2083b06b-1d35-4cc7-a1f1-da28092eab14",
      "metadata": {
        "noteable": {
          "cell_type": "code"
        }
      },
      "outputs": [],
      "source": []
    },
    {
      "cell_type": "markdown",
      "id": "fd66479d-6425-497d-adde-4c1975719b27",
      "metadata": {
        "noteable": {
          "cell_type": "markdown"
        }
      },
      "source": [
        "## Exercițiul 8\n",
        "\n",
        "Creați un \"for\" care parcurge o listă cu numerele de la 1 la 5 și printează fiecare număr."
      ]
    },
    {
      "cell_type": "code",
      "execution_count": null,
      "id": "6f4432d5-d3c5-47c0-88cc-c65c49236b3c",
      "metadata": {
        "noteable": {
          "cell_type": "code"
        }
      },
      "outputs": [],
      "source": []
    },
    {
      "cell_type": "markdown",
      "id": "34f991b7-f31b-454a-86a2-4b0ba48b919b",
      "metadata": {
        "noteable": {
          "cell_type": "markdown"
        }
      },
      "source": [
        "## Exercițiul 9\n",
        "\n",
        "Creați o funcție care primește un număr ca parametru și returnează pătratul acestuia. Apoi, apelați funcția cu numărul 7."
      ]
    },
    {
      "cell_type": "code",
      "execution_count": null,
      "id": "6039b3b8-84f2-47b3-aafc-35bfe1aaaabe",
      "metadata": {
        "noteable": {
          "cell_type": "code"
        }
      },
      "outputs": [],
      "source": []
    },
    {
      "cell_type": "markdown",
      "id": "5fab7657-64db-4347-b778-819cfb93aca2",
      "metadata": {
        "noteable": {
          "cell_type": "markdown"
        }
      },
      "source": [
        "## Exercițiul 10\n",
        "\n",
        "Implementați algoritmul de căutare binară. Funcția ar trebui să primească o listă sortată și un element pe care îl caută în listă. Dacă elementul este găsit, funcția ar trebui să returneze poziția acestuia în listă. Dacă elementul nu este găsit, funcția ar trebui să returneze -1. Testați funcția cu diferite liste si numere căutate."
      ]
    },
    {
      "cell_type": "code",
      "execution_count": null,
      "id": "d7b5cf0a-7bbe-4de0-870a-5667403c4597",
      "metadata": {
        "noteable": {
          "cell_type": "code"
        }
      },
      "outputs": [],
      "source": []
    },
    {
      "cell_type": "markdown",
      "id": "000a2f91-1b38-4c63-8839-82144e794497",
      "metadata": {
        "noteable": {
          "cell_type": "markdown"
        }
      },
      "source": [
        "## Exercițiul 11\n",
        "\n",
        "Creați o funcție care primește o listă de numere și returnează o nouă listă care conține doar numerele pare din lista inițială. Testați funcția."
      ]
    },
    {
      "cell_type": "code",
      "execution_count": null,
      "id": "89ec478f-03ec-4e36-8b91-0b0d0dedb533",
      "metadata": {
        "noteable": {
          "cell_type": "code"
        }
      },
      "outputs": [],
      "source": []
    },
    {
      "cell_type": "markdown",
      "id": "406ae81c-ffeb-4ebb-8851-c9d805da7683",
      "metadata": {
        "noteable": {
          "cell_type": "markdown"
        }
      },
      "source": [
        "## Exercițiul 12\n",
        "\n",
        "Creați o funcție care primește un string și returnează un nou string care conține caracterele inițiale în ordine inversă. Testați funcția cu string-ul \"Python\". Rezultatul ar trebui să fie \"nohtyP\"."
      ]
    },
    {
      "cell_type": "code",
      "execution_count": null,
      "id": "b080f185-e517-424d-8130-a80082fbbe1b",
      "metadata": {
        "noteable": {
          "cell_type": "code"
        }
      },
      "outputs": [],
      "source": []
    },
    {
      "cell_type": "markdown",
      "id": "a1bc5016-c6e6-48e6-9d85-c7d0fc9d0282",
      "metadata": {
        "noteable": {
          "cell_type": "markdown"
        }
      },
      "source": [
        "## Exercițiul 13\n",
        "\n",
        "Creați o funcție care primește o listă de numere și returnează suma tuturor numerelor din listă. Testați funcția."
      ]
    },
    {
      "cell_type": "code",
      "execution_count": null,
      "id": "c37baf1e-12b3-4d42-a590-f01989fb806d",
      "metadata": {
        "noteable": {
          "cell_type": "code"
        }
      },
      "outputs": [],
      "source": []
    },
    {
      "cell_type": "markdown",
      "id": "1adcf2ce-809e-4766-8cfd-fdc2b973b3c6",
      "metadata": {
        "noteable": {
          "cell_type": "markdown"
        }
      },
      "source": [
        "## Exercițiul 14\n",
        "\n",
        "Creați o funcție care primește un număr și returnează factorialul acestuia. Testați funcția cu numărul 5. Rezultatul ar trebui să fie 120."
      ]
    },
    {
      "cell_type": "code",
      "execution_count": null,
      "id": "a3eec674-9066-4968-ac84-f8df0aef25b9",
      "metadata": {
        "noteable": {
          "cell_type": "code"
        }
      },
      "outputs": [],
      "source": []
    },
    {
      "cell_type": "markdown",
      "id": "d292ce5a-d044-4beb-a6bd-870d19b1c6a8",
      "metadata": {
        "noteable": {
          "cell_type": "markdown"
        }
      },
      "source": [
        "## Exercițiul 15\n",
        "\n",
        "Creați o funcție care primește un string și returnează numărul de vocale din acel string. Testați funcția cu string-ul \"Python este un limbaj de programare foarte popular.\". Rezultatul ar trebui să fie 15."
      ]
    },
    {
      "cell_type": "code",
      "execution_count": null,
      "id": "429111c5-760e-4fd0-9058-4d716da642ef",
      "metadata": {
        "noteable": {
          "cell_type": "code"
        }
      },
      "outputs": [],
      "source": []
    },
    {
      "cell_type": "markdown",
      "id": "12ca809d-6a72-4550-875d-c26787a4fb67",
      "metadata": {
        "noteable": {
          "cell_type": "markdown"
        }
      },
      "source": [
        "## Exercițiul 16\n",
        "\n",
        "Creați o funcție care primește o listă de numere și returnează cel mai mare număr din listă. Testați funcția."
      ]
    },
    {
      "cell_type": "code",
      "execution_count": null,
      "id": "0af6d55d-74bc-4347-aa2f-af8c72bb7e42",
      "metadata": {
        "noteable": {
          "cell_type": "code"
        }
      },
      "outputs": [],
      "source": []
    },
    {
      "cell_type": "markdown",
      "id": "d4f55f8f-aad7-48d7-aa4a-b71221d696a4",
      "metadata": {
        "noteable": {
          "cell_type": "markdown"
        }
      },
      "source": [
        "## Exercițiul 17\n",
        "\n",
        "Creați o funcție care primește un număr și returnează o listă cu toți divizorii săi. Testați funcția. De exemplu, pentru 12, rezultatul ar trebui să fie [1, 2, 3, 4, 6, 12]."
      ]
    },
    {
      "cell_type": "code",
      "execution_count": null,
      "id": "1ff4ff0e-9dd8-479e-8ef4-2e98b5fc61b5",
      "metadata": {
        "noteable": {
          "cell_type": "code"
        }
      },
      "outputs": [],
      "source": []
    },
    {
      "cell_type": "markdown",
      "id": "96a310e4-fc7c-4bc7-9c00-7aa5a98b6ea9",
      "metadata": {
        "noteable": {
          "cell_type": "markdown"
        }
      },
      "source": [
        "## Exercițiul 18\n",
        "\n",
        "Creați o funcție care primește un string și returnează un dicționar care conține numărul de apariții al fiecărui caracter din string. Testați funcția cu string-ul \"Python este un limbaj de programare foarte popular.\". Rezultatul ar trebui să fie un dicționar în care fiecare cheie este un caracter din string, iar valoarea asociată este numărul de apariții al acelui caracter."
      ]
    },
    {
      "cell_type": "code",
      "execution_count": null,
      "id": "2115af98-6df0-40c6-9cfc-04687a0f724d",
      "metadata": {
        "noteable": {
          "cell_type": "code"
        }
      },
      "outputs": [],
      "source": []
    },
    {
      "cell_type": "markdown",
      "id": "87f09bd4-90e9-4a3f-b512-1d7c01ccc44b",
      "metadata": {
        "noteable": {
          "cell_type": "markdown"
        }
      },
      "source": [
        "## Exercițiul 19\n",
        "\n",
        "Creați o funcție care primește o listă de numere și returnează o nouă listă care conține doar numerele unice din lista inițială, în ordinea în care apar pentru prima dată. Testați funcția cu lista [1, 2, 3, 2, 1, 5, 6, 5, 5, 5]. Rezultatul ar trebui să fie [1, 2, 3, 5, 6]."
      ]
    },
    {
      "cell_type": "code",
      "execution_count": null,
      "id": "cf811415-10ef-4e97-9b6d-df82345ee54b",
      "metadata": {
        "noteable": {
          "cell_type": "code"
        }
      },
      "outputs": [],
      "source": []
    },
    {
      "cell_type": "markdown",
      "id": "1820a21b-47f5-4ea5-b45e-724bca04402b",
      "metadata": {
        "noteable": {
          "cell_type": "markdown"
        }
      },
      "source": [
        "## Exercițiul 20\n",
        "\n",
        "Creați o funcție care primește un string și returnează același string, dar cu fiecare al doilea caracter transformat în spațiu. Testați funcția cu string-ul \"Python este un limbaj de programare foarte popular.\". Rezultatul ar trebui să fie \"P y t h o n  e s t e  u n  l i m b a j  d e  p r o g r a m a r e  f o a r t e  p o p u l a r .\"."
      ]
    },
    {
      "cell_type": "code",
      "execution_count": null,
      "id": "9b669b65-b042-4f53-8b9f-8624484d8a63",
      "metadata": {
        "noteable": {
          "cell_type": "code"
        }
      },
      "outputs": [],
      "source": []
    },
    {
      "cell_type": "markdown",
      "id": "e29f5a9f-297a-451d-b1ef-a6366991a4c9",
      "metadata": {
        "noteable": {
          "cell_type": "markdown"
        }
      },
      "source": [
        "## Exercițiul 21\n",
        "\n",
        "Creați o funcție care primește un string și returnează numărul de cuvinte din acel string. Un cuvânt este definit ca o secvență de caractere alfanumerice. Testați funcția cu string-ul \"Python este un limbaj de programare foarte popular.\". Rezultatul ar trebui să fie 7."
      ]
    },
    {
      "cell_type": "code",
      "execution_count": null,
      "id": "42712021-eb05-4e7f-8377-7071bbf15aa7",
      "metadata": {
        "noteable": {
          "cell_type": "code"
        }
      },
      "outputs": [],
      "source": []
    },
    {
      "cell_type": "markdown",
      "id": "cf3825d2-9b38-40c7-bbef-071bbc3c4d94",
      "metadata": {
        "noteable": {
          "cell_type": "markdown"
        }
      },
      "source": [
        "## Exercițiul 22\n",
        "\n",
        "Creați o funcție care primește un număr și returnează un string care reprezintă numărul în binar. Nu puteți folosi funcția built-in bin() din Python. Testați funcția cu numărul 18. Rezultatul ar trebui să fie \"10010\"."
      ]
    },
    {
      "cell_type": "code",
      "execution_count": null,
      "id": "f6cac3d0-82c2-4df1-a7ee-8a7a91c4f49f",
      "metadata": {
        "noteable": {
          "cell_type": "code"
        }
      },
      "outputs": [],
      "source": []
    },
    {
      "cell_type": "markdown",
      "id": "a580b549-e3c2-485e-bee5-9c2806464e94",
      "metadata": {
        "noteable": {
          "cell_type": "markdown"
        }
      },
      "source": [
        "## Exercițiul 23\n",
        "\n",
        "Creați o funcție care primește un string și returnează același string, dar cu primele litere ale fiecărui cuvânt transformate în litere mari. Nu puteți folosi funcția built-in title() din Python. Testați funcția cu string-ul \"python este un limbaj de programare foarte popular.\". Rezultatul ar trebui să fie \"Python Este Un Limbaj De Programare Foarte Popular.\"."
      ]
    },
    {
      "cell_type": "code",
      "execution_count": null,
      "id": "7b00c99c-6e5c-4161-ad37-c940903d337f",
      "metadata": {
        "noteable": {
          "cell_type": "code"
        }
      },
      "outputs": [],
      "source": []
    },
    {
      "cell_type": "markdown",
      "id": "56844c48-21f1-45c9-a897-05492cf81b18",
      "metadata": {
        "noteable": {
          "cell_type": "markdown"
        }
      },
      "source": [
        "## Exercițiul 24\n",
        "\n",
        "Creați o funcție care primește un string și returnează un dicționar care conține numărul de apariții al fiecărui cuvânt din string. Un cuvânt este definit ca o secvență de caractere alfanumerice. Testați funcția cu string-ul \"Python este un limbaj de programare foarte popular. Python este folosit în multe domenii.\". Rezultatul ar trebui să fie un dicționar în care fiecare cheie este un cuvânt din string, iar valoarea asociată este numărul de apariții al acelui cuvânt."
      ]
    },
    {
      "cell_type": "code",
      "execution_count": null,
      "id": "deed13f3-fad3-4371-aab9-00b616ac79ee",
      "metadata": {
        "noteable": {
          "cell_type": "code"
        }
      },
      "outputs": [],
      "source": []
    },
    {
      "cell_type": "markdown",
      "id": "459c98d3-afdd-47fa-a061-adcf7790ef46",
      "metadata": {
        "noteable": {
          "cell_type": "markdown"
        }
      },
      "source": [
        "## Exercițiul 25\n",
        "\n",
        "Creați o funcție care primește un string și returnează același string, dar cu toate vocalele eliminate. Testați funcția cu string-ul \"Python este un limbaj de programare foarte popular.\". Rezultatul ar trebui să fie \"Pythn st n lmbj d prgrmr frt pplr.\"."
      ]
    },
    {
      "cell_type": "code",
      "execution_count": null,
      "id": "59f7cd16-cd67-4100-9a6a-a5a925e43b3e",
      "metadata": {
        "noteable": {
          "cell_type": "code"
        }
      },
      "outputs": [],
      "source": []
    },
    {
      "cell_type": "markdown",
      "id": "0a9d0f46-263c-4ba1-9adf-5f158cfd4aff",
      "metadata": {
        "noteable": {
          "cell_type": "markdown"
        }
      },
      "source": [
        "## Exercițiul 26\n",
        "\n",
        "Creați o funcție care primește un string și returnează același string, dar cu toate literele mari transformate în litere mici și toate literele mici transformate în litere mari. Testați funcția cu string-ul \"Python ESTE un LIMBAJ de PROGRAMARE foarte POPULAR.\". Rezultatul ar trebui să fie \"pYTHON este UN limbaj DE programare FOARTE popular.\"."
      ]
    },
    {
      "cell_type": "code",
      "execution_count": null,
      "id": "e4bd1c86-7523-4b62-9bb7-43b79d3e1915",
      "metadata": {
        "noteable": {
          "cell_type": "code"
        }
      },
      "outputs": [],
      "source": []
    },
    {
      "cell_type": "markdown",
      "id": "8ccb877f-d754-4892-900f-dec32f62aacb",
      "metadata": {
        "noteable": {
          "cell_type": "markdown"
        }
      },
      "source": [
        "## Exercițiul 27\n",
        "\n",
        "Creați o funcție care primește un string și returnează același string, dar cu toate spațiile eliminate. Testați funcția cu string-ul \"Python este un limbaj de programare foarte popular.\". Rezultatul ar trebui să fie \"Pythonesteunlimbajdeprogramarefoartepopular.\"."
      ]
    },
    {
      "cell_type": "code",
      "execution_count": null,
      "id": "3e31539b-16f6-4efb-9cf3-2605f41b7e54",
      "metadata": {
        "noteable": {
          "cell_type": "code"
        }
      },
      "outputs": [],
      "source": []
    },
    {
      "cell_type": "markdown",
      "id": "14986115-1a97-4fa1-bef4-6e2dcc2462e8",
      "metadata": {
        "noteable": {
          "cell_type": "markdown"
        }
      },
      "source": [
        "## Exercițiul 28\n",
        "\n",
        "Creați o funcție care primește un string și returnează același string, dar cu toate vocalele înlocuite cu litera 'a'. Testați funcția cu string-ul \"Python este un limbaj de programare foarte popular.\". Rezultatul ar trebui să fie \"Pathan asta an lambaj da pragramara faarta papalar.\"."
      ]
    },
    {
      "cell_type": "code",
      "execution_count": null,
      "id": "65fbee40-6ddc-4028-9f27-b3564aca50e6",
      "metadata": {
        "noteable": {
          "cell_type": "code"
        }
      },
      "outputs": [],
      "source": []
    },
    {
      "cell_type": "markdown",
      "id": "ad73b71e-2242-480b-a024-a39150afec25",
      "metadata": {
        "noteable": {
          "cell_type": "markdown"
        }
      },
      "source": [
        "## Exercițiul 29\n",
        "\n",
        "<a href=\"https://leetcode.com/problems/roman-to-integer/\"> Din cifre romane în numere întregi </a> <br>\n",
        "Numerele romane sunt reprezentate prin 7 simboluri diferite: \n",
        "\n",
        "<table>\n",
        " <tr>\n",
        "    <td><b style=\"font-size:20px\">Simbol</b></td>\n",
        "    <td><b style=\"font-size:20px\">Valoare</b></td>\n",
        " </tr>\n",
        " <tr>\n",
        "    <td>I</td>\n",
        "    <td>1</td>\n",
        " </tr>\n",
        " <tr>\n",
        "    <td>V</td>\n",
        "    <td>5</td>\n",
        " </tr>\n",
        " <tr>\n",
        "    <td>X</td>\n",
        "    <td>10</td>\n",
        " </tr>\n",
        " <tr>\n",
        "    <td>L</td>\n",
        "    <td>50</td>\n",
        " </tr>\n",
        " <tr>\n",
        "    <td>C</td>\n",
        "    <td>100</td>\n",
        " </tr>\n",
        " <tr>\n",
        "    <td>D</td>\n",
        "    <td>500</td>\n",
        " </tr>\n",
        " <tr>\n",
        "    <td>M</td>\n",
        "    <td>1000</td>\n",
        " </tr>\n",
        "</table>\n",
        "\n",
        "Pentru a rezulta numarul dorit, se aduna valorile simbolurilor, cu urmatoarele exceptii:\n",
        "- I inainte de V / X reprezinta 4 / 9\n",
        "- X inainte de L / C reprezinta 40 / 90\n",
        "- C inainte de D / M reprezinta 400 / 900\n",
        "\n",
        "Avand dat un sir cu cifre romane, scrieti o functie care returneaza valoarea lui. "
      ]
    },
    {
      "cell_type": "code",
      "execution_count": null,
      "id": "e9ae42eb-4023-47c8-aa30-dad24af88142",
      "metadata": {
        "noteable": {
          "cell_type": "code"
        }
      },
      "outputs": [],
      "source": []
    },
    {
      "cell_type": "markdown",
      "id": "ac17b4b3-4219-453b-9739-0a0a9779412b",
      "metadata": {
        "noteable": {
          "cell_type": "markdown"
        }
      },
      "source": [
        "## Exercițiul 30\n",
        "\n",
        "<a href=\"https://leetcode.com/problems/longest-substring-without-repeating-characters/\"> Cel mai lung substring fără caractere care se repetă </a> (Problema grea)\n",
        "\n",
        "Creați o funcție care primește un string și returnează cel mai lung substring cu caractere unice. "
      ]
    },
    {
      "cell_type": "code",
      "execution_count": null,
      "id": "aae88da0",
      "metadata": {},
      "outputs": [],
      "source": []
    },
    {
      "cell_type": "markdown",
      "id": "bf1ca71b",
      "metadata": {},
      "source": [
        "## Mini proiect - Coffee maker\n",
        "\n",
        "Creati un program care simuleaza un dozator de cafea. Veti avea stocate cateva tipuri de cafea, si anumite resurse cu care pregatesti acele cafele. Un utilizator va avea acces la diferite comenzi pe care le da dozatorului de cafea, de exemplu: make, status, refill. Programul vostru este dozatorul si veti interactiona cu utilizatorul prin input(). Ce afisati pe ecran se considera a fi ce afiseaza dozatorul. <br>\n",
        "\n",
        "Incepeti prin a afisa un mesaj utilizatorului, de exemplu: <br>\n",
        "`\"Salut, sunt dozatorul tau de cafea. Ai la dispozitie urmatoarele comenzi: [make, status, refill, list]. Scrie o comanda pentru a continua sau exit pentru oprire.\"` <br>\n",
        "Puteti stoca aceste comenzi intr-o lista. De asemenea, puteti avea tipurile de cafea intr-o structura de date. Stocati o structura de date si cu resursele. Pentru fiecare tip de resursa veti avea o cantitate, si pentru fiecare tip de cafea exista o reteta cu ce cantitate este nevoie din fiecare resursa. \n",
        "- Comanda `status` afiseaza ce cantitati mai exista in dozator din fiecare resursa. \n",
        "- Comanda `refill` va face dozatorul sa afiseze un mesaj de tipul \"Ce resursa? Scrie 'all' pentru a face refill la toate resursele.\"\n",
        "Apoi utilizatorul scrie pentru ce resursa doreste sa se faca refill (sau 'all' pentru toate) si resursa respectiva va creste cu 10.\n",
        "- Comanda `make` va face dozatorul sa afiseze un mesaj de tipul \"Ce cafea?\". Apoi utilizatorul scrie ce cafea doreste si daca exista resursele necesare, dozatorul va afisa pe ecran un mesaj de tipul \"Poftim un espresso!\". Daca resursele nu exista, va afisa un mesaj de eroare.\n",
        "- Comanda `list` va face dozatorul sa afiseze ce tipuri de cafea exista la dispozitie. \n",
        "- Comanda `exit` opreste dozatorul. Programul ruleaza pana cand utilizatorul scrie aceasta comanda. \n",
        "\n",
        "Exemplu de rezultat/interactiune: \n",
        "\n",
        "`Salut, sunt dozatorul tau de cafea. Ai la dispozitie urmatoarele comenzi: [make, status, refill, list]. Scrie o comanda pentru a continua sau exit pentru oprire.`\n",
        " \n",
        "`list`\n",
        "\n",
        "`Aveti la dispozitie cafelele: americano, cappuccino, espresso.` <br>\n",
        "`Scrie o comanda:` <br>\n",
        "\n",
        "`status`\n",
        "\n",
        "`Mai am resursele:` <br>\n",
        "`apa: 100` <br>\n",
        "`cafea: 90` <br>\n",
        "`lapte: 60` <br>\n",
        "`Scrie o comanda:` <br>\n",
        "\n",
        "`make`\n",
        "\n",
        "`Ce cafea?`\n",
        "\n",
        "`cappuccino`\n",
        "\n",
        "`Poftim un cappuccino!`\n",
        "`Scrie o comanda:`\n",
        "\n",
        "`status`\n",
        "\n",
        "`Mai am resursele:` \n",
        "`apa: 70`\n",
        "`cafea: 40`\n",
        "`lapte: 30`\n",
        "`Scrie o comanda:`\n",
        "\n",
        "`refill`\n",
        "\n",
        "`Ce resursa? Scrie 'all' pentru a face refill la toate resursele.`\n",
        "\n",
        "`cafea`\n",
        "\n",
        "`Am facut refill la cafea.` <br>\n",
        "`Scrie o comanda:` <br>\n",
        "\n",
        "`status`\n",
        "\n",
        "`Mai am resursele:` <br>\n",
        "`apa: 70` <br>\n",
        "`cafea: 50` <br>\n",
        "`lapte: 30` <br>\n",
        "`Scrie o comanda:`\n",
        "\n",
        "`exit`\n",
        "\n",
        "Recomandari: \n",
        "- folositi functii\n",
        "- folositi liste, tupluri, dictionare dupa nevoie\n",
        "- folositi functii pe Strings\n",
        "- Fiti organizati\n",
        "\n",
        "Mai jos aveti un schelet de cod de care va puteti folosi pentru implementare. Puteti scrie si codul vostru, fara a folosi nimic din schelet. "
      ]
    },
    {
      "cell_type": "code",
      "execution_count": null,
      "id": "a78885da",
      "metadata": {},
      "outputs": [],
      "source": [
        "# Schelet de cod:\n",
        "\n",
        "# Variabile care reprezinta comenzile\n",
        "EXIT = \"exit\"\n",
        "LIST = \"list\"\n",
        "MAKE = \"make\"\n",
        "REFILL = \"refill\"\n",
        "STATUS = \"status\"\n",
        "comenzi = [EXIT, LIST, MAKE, REFILL, STATUS]\n",
        "\n",
        "\n",
        "# Variabile care reprezinta cafelele\n",
        "ESPRESSO = \"espresso\"\n",
        "AMERICANO = \"americano\"\n",
        "CAPPUCCINO = \"cappuccino\"\n",
        "cafele = [ESPRESSO, AMERICANO, CAPPUCCINO]\n",
        "\n",
        "# Variabile care reprezinta resursele\n",
        "APA = \"apa\"\n",
        "CAFEA = \"cafea\"\n",
        "LAPTE = \"lapte\"\n",
        "ALL = \"all\"\n",
        "\n",
        "# Dictionar care stocheaza retetele\n",
        "retete = {ESPRESSO: {APA: 5, CAFEA: 10, LAPTE: 0},\n",
        "                AMERICANO: {APA: 10, CAFEA: 10, LAPTE: 0},\n",
        "                CAPPUCCINO: {APA: 5, CAFEA: 10, LAPTE: 10}}\n",
        "\n",
        "# Dictionar care stocheaza cantitatile de resurse\n",
        "resurse = {APA: 100, CAFEA: 100, LAPTE: 100}\n",
        "\n",
        "print(f\"Salut, sunt dozatorul tau de cafea. Ai la dispozitie urmatoarele comenzi: {comenzi}. Scrie o comanda pentru a continua sau exit pentru oprire.\")\n",
        "\n",
        "def afiseaza_comenzile():\n",
        "    \"\"\"\n",
        "    Functie ce afiseaza comenzile pe care le are utilizatorul la dispozitie. \n",
        "    \"\"\"\n",
        "    # implementare\n",
        "    pass\n",
        "\n",
        "\n",
        "def verifica_resurse(reteta):\n",
        "    \"\"\"\n",
        "    Functie care verifica daca exista resursele necesare dintr-o reteta data ca parametru. \n",
        "    Reteta va fi sub forma de dictionar, cu resursa drept cheie si cantitatea ca valoare. \n",
        "    Functia verifica daca in dictionarul de resurse avut la dispozitie cantitatile resurselor sunt mai mari decat cele din reteta.\n",
        "    Returneaza True sau False. \n",
        "    \"\"\"\n",
        "    # implementare\n",
        "    pass\n",
        "\n",
        "\n",
        "def make(cafea):\n",
        "    \"\"\"\n",
        "    Functie care face cafeaua. Va primi ca parametru cafeaua dorita. \n",
        "    Verifica resursele (apeleaza alta functie care face asta) si daca exista\n",
        "    va afisa un mesaj de tipul 'Poftim un {cafea}!'.\n",
        "    Daca resursele nu exista, afiseaza un mesaj de eroare. \\\n",
        "    \"\"\"\n",
        "    # implementare\n",
        "    pass\n",
        "\n",
        "\n",
        "def afiseaza_resurse():\n",
        "    \"\"\"\n",
        "    Functie ce afiseaza resursele ramase.\n",
        "    \"\"\"\n",
        "    # implementare\n",
        "    pass\n",
        "\n",
        "\n",
        "def refill(resursa):\n",
        "    \"\"\"\n",
        "    Functie ce face refill la resursa data ca parametru. \n",
        "    Daca resursa contine cantitatea 100, nu se va creste acea cantitate,\n",
        "    altfel, se creste cu 10.\n",
        "    \"\"\"\n",
        "    # implementare\n",
        "    pass\n",
        "\n",
        "\n",
        "def main():\n",
        "    \"\"\"\n",
        "    Functie de pornire, aici se intampla toata magia. Se face implementarea si se apeleaza functiile de mai sus in functie de nevoie. \n",
        "    Programul va apela doar aceasta functie, dupa care se ruleaza pana cand utilizatorul scrie exit.\n",
        "    \"\"\"\n",
        "\n",
        "    while True:\n",
        "        print(\"Scrie o comanda:\")\n",
        "        comanda = input().strip()\n",
        "\n",
        "        if comanda == EXIT:\n",
        "            break\n",
        "\n",
        "        # continuati implementarea aici"
      ]
    }
  ],
  "metadata": {
    "kernel_info": {
      "name": "python3"
    },
    "kernelspec": {
      "display_name": "Python 3.9",
      "language": "python",
      "name": "python3"
    },
    "language_info": {
      "codemirror_mode": {
        "name": "ipython",
        "version": 3
      },
      "file_extension": ".py",
      "mimetype": "text/x-python",
      "name": "python",
      "nbconvert_exporter": "python",
      "pygments_lexer": "ipython3",
      "version": "3.9.12"
    },
    "noteable": {
      "last_transaction_id": "4a6769de-a117-438f-9c01-cc651d98c10e"
    },
    "noteable-chatgpt": {
      "create_notebook": {
        "openai_conversation_id": "432cddb3-aec2-587f-af7a-38451dfaa3d8",
        "openai_ephemeral_user_id": "63775f47-cb8b-52f7-b91c-1a31e1a5a4ff",
        "openai_subdivision1_iso_code": "RO-B"
      }
    },
    "selected_hardware_size": "small"
  },
  "nbformat": 4,
  "nbformat_minor": 5
}
