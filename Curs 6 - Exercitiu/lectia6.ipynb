{
 "cells": [
  {
   "attachments": {},
   "cell_type": "markdown",
   "metadata": {},
   "source": [
    "### Echivalenta intre while si for \n",
    "\n",
    "Scrieti codul de mai jos cu un while. Rezultatul trebuie sa fie acelasi. "
   ]
  },
  {
   "cell_type": "code",
   "execution_count": null,
   "metadata": {},
   "outputs": [],
   "source": [
    "for i in range(5, 100, 4):\n",
    "    print(i)"
   ]
  },
  {
   "cell_type": "code",
   "execution_count": null,
   "metadata": {},
   "outputs": [],
   "source": [
    "i = 5\n",
    "while i < 100:\n",
    "    print(i)\n",
    "    i += 4"
   ]
  },
  {
   "attachments": {},
   "cell_type": "markdown",
   "metadata": {},
   "source": [
    "### Elemente divizibile cu un numar\n",
    "\n",
    "Construiti o lista cu numere de la 1 la 100. Se doreste afisarea numerelor divizibile cu 7 din acea lista. "
   ]
  },
  {
   "cell_type": "code",
   "execution_count": null,
   "metadata": {},
   "outputs": [],
   "source": [
    "vector = list(range(1, 101))\n",
    "multipli_7 = []\n",
    "lungime = len(vector)\n",
    "print(lungime)\n",
    "\n",
    "# Abordarea cu indexare\n",
    "for i in range(len(vector)):\n",
    "    if vector[i] % 7 == 0:\n",
    "        print(vector[i])\n",
    "\n",
    "# Abordare fara indexare\n",
    "for numar in vector:\n",
    "    if numar % 7 == 0:\n",
    "        multipli_7.append(numar)\n",
    "print(multipli_7)"
   ]
  },
  {
   "attachments": {},
   "cell_type": "markdown",
   "metadata": {},
   "source": [
    "### <a href=\"https://leetcode.com/problems/single-number/\"> Numar unic </a>\n",
    "\n",
    "Avem o lista de numere, in care toate numerele sunt duplicat(apar de doua ori), exceptand unul singur. Afisati acel numar."
   ]
  },
  {
   "cell_type": "code",
   "execution_count": 16,
   "metadata": {},
   "outputs": [
    {
     "name": "stdout",
     "output_type": "stream",
     "text": [
      "4\n"
     ]
    }
   ],
   "source": [
    "vector = [1,2,1,4,2]\n",
    "\n",
    "# rezultat: 4\n",
    "\n",
    "for element in vector:\n",
    "    if vector.count(element) == 1:\n",
    "        print(element)"
   ]
  },
  {
   "cell_type": "code",
   "execution_count": 1,
   "metadata": {},
   "outputs": [
    {
     "name": "stdout",
     "output_type": "stream",
     "text": [
      "39\n"
     ]
    }
   ],
   "source": [
    "# Cum fac sa insumez toate elementele unui vector \n",
    "\n",
    "vector = [4, 5, 6, 7, 8, 9]\n",
    "\n",
    "# pornesc de la 0 (la inceput suma dorita este 0 pentru ca nu am insumat inca nimic)\n",
    "suma = 0 \n",
    "\n",
    "# pas cu pas, adun elementele din vector la suma initiala\n",
    "for element in vector:\n",
    "    suma = suma + element \n",
    "    # alternativ: suma += element\n",
    "\n",
    "print(suma)"
   ]
  }
 ],
 "metadata": {
  "kernelspec": {
   "display_name": "Python 3",
   "language": "python",
   "name": "python3"
  },
  "language_info": {
   "codemirror_mode": {
    "name": "ipython",
    "version": 3
   },
   "file_extension": ".py",
   "mimetype": "text/x-python",
   "name": "python",
   "nbconvert_exporter": "python",
   "pygments_lexer": "ipython3",
   "version": "3.11.3"
  },
  "orig_nbformat": 4
 },
 "nbformat": 4,
 "nbformat_minor": 2
}
