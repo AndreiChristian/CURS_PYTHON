{
 "cells": [
  {
   "attachments": {},
   "cell_type": "markdown",
   "metadata": {},
   "source": [
    "### Ramase de rezolvat:\n",
    "\n",
    "12. Scrieti o functie care primeste un numar si afiseaza suma cifrelor acelui numar. \n",
    "\n",
    "13. Scrieti o functie care primeste un numar n si construieste doua liste, una cu numerele impare pana la n, si cealalta cu pare. \n",
    "\n",
    "14. Scrieti o functie care primeste o lista si construieste un dictionar cu chei indecsi incepand de la 0 si valorile din lista. \n",
    "\n",
    "15. Scrieti o functie care primeste un dictionar si afiseaza cheile. \n",
    "\n",
    "16. Scrieti o functie care primeste un dictionar si adauga intr-o lista intai cheile in ordine, apoi valorile. \n",
    "\n",
    "17. Scrieti o functie care primeste un string si verifica daca are mai mult de 10 caractere. Va returna True/False. \n",
    "\n",
    "18. Scrieti o functie care primeste o lista de numere in ordine aleatorie si afiseaza cea mai mare suma a doua numere din acea lista. \n",
    "\n",
    "19. Scrieti o functie care primeste doua liste de numere si afiseaza cate numere din cele doua liste sunt egale. \n",
    "\n",
    "20. Scrieti o functie care primeste un dictionar si sorteaza valorile. Va returna dictionarul cu aceleasi chei si valorile sortate."
   ]
  },
  {
   "attachments": {},
   "cell_type": "markdown",
   "metadata": {},
   "source": [
    "### Rezolvari:"
   ]
  },
  {
   "attachments": {},
   "cell_type": "markdown",
   "metadata": {},
   "source": [
    "12. Scrieti o functie care primeste un numar si afiseaza suma cifrelor acelui numar. \n",
    "De exemplu: <br>\n",
    "numar = 123; functie -> 6 <br>\n",
    "numar = 1; functia -> 1 <br>\n",
    "numar = 55; functia -> 10"
   ]
  },
  {
   "cell_type": "code",
   "execution_count": 3,
   "metadata": {},
   "outputs": [
    {
     "data": {
      "text/plain": [
       "0"
      ]
     },
     "execution_count": 3,
     "metadata": {},
     "output_type": "execute_result"
    }
   ],
   "source": [
    "# abordare pe caractere (transform in string ca sa pot parcurge cifrele sub forma de caracter)\n",
    "# si apoi transform inapoi in int ca sa pot aduna cifrele \n",
    "\n",
    "def suma_cifre(numar):\n",
    "    numar_convertit = str(numar)\n",
    "    suma = 0\n",
    "    for caracter in numar_convertit:\n",
    "        suma += int(caracter)\n",
    "    return suma\n",
    "\n",
    "suma_cifre(1337)"
   ]
  },
  {
   "cell_type": "code",
   "execution_count": 12,
   "metadata": {},
   "outputs": [
    {
     "data": {
      "text/plain": [
       "45"
      ]
     },
     "execution_count": 12,
     "metadata": {},
     "output_type": "execute_result"
    }
   ],
   "source": [
    "# abordare fara conversie la string\n",
    "\n",
    "# hint:\n",
    "1337 % 10  # operatia (numar % 10) da ultima cifra a unui numar \n",
    "1337 // 10 # operatia (numar // 10) taie ultima cifra din numar  \n",
    "\n",
    "\n",
    "def suma_cifre2(numar):\n",
    "    cifra = 0\n",
    "    suma = 0\n",
    "    copie_numar = numar\n",
    "\n",
    "    # efectuez calculele cat timp numar > 10 (cat timp exista cifre in acel numar)\n",
    "    while copie_numar > 0:\n",
    "        cifra = copie_numar % 10        # extrag ultima cifra folosind operatia %\n",
    "        suma += cifra                   # adun ultima cifra la suma \n",
    "        copie_numar = copie_numar // 10 # tai ultima cifra din numar\n",
    "\n",
    "    return suma\n",
    "\n",
    "suma_cifre2(123456789)\n"
   ]
  },
  {
   "attachments": {},
   "cell_type": "markdown",
   "metadata": {},
   "source": [
    "21. Scrieti o functie care gaseste indexul primei aparitii unui numar intr-un vector. Avand dat un vector de numere ordonate crescator (cu numar arbitrar de aparitii ale aceluiasi element) si un numar cautat, functia returneaza indexul primei aparitii a numarului in vector. \n",
    "\n",
    "exemplu: 1 2 2 3 4 5 5 5 6 7 7 8 \n",
    "\n",
    "index(vector, 2) -> 1   <br>\n",
    "index(vector, 5) -> 5   <br>\n",
    "index(vector, 7) -> 9   <br>\n",
    "\n",
    "Codul functioneaza simetric pentru prima/ultima aparitie "
   ]
  },
  {
   "cell_type": "code",
   "execution_count": 23,
   "metadata": {},
   "outputs": [
    {
     "data": {
      "text/plain": [
       "2"
      ]
     },
     "execution_count": 23,
     "metadata": {},
     "output_type": "execute_result"
    }
   ],
   "source": [
    "vector = [1, 2, 2, 3, 4, 5, 5, 5, 6, 7, 7, 8]\n",
    "\n",
    "def bin_search(vector, numar):\n",
    "    low = 0\n",
    "    high = len(vector) - 1\n",
    "    index = -1\n",
    "\n",
    "    while low <= high:\n",
    "        mid = (low + high) // 2\n",
    "        if numar == vector[mid]:\n",
    "            index = mid\n",
    "            low = mid + 1\n",
    "        elif numar < vector[mid]:\n",
    "            high = mid - 1\n",
    "        elif numar > vector[mid]:\n",
    "            low = mid + 1\n",
    "    \n",
    "    return index\n",
    "\n",
    "bin_search(vector, 2)"
   ]
  },
  {
   "attachments": {},
   "cell_type": "markdown",
   "metadata": {},
   "source": [
    "22. Scrieti o functie care gaseste intr-un vector fara duplicate perechi de numere avand suma un numar dat. Functia primeste ca parametri un vector si un numar (suma cautata) si returneaza perechile care insumate dau numarul respectiv. \n",
    "\n",
    "exemplu: vector = [1, 3, 5, 10, 4, 7, 2, 9, 12, 8] <br>\n",
    "         numar  = 12 <br>\n",
    "functia -> (3,9), (5,7), (10,2), (4,8)"
   ]
  },
  {
   "cell_type": "code",
   "execution_count": null,
   "metadata": {},
   "outputs": [],
   "source": []
  },
  {
   "attachments": {},
   "cell_type": "markdown",
   "metadata": {},
   "source": [
    "23. <a href=\"https://leetcode.com/problems/palindrome-number/\"> Numar palindrom </a>\n",
    "\n",
    "Scrieti o functie care verifica daca un numar este palindrom. Un numar palindrom se citeste la fel de la stanga si de la dreapta. De exemplu 123321, 12321, 1, 11, 131, etc.. "
   ]
  },
  {
   "cell_type": "code",
   "execution_count": 16,
   "metadata": {},
   "outputs": [
    {
     "name": "stdout",
     "output_type": "stream",
     "text": [
      "Numarul este palindrom\n",
      "Numarul nu este palindrom\n"
     ]
    }
   ],
   "source": [
    "def palindrom(numar):\n",
    "    # idee: un numar este palindrom daca este egal cu oglinditul sau\n",
    "    # construiesc oglinditul si verific daca cele doua numere sunt egale\n",
    "    # oglinditul inseamna numarul citit de la dreapta la stanga\n",
    "\n",
    "    copie_numar = numar\n",
    "    oglindit = 0\n",
    "    while copie_numar > 0:\n",
    "        cifra = copie_numar % 10\n",
    "        oglindit = oglindit * 10 + cifra\n",
    "\n",
    "        copie_numar = copie_numar // 10\n",
    "    \n",
    "    if numar == oglindit:\n",
    "        print(\"Numarul este palindrom\")\n",
    "    else:\n",
    "        print(\"Numarul nu este palindrom\")\n",
    "\n",
    "palindrom(12321)\n",
    "palindrom(123)\n",
    "\n",
    "# numar = 12321\n",
    "# oglindit = 0\n",
    "# cifra = 1, 2, 3, 2, 1\n",
    "\n",
    "# oglindit = 1 * 10 = 12 * 10 = 120 + 3 = 123 * 10 = 1230 + 2 = 1232 * 10 = 12320 + 1 = 12321\n",
    "\n",
    "\n",
    "# numar = 123\n",
    "# oglindit = 3 * 10 = 30 + 2 = 32 * 10 = 320 + 1 = 321"
   ]
  }
 ],
 "metadata": {
  "kernelspec": {
   "display_name": "Python 3",
   "language": "python",
   "name": "python3"
  },
  "language_info": {
   "codemirror_mode": {
    "name": "ipython",
    "version": 3
   },
   "file_extension": ".py",
   "mimetype": "text/x-python",
   "name": "python",
   "nbconvert_exporter": "python",
   "pygments_lexer": "ipython3",
   "version": "3.11.3"
  },
  "orig_nbformat": 4
 },
 "nbformat": 4,
 "nbformat_minor": 2
}
