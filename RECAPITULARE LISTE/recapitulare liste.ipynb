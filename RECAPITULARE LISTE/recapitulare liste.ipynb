{
 "cells": [
  {
   "cell_type": "code",
   "execution_count": null,
   "metadata": {},
   "outputs": [],
   "source": [
    "studenti = [\"Alex\", \"Andrei\"]\n",
    "studenti_tuplu = ('Alex', \"Andrei\")\n"
   ]
  },
  {
   "cell_type": "code",
   "execution_count": 12,
   "metadata": {},
   "outputs": [
    {
     "name": "stdout",
     "output_type": "stream",
     "text": [
      "['Alex', 'Rafa', 'NICOLAE', 'Ivona']\n",
      "4\n",
      "Alex\n",
      "Rafa\n",
      "NICOLAE\n",
      "Ivona\n"
     ]
    }
   ],
   "source": [
    "studenti = ['Alex', 'Andrei']\n",
    "\n",
    "# 1 eleminati ultimul student din lista\n",
    "\n",
    "studentul_eliminat = studenti.pop()\n",
    "\n",
    "# 2 adaugati doi studenti la finalul listei - Ivonva, Rafa\n",
    "\n",
    "studenti.append(\"Rafa\")\n",
    "studenti.append(\"Ivona\")\n",
    "\n",
    "\n",
    "# 3 introduceti la pozitia 1 pe Nicolae\n",
    "\n",
    "studenti.insert(2, \"NICOLAE\")\n",
    "\n",
    "print(studenti)\n",
    "\n",
    "# 4 imi printati lungimea listei\n",
    "\n",
    "print(len(studenti))\n",
    "\n",
    "# 5 Printati element cu element ( cu un for )\n",
    "\n",
    "for superman in studenti:\n",
    "    print(superman)\n",
    "\n",
    "\n",
    "# iterator = iter(studenti)\n",
    "\n",
    "# while True:\n",
    "#     try:\n",
    "#         element_din_iterator = next(iterator)\n",
    "#         print(element_din_iterator)\n",
    "#     except StopIteration:\n",
    "#         break\n"
   ]
  }
 ],
 "metadata": {
  "kernelspec": {
   "display_name": "Python 3",
   "language": "python",
   "name": "python3"
  },
  "language_info": {
   "codemirror_mode": {
    "name": "ipython",
    "version": 3
   },
   "file_extension": ".py",
   "mimetype": "text/x-python",
   "name": "python",
   "nbconvert_exporter": "python",
   "pygments_lexer": "ipython3",
   "version": "3.11.2"
  },
  "orig_nbformat": 4
 },
 "nbformat": 4,
 "nbformat_minor": 2
}
