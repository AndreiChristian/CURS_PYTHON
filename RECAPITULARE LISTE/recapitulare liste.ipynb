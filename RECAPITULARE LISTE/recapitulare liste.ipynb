{
 "cells": [
  {
   "cell_type": "code",
   "execution_count": null,
   "metadata": {},
   "outputs": [],
   "source": [
    "studenti = [\"Alex\", \"Andrei\"]\n",
    "studenti_tuplu = ('Alex', \"Andrei\")\n"
   ]
  },
  {
   "cell_type": "code",
   "execution_count": null,
   "metadata": {},
   "outputs": [],
   "source": [
    "studenti = ['Alex','Andrei']\n",
    "\n",
    "#1 vreau sa eleminati ultimul element din lista\n",
    "\n",
    "#2 vreau sa adaugati doi studenti la finalul listei - Ivonva, Rafa\n",
    "\n",
    "#3 Vreau sa introduceti la pozitia 1 pe Nicolae\n",
    "\n",
    "#4 Vreau sa imi printati lungimea listei\n",
    "\n",
    "#5 Printati element cu element ( cu un for )"
   ]
  }
 ],
 "metadata": {
  "language_info": {
   "name": "python"
  },
  "orig_nbformat": 4
 },
 "nbformat": 4,
 "nbformat_minor": 2
}
