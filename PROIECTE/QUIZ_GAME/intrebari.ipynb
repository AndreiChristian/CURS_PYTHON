{
 "cells": [
  {
   "cell_type": "code",
   "execution_count": null,
   "metadata": {},
   "outputs": [],
   "source": [
    "lista_intrebari = [\n",
    "    {'titlu': \"Care este cel mai înalt munte din lume?\", 'variante': [\n",
    "        \"Mount Everest\", \"K2\", \"Annapurna\", \"Mount Kilimanjaro\"], 'raspuns_corect': \"1\"},\n",
    "    {'titlu': \"Cât de rapid poate să alerge un ghepard?\", 'variante': [\n",
    "        \"60 km/h\", \"120 km/h\", \"90 km/h\", \"45 km/h\"], 'raspuns_corect': \"2\"},\n",
    "    {'titlu': \"Cine a fost primul om care a ajuns pe Lună?\", 'variante': [\n",
    "        \"Neil Armstrong\", \"Buzz Aldrin\", \"Yuri Gagarin\", \"John Glenn\"], 'raspuns_corect': \"1\"},\n",
    "    {'titlu': \"Care este cel mai mare ocean de pe Pământ?\", 'variante': [\n",
    "        \"Oceanul Atlantic\", \"Oceanul Pacific\", \"Oceanul Indian\", \"Oceanul Arctic\"], 'raspuns_corect': \"2\"},\n",
    "    {'titlu': \"Ce planetă este cunoscută ca „Planeta Roșie”?\", 'variante': [\n",
    "        \"Marte\", \"Venus\", \"Jupiter\", \"Saturn\"], 'raspuns_corect': \"1\"},\n",
    "    {'titlu': \"Care este cea mai veninoasă meduză din lume?\", 'variante': [\n",
    "        \"Meduza Luminată\", \"Meduza Box\", \"Meduza Luna\", \"Meduza Comună\"], 'raspuns_corect': \"2\"},\n",
    "    {'titlu': \"În ce țară se găsește desertul Sahara?\", 'variante': [\n",
    "        \"Egipt\", \"Maroc\", \"Libia\", \"Toate cele de mai sus\"], 'raspuns_corect': \"4\"},\n",
    "    {'titlu': \"Care este cel mai lung fluviu din lume?\", 'variante': [\n",
    "        \"Nilul\", \"Amazon\", \"Yangtze\", \"Mississippi\"], 'raspuns_corect': \"2\"},\n",
    "    {'titlu': \"Câte inimi are o caracatiță?\", 'variante': [\n",
    "        \"1\", \"2\", \"3\", \"4\"], 'raspuns_corect': \"3\"},\n",
    "    {'titlu': \"Ce țară este cunoscută ca „Țara Soarelui Răsare”?\", 'variante': [\n",
    "        \"China\", \"Japonia\", \"Coreea de Sud\", \"Vietnam\"], 'raspuns_corect': \"2\"},\n",
    "    {'titlu': \"Ce animale sunt renumite pentru migrația lor anuală în Serengeti?\", 'variante': [\n",
    "        \"Elefanți\", \"Gnus\", \"Zebre\", \"Toate cele de mai sus\"], 'raspuns_corect': \"4\"},\n",
    "]\n",
    "\n",
    "intrebarea_1 = \n"
   ]
  }
 ],
 "metadata": {
  "language_info": {
   "name": "python"
  },
  "orig_nbformat": 4
 },
 "nbformat": 4,
 "nbformat_minor": 2
}
