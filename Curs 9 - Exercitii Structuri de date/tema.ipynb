{
 "cells": [
  {
   "attachments": {},
   "cell_type": "markdown",
   "metadata": {},
   "source": [
    "### Tema: Rezolvati una sau mai multe dintre problemele urmatoare, la alegere"
   ]
  },
  {
   "attachments": {},
   "cell_type": "markdown",
   "metadata": {},
   "source": [
    "### <a href=\"https://leetcode.com/problems/decode-the-message/\"> Decodificare mesaj </a>\n",
    "\n",
    "Avand un text_cheie si un mesaj, construiti o diagrama care asociaza fiecare litera din cheie (prima aparitie) cu fiecare litera in ordine alfabetica. Se folosesc doar litere mici. Decodificati mesajul pe baza diagramei construite. Prin conventie, mesajul nu va contine litere din afara diagramei. \n",
    "\n",
    "\n",
    "Rezolvare: \n",
    "- inputul care vine in functie (parametrii functiei)\n",
    "    - am un mesaj de tip string codificat si trebuie sa-l decodific folosind cheia\n",
    "    - am un sir de caractere (string) care se numeste text_cheie si care ma va ajuta sa decodific mesajul\n",
    "- functia trebuie sa decodifice mesajul construind si folosind un dictionar (o asociere de litere), dupa cum urmeaza:\n",
    "    - fiecare prima aparitie a literelor din cheie se asociaza in dictionar cu literele alfabetului de la 'a' la 'z'\n",
    "    - diagrama (dictionarul) rezultat va face decodificarea\n",
    "    - dupa ce construiesc diagrama trebuie sa iau fiecare litera din mesajul codificat si sa o inlocuiesc cu asocierea ei"
   ]
  },
  {
   "cell_type": "code",
   "execution_count": null,
   "metadata": {},
   "outputs": [],
   "source": [
    "# Explicatie suplimentara dictionar \n",
    "\n",
    "#         0    1    2    3    4\n",
    "lista = ['a', 'b', 'c', 'd', 'e']\n",
    "\n",
    "dictionar = {\"prima cheie\":'a', \n",
    "             \"a doua cheie\":'b', \n",
    "             2:'c', \n",
    "             3:'d', \n",
    "             4:'e'}\n",
    "\n",
    "dictionar[\"a doua cheie\"] = 'y'\n",
    "dictionar[\"altceva\"] = 'w'\n",
    "\n",
    "print(dictionar)"
   ]
  },
  {
   "cell_type": "code",
   "execution_count": 16,
   "metadata": {},
   "outputs": [
    {
     "name": "stdout",
     "output_type": "stream",
     "text": [
      "a\n",
      "ab\n",
      "abc\n",
      "abcd\n",
      "abcde\n",
      "abcdef\n",
      "abcdefg\n",
      "abcdefgh\n",
      "abcdefghi\n",
      "abcdefghij\n",
      "abcdefghijk\n",
      "abcdefghijkl\n",
      "abcdefghijklm\n",
      "abcdefghijklmn\n",
      "abcdefghijklmno\n",
      "abcdefghijklmnop\n",
      "abcdefghijklmnopq\n",
      "abcdefghijklmnopqr\n",
      "abcdefghijklmnopqrs\n",
      "abcdefghijklmnopqrst\n",
      "abcdefghijklmnopqrstu\n",
      "abcdefghijklmnopqrstuv\n",
      "abcdefghijklmnopqrstuvw\n",
      "abcdefghijklmnopqrstuvwx\n",
      "abcdefghijklmnopqrstuvwxy\n",
      "abcdefghijklmnopqrstuvwxyz\n",
      "abcdefghijklmnopqrstuvwxyz\n"
     ]
    }
   ],
   "source": [
    "# cum construiesc alfabetul in mod automat\n",
    "alfabet = \"\"\n",
    "for i in range(97, 123):\n",
    "    # transform numarul ASCII in caracterul care ii corespunde si il adaug in alfabet\n",
    "    alfabet += chr(i)\n",
    "    print(alfabet)\n",
    "\n",
    "print(alfabet)"
   ]
  },
  {
   "cell_type": "code",
   "execution_count": 19,
   "metadata": {},
   "outputs": [
    {
     "name": "stdout",
     "output_type": "stream",
     "text": [
      "{'e': 'a', 'l': 'b', 'j': 'c', 'u': 'd', 'x': 'e', 'h': 'f', 'p': 'g', 'w': 'h', 'n': 'i', 'y': 'j', 'r': 'k', 'd': 'l', 'g': 'm', 't': 'n', 'q': 'o', 'k': 'p', 'v': 'q', 'i': 'r', 's': 's', 'z': 't', 'c': 'u', 'f': 'v', 'm': 'w', 'a': 'x', 'b': 'y', 'o': 'z'}\n"
     ]
    }
   ],
   "source": [
    "text_cheie = \"eljuxhpwnyrdgtqkviszcfmabo\"\n",
    "\n",
    "# am alfabetul si cheia si construiesc diagrama de asocieri \n",
    "diagrama = {}\n",
    "\n",
    "# trebuie sa iau fiecare litera din textul cheie (prima aparitie) si sa o asociez pe rand cu fiecare litera din alfabet\n",
    "# litera din text_cheie reprezinta cheia in dictionar, iar litera din alfabet reprezinta valoarea de pe acea cheie\n",
    "\n",
    "# diagrama[\"e\"] = alfabet[0]\n",
    "# diagrama[\"l\"] = alfabet[1]\n",
    "# diagrama[\"j\"] = alfabet[2]\n",
    "# ...\n",
    "\n",
    "i = 0\n",
    "for litera in text_cheie:\n",
    "    if litera not in diagrama.keys():\n",
    "        diagrama[litera] = alfabet[i]\n",
    "        i += 1\n",
    "\n",
    "print(diagrama)"
   ]
  },
  {
   "cell_type": "code",
   "execution_count": 21,
   "metadata": {},
   "outputs": [
    {
     "name": "stdout",
     "output_type": "stream",
     "text": [
      "the five boxing wizards jump quickly\n"
     ]
    }
   ],
   "source": [
    "# varianta in care alfabetul este un string \n",
    "\n",
    "text_cheie = \"eljuxhpwnyrdgtqkviszcfmabo\"\n",
    "mesaj = \"zwx hnfx lqantp mnoeius ycgk vcnjrdb\"\n",
    "\n",
    "def decode(text_cheie, mesaj): \n",
    "\n",
    "    # construiesc alfabetul (preferabil in mod automat)\n",
    "    alfabet = \"\"\n",
    "\n",
    "    # parcurg codurile ASCII ale fiecare litere din alfabet in ordine\n",
    "    for i in range(97, 123):\n",
    "        # transform numarul ASCII in caracterul care ii corespunde si il adaug in alfabet\n",
    "        alfabet += chr(i)\n",
    "\n",
    "    # construiesc dictionarul diagrama de asocieri cheie - valoare intre literele din text_cheie si literele din alfabet\n",
    "    diagrama = {' ': ' '}\n",
    "    i = 0\n",
    "    for litera in text_cheie:\n",
    "        if litera not in diagrama.keys():\n",
    "            diagrama[litera] = alfabet[i]\n",
    "            i += 1\n",
    "\n",
    "    # avand diagrama construita, decodific mesajul\n",
    "    mesaj_decodificat = \"\"\n",
    "    for litera in mesaj:\n",
    "        mesaj_decodificat += diagrama[litera]\n",
    "\n",
    "    return mesaj_decodificat\n",
    "\n",
    "print(decode(text_cheie, mesaj))"
   ]
  },
  {
   "cell_type": "code",
   "execution_count": 25,
   "metadata": {},
   "outputs": [
    {
     "name": "stdout",
     "output_type": "stream",
     "text": [
      "the five boxing wizards jump quickly\n"
     ]
    }
   ],
   "source": [
    "# varianta in care alfabetul este specific o lista\n",
    "\n",
    "text_cheie = \"eljuxhpwnyrdgtqkviszcfmabo\"\n",
    "mesaj = \"zwx hnfx lqantp mnoeius ycgk vcnjrdb\"\n",
    "\n",
    "def decode(text_cheie, mesaj): \n",
    "\n",
    "    # construiesc alfabetul (preferabil in mod automat)\n",
    "    alfabet = []\n",
    "\n",
    "    # parcurg codurile ASCII ale fiecare litere din alfabet in ordine\n",
    "    for i in range(97, 123):\n",
    "        # transform numarul ASCII in caracterul care ii corespunde si il adaug in alfabet\n",
    "        alfabet.append(chr(i))\n",
    "\n",
    "    # construiesc dictionarul diagrama de asocieri cheie - valoare intre literele din text_cheie si literele din alfabet\n",
    "    diagrama = {' ': ' '}\n",
    "    i = 0\n",
    "    for litera in text_cheie:\n",
    "        if litera not in diagrama.keys():\n",
    "            diagrama[litera] = alfabet[i]\n",
    "            i += 1\n",
    "\n",
    "    # avand diagrama construita, decodific mesajul\n",
    "    mesaj_decodificat = \"\"\n",
    "    for litera in mesaj:\n",
    "        mesaj_decodificat += diagrama[litera]\n",
    "\n",
    "    return mesaj_decodificat\n",
    "\n",
    "print(decode(text_cheie, mesaj))"
   ]
  },
  {
   "attachments": {},
   "cell_type": "markdown",
   "metadata": {},
   "source": [
    "### <a href=\"https://leetcode.com/problems/how-many-numbers-are-smaller-than-the-current-number/\"> Cate numere sunt mai mici </a>\n",
    "\n",
    "Avand dat un vector de numere intregi, calculati cate numere din acel vector sunt mai mici decat fiecare dintre elementele sale. Construiti un alt vector cu aceste rezultate. "
   ]
  },
  {
   "attachments": {},
   "cell_type": "markdown",
   "metadata": {},
   "source": [
    "### <a href =\"https://leetcode.com/problems/two-sum/\"> Suma a doua numere </a>\n",
    "\n",
    "Avand dat un vector de numere intregi si un numar tinta (target), afisati perechea de indecsi ai elementelor din vector care dau suma `target`. De exemplu: <br>\n",
    "`vector = [2,7,11,15], target = 9`\n",
    "\n",
    "Numerele care verifica conditia data sunt 2 si 7, deci se va afisa perechea `[0, 1]` (indecsii lor). Afisati indecsii sub forma de lista. "
   ]
  }
 ],
 "metadata": {
  "kernelspec": {
   "display_name": "Python 3",
   "language": "python",
   "name": "python3"
  },
  "language_info": {
   "codemirror_mode": {
    "name": "ipython",
    "version": 3
   },
   "file_extension": ".py",
   "mimetype": "text/x-python",
   "name": "python",
   "nbconvert_exporter": "python",
   "pygments_lexer": "ipython3",
   "version": "3.11.3"
  },
  "orig_nbformat": 4
 },
 "nbformat": 4,
 "nbformat_minor": 2
}
