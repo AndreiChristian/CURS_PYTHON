{
 "cells": [
  {
   "attachments": {},
   "cell_type": "markdown",
   "metadata": {},
   "source": [
    "### Dictionar\n",
    "\n",
    "Construiti un dictionar cu valori de la 1 la 10, avand drept chei numere consecutive incepand de la 0(indecsi), folosind un for."
   ]
  },
  {
   "cell_type": "code",
   "execution_count": 39,
   "metadata": {},
   "outputs": [
    {
     "name": "stdout",
     "output_type": "stream",
     "text": [
      "{'cheie': 10, 'index': 12}\n"
     ]
    }
   ],
   "source": [
    "# Incercari de a vedea cum se pun date intr-un dictionar\n",
    "dictionar = {}\n",
    "cheie = \"cheie\"\n",
    "valoare = 10\n",
    "\n",
    "# modul de a popula un dictionar\n",
    "dictionar[cheie] = valoare\n",
    "dictionar[\"index\"] = 12\n",
    "\n",
    "print(dictionar)"
   ]
  },
  {
   "cell_type": "code",
   "execution_count": 40,
   "metadata": {},
   "outputs": [
    {
     "name": "stdout",
     "output_type": "stream",
     "text": [
      "dict_keys([0, 1, 2, 3, 4, 5, 6, 7, 8, 9])\n",
      "dict_values([1, 2, 3, 4, 5, 6, 7, 8, 9, 10])\n"
     ]
    }
   ],
   "source": [
    "# Cum ar trebui sa arate dictionarul dupa rezolvarea problemei\n",
    "dictionar = {0:1, 1:2, 2:3, 3:4, 4:5, 5:6, 6:7, 7:8, 8:9, 9:10}\n",
    "\n",
    "print(dictionar.keys())\n",
    "print(dictionar.values())"
   ]
  },
  {
   "cell_type": "code",
   "execution_count": 41,
   "metadata": {},
   "outputs": [
    {
     "name": "stdout",
     "output_type": "stream",
     "text": [
      "dict_values([1, 2, 3, 4, 5, 6, 7, 8, 9, 10])\n"
     ]
    }
   ],
   "source": [
    "# Rezolvarea problemei\n",
    "dictionar = {}\n",
    "\n",
    "for index in range(10):\n",
    "    dictionar[index] = index + 1\n",
    "\n",
    "print(dictionar.values())"
   ]
  },
  {
   "cell_type": "code",
   "execution_count": 42,
   "metadata": {},
   "outputs": [
    {
     "name": "stdout",
     "output_type": "stream",
     "text": [
      "dict_keys([1, 3, 5, 7, 9, 11, 13, 15, 17, 19])\n",
      "dict_values([2, 4, 6, 8, 10, 12, 14, 16, 18, 20])\n"
     ]
    }
   ],
   "source": [
    "dictionar = {}\n",
    "\n",
    "for index in range(1, 20, 2):  \n",
    "    dictionar[index] = index + 1  \n",
    "    \n",
    "print(dictionar.keys())\n",
    "print(dictionar.values())"
   ]
  },
  {
   "cell_type": "code",
   "execution_count": 43,
   "metadata": {},
   "outputs": [
    {
     "name": "stdout",
     "output_type": "stream",
     "text": [
      "dict_keys([0, 1, 2, 3, 4, 5, 6, 7, 8, 9])\n",
      "dict_values([2, 4, 6, 8, 10, 12, 14, 16, 18, 20])\n"
     ]
    }
   ],
   "source": [
    "my_dict = dict()\n",
    "for i in range(10):    \n",
    "    my_dict[i] = i*2 + 2\n",
    "\n",
    "print(my_dict.keys())\n",
    "print(my_dict.values())"
   ]
  },
  {
   "attachments": {},
   "cell_type": "markdown",
   "metadata": {},
   "source": [
    "### Count\n",
    "\n",
    "Avand dat un string(text) care contine exclusiv litere mici, afisati de cate ori apare fiecare vocala in acel text. \n",
    "Rezolvati aceasta problema prin doua metode. "
   ]
  },
  {
   "cell_type": "code",
   "execution_count": 44,
   "metadata": {},
   "outputs": [
    {
     "name": "stdout",
     "output_type": "stream",
     "text": [
      "a: 3\n",
      "e: 3\n",
      "i: 0\n",
      "o: 0\n",
      "u: 0\n"
     ]
    }
   ],
   "source": [
    "text = \"anaaremere\"\n",
    "\n",
    "# Rezultat:\n",
    "# a: 3\n",
    "# e: 3\n",
    "# i: 0\n",
    "# o: 0\n",
    "# u: 0\n",
    "\n",
    "# Prima varianta\n",
    "# retin vocalele intr-o variabila\n",
    "vocale = \"aeiou\"\n",
    "\n",
    "# parcurg textul caracter cu caracter\n",
    "for vocala in vocale:\n",
    "    print(f\"{vocala}: {text.count(vocala)}\")"
   ]
  },
  {
   "cell_type": "code",
   "execution_count": 45,
   "metadata": {},
   "outputs": [
    {
     "name": "stdout",
     "output_type": "stream",
     "text": [
      "{'a': 3, 'e': 3, 'i': 0, 'o': 0, 'u': 0}\n"
     ]
    }
   ],
   "source": [
    "text = \"anaaremere\"\n",
    "\n",
    "# imi construiesc initial un dictionar in care am perechi de vocala - numar de aparitii\n",
    "dictionar_de_vocale = {\"a\":0, \"e\":0, \"i\":0, \"o\":0, \"u\":0}\n",
    "\n",
    "# parcurg textul caracter cu caracter\n",
    "for caracter in text:\n",
    "    # verific daca este vocala (daca se afla printre cheile din dictionarul de vocale)\n",
    "    if caracter in dictionar_de_vocale.keys():\n",
    "        # actualizez valoarea corespunzatoare vocalei din dictionar\n",
    "        dictionar_de_vocale[caracter] += 1\n",
    "\n",
    "# afisez dictionarul\n",
    "print(dictionar_de_vocale)"
   ]
  },
  {
   "cell_type": "code",
   "execution_count": 46,
   "metadata": {},
   "outputs": [
    {
     "name": "stdout",
     "output_type": "stream",
     "text": [
      "Numele meu este Cristi\n"
     ]
    }
   ],
   "source": [
    "# Exemplu de string format in print \n",
    "variabila = \"Cristi\"\n",
    "\n",
    "# Afisez textul \"Numele meu este Cristi (numele din variabila)\"\n",
    "print(f\"Numele meu este {variabila}\")"
   ]
  },
  {
   "attachments": {},
   "cell_type": "markdown",
   "metadata": {},
   "source": [
    "### <a href=\"https://leetcode.com/problems/decode-the-message/\"> Decodificare mesaj </a>\n",
    "\n",
    "Avand un text_cheie si un mesaj, construiti o diagrama care asociaza fiecare litera din cheie (prima aparitie) cu fiecare litera in ordine alfabetica. Se folosesc doar litere mici. Decodificati mesajul pe baza diagramei construite. Prin conventie, mesajul nu va contine litere din afara diagramei. "
   ]
  },
  {
   "cell_type": "code",
   "execution_count": 47,
   "metadata": {},
   "outputs": [
    {
     "name": "stdout",
     "output_type": "stream",
     "text": [
      "a\n",
      "b\n",
      "c\n",
      "d\n",
      "e\n",
      "f\n",
      "g\n",
      "h\n",
      "i\n",
      "j\n",
      "k\n",
      "l\n",
      "m\n",
      "n\n",
      "o\n",
      "p\n",
      "q\n",
      "r\n",
      "s\n",
      "t\n",
      "u\n",
      "v\n",
      "w\n",
      "x\n",
      "y\n",
      "z\n"
     ]
    }
   ],
   "source": [
    "text_cheie = \"anaaremere\" # -> a, n, r, e, m\n",
    "# diagrama = {\"a\": \"a\", \"n\":\"b\", \"r\":\"c\", \"e\":\"d\", \"m\":e}\n",
    "alfabet = \"abcdefghijklmnopqrstuvwxyz\"\n",
    "\n",
    "for i in range(97, 97 + 26):\n",
    "    print(chr(i))\n",
    "\n",
    "mesaj = \"kjaghwklaj\"    #-> mesajul se afla in chei si vreau sa-l transform in valori pe baza diagramei "
   ]
  },
  {
   "attachments": {},
   "cell_type": "markdown",
   "metadata": {},
   "source": [
    "### Bonus: <a href=\"https://leetcode.com/problems/how-many-numbers-are-smaller-than-the-current-number/\"> Cate numere sunt mai mici </a>\n",
    "\n",
    "Avand dat un vector de numere intregi, calculati cate numere din acel vector sunt mai mici decat fiecare dintre elementele sale. Construiti un alt vector cu aceste rezultate. \n"
   ]
  },
  {
   "attachments": {},
   "cell_type": "markdown",
   "metadata": {},
   "source": [
    "### Bonus: <a href =\"https://leetcode.com/problems/two-sum/\"> Suma a doua numere </a>\n",
    "\n",
    "Avand dat un vector de numere intregi si un numar tinta (target), afisati perechea de indecsi ai elementelor din vector care dau suma `target`. De exemplu: <br>\n",
    "`vector = [2,7,11,15], target = 9`\n",
    "\n",
    "Numerele care verifica conditia data sunt 2 si 7, deci se va afisa perechea `[0, 1]` (indecsii lor). Afisati indecsii sub forma de lista. "
   ]
  }
 ],
 "metadata": {
  "kernelspec": {
   "display_name": "Python 3",
   "language": "python",
   "name": "python3"
  },
  "language_info": {
   "codemirror_mode": {
    "name": "ipython",
    "version": 3
   },
   "file_extension": ".py",
   "mimetype": "text/x-python",
   "name": "python",
   "nbconvert_exporter": "python",
   "pygments_lexer": "ipython3",
   "version": "3.11.3"
  },
  "orig_nbformat": 4
 },
 "nbformat": 4,
 "nbformat_minor": 2
}
