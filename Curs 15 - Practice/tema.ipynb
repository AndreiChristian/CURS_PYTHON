{
 "cells": [
  {
   "attachments": {},
   "cell_type": "markdown",
   "metadata": {},
   "source": [
    "### Tema: Rezolvati una sau mai multe dintre problemele urmatoare, la alegere"
   ]
  },
  {
   "attachments": {},
   "cell_type": "markdown",
   "metadata": {},
   "source": [
    "11. Scrieti o functie care primeste un string si afiseaza numarul de vocale din acesta. \n",
    "\n",
    "12. Scrieti o functie care primeste un numar si afiseaza suma cifrelor acelui numar. \n",
    "\n",
    "13. Scrieti o functie care primeste un numar n si construieste doua liste, una cu numerele impare pana la n, si cealalta cu pare. \n",
    "\n",
    "14. Scrieti o functie care primeste o lista si construieste un dictionar cu chei indecsi incepand de la 0 si valorile din lista. \n",
    "\n",
    "15. Scrieti o functie care primeste un dictionar si afiseaza cheile. \n",
    "\n",
    "16. Scrieti o functie care primeste un dictionar si adauga intr-o lista intai cheile in ordine, apoi valorile. \n",
    "\n",
    "17. Scrieti o functie care primeste un string si verifica daca are mai mult de 10 caractere. Va returna True/False. \n",
    "\n",
    "18. Scrieti o functie care primeste o lista de numere in ordine aleatorie si afiseaza cea mai mare suma a doua numere din acea lista. \n",
    "\n",
    "19. Scrieti o functie care primeste doua liste de numere si afiseaza cate numere din cele doua liste sunt egale. \n",
    "\n",
    "20. Scrieti o functie care primeste un dictionar si sorteaza valorile. Va returna dictionarul cu aceleasi chei si valorile sortate."
   ]
  }
 ],
 "metadata": {
  "kernelspec": {
   "display_name": "Python 3",
   "language": "python",
   "name": "python3"
  },
  "language_info": {
   "codemirror_mode": {
    "name": "ipython",
    "version": 3
   },
   "file_extension": ".py",
   "mimetype": "text/x-python",
   "name": "python",
   "nbconvert_exporter": "python",
   "pygments_lexer": "ipython3",
   "version": "3.11.3"
  },
  "orig_nbformat": 4
 },
 "nbformat": 4,
 "nbformat_minor": 2
}
