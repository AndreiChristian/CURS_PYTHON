{
 "cells": [
  {
   "attachments": {},
   "cell_type": "markdown",
   "metadata": {},
   "source": [
    "### Sugestii, reclamatii, observatii, feedback\n",
    "\n",
    "Adaugati o noua celula Markdown in care scrieti cateva consideratii pentru primele doua cursuri de Python (modulul 1 de introducere). Text liber, scrieti oricat (strict legat de curs). "
   ]
  }
 ],
 "metadata": {
  "language_info": {
   "name": "python"
  },
  "orig_nbformat": 4
 },
 "nbformat": 4,
 "nbformat_minor": 2
}
