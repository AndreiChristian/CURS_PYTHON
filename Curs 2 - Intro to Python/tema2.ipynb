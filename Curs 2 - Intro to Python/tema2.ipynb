{
 "cells": [
  {
   "attachments": {},
   "cell_type": "markdown",
   "metadata": {},
   "source": [
    "### Cod\n",
    "\n",
    "Adaugati o celula de cod si scrieti orice cod aveti in minte, oricat de simplu/complex. De preferat un programel care demonstreaza pe scurt cunostintele voastre de Python. <br>\n",
    "De exemplu:\n",
    "- incepator: `print(\"Sunt la inceput nu stiu sa scriu cod inca!)` \n",
    "- cunoscator: `def q(a):return a and q([y for y in a[1:]if y<a[0]])+[a[0]]+q([y for y in a[1:]if y>=a[0]])`"
   ]
  }
 ],
 "metadata": {
  "kernelspec": {
   "display_name": "Python 3",
   "language": "python",
   "name": "python3"
  },
  "language_info": {
   "codemirror_mode": {
    "name": "ipython",
    "version": 3
   },
   "file_extension": ".py",
   "mimetype": "text/x-python",
   "name": "python",
   "nbconvert_exporter": "python",
   "pygments_lexer": "ipython3",
   "version": "3.11.3"
  },
  "orig_nbformat": 4
 },
 "nbformat": 4,
 "nbformat_minor": 2
}
