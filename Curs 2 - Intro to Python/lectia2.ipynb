{
 "cells": [
  {
   "attachments": {},
   "cell_type": "markdown",
   "metadata": {},
   "source": [
    "# Povestea Python \n",
    "\n",
    "Programare:\n",
    "- date -> ce vine din exterior(informatia pe care vreau sa o prelucrez)\n",
    "- instructiuni -> cum directionez calculatorul sa prelucreze datele\n",
    "\n",
    "Calculator: vorbeste in cod masina \n",
    "- procesor (CPU) -> Central Processing Unit (creierul): se ocupa cu executia instructiunilor \n",
    "- memoria (RAM) -> Random Access Memory: se ocupa cu stocarea datelor\n",
    "- elemente de intrare/iesire (I/O) -> ecran, tastatura, difuzoare, etc: se ocupa cu interactiunea cu exteriorul \n",
    "\n",
    "Programator: vorbeste in cuvinte \n",
    "\n",
    "Compilator: program care traduce cuvintele programatorului in limbajul calculatorului \n",
    "- traduce codul scris de programator(intr-un limbaj de programare) in cod masina(limbajul CPU-ului)\n",
    "- limbaje care au nevoie de compilator -> compilate: C, C++, C#\n",
    "- traduce intreg programul, dupa ce a fost scris\n",
    "\n",
    "Interpretor: program care traduce instructiunile programatorului *in timp real*(instructiune cu instructiune)\n",
    "- la final programul o sa fie rulat, si nu compilat (nu se executa) \n",
    " \n",
    "Python: NU este limbaj compilat\n",
    "- limbaj dinamically typed (nu trebuie sa scriu tipul datelor) \n",
    "- limbaj high level (flexibilitate mare)\n",
    "- limbaj <u>**interpretat**</u> si NU compilat -> are nevoie de interpretor (traducator)"
   ]
  },
  {
   "cell_type": "code",
   "execution_count": 10,
   "metadata": {},
   "outputs": [
    {
     "name": "stdout",
     "output_type": "stream",
     "text": [
      "20.5\n",
      "<class 'int'>\n",
      "<class 'float'>\n"
     ]
    }
   ],
   "source": [
    "text_salut = \"Hello\" #-> date de tip String(text)\n",
    "numar = 10 #-> tip integer(numar intreg)\n",
    "adevar = True #-> tip boolean(valoare de adevar)\n",
    "# print(type(numar))\n",
    "\n",
    "numar = \"Salut\"\n",
    "\n",
    "# ------ limbaj de tip C/C++ --------\n",
    "# string text = \"Hello\";\n",
    "# int numar = 10;\n",
    "# numar = \"Hello\"; -> !!!! EROARE\n",
    "# bool adevar = True; \n",
    "# -----------------------------------\n",
    "\n",
    "a = 10  #-> tip int \n",
    "b = 10.5    #-> tip float\n",
    "\n",
    "print(a + b)\n",
    "print(type(a))\n",
    "print(type(b))\n",
    "\n",
    "# print(type(b))\n",
    "\n",
    "# print(type(text))\n",
    "# print(type(numar))\n",
    "# print(type(adevar))\n",
    "# print(type(numar))"
   ]
  },
  {
   "cell_type": "code",
   "execution_count": 11,
   "metadata": {},
   "outputs": [
    {
     "name": "stdout",
     "output_type": "stream",
     "text": [
      "<class 'list'>\n"
     ]
    }
   ],
   "source": [
    "a = []\n",
    "print(type(a))"
   ]
  },
  {
   "cell_type": "code",
   "execution_count": 14,
   "metadata": {},
   "outputs": [
    {
     "name": "stdout",
     "output_type": "stream",
     "text": [
      "11\n",
      "10\n"
     ]
    },
    {
     "ename": "TypeError",
     "evalue": "unsupported operand type(s) for +: 'int' and 'str'",
     "output_type": "error",
     "traceback": [
      "\u001b[1;31m---------------------------------------------------------------------------\u001b[0m",
      "\u001b[1;31mTypeError\u001b[0m                                 Traceback (most recent call last)",
      "Cell \u001b[1;32mIn[14], line 5\u001b[0m\n\u001b[0;32m      3\u001b[0m \u001b[39mprint\u001b[39m(\u001b[39m10\u001b[39m \u001b[39m+\u001b[39m \u001b[39mTrue\u001b[39;00m)\n\u001b[0;32m      4\u001b[0m \u001b[39mprint\u001b[39m(\u001b[39m10\u001b[39m \u001b[39m+\u001b[39m \u001b[39mFalse\u001b[39;00m)\n\u001b[1;32m----> 5\u001b[0m \u001b[39mprint\u001b[39m(\u001b[39m10\u001b[39;49m \u001b[39m+\u001b[39;49m \u001b[39m\"\u001b[39;49m\u001b[39mtext\u001b[39;49m\u001b[39m\"\u001b[39;49m)\n",
      "\u001b[1;31mTypeError\u001b[0m: unsupported operand type(s) for +: 'int' and 'str'"
     ]
    }
   ],
   "source": [
    "# incercari cu tipuri de date \n",
    "\n",
    "print(10 + True)\n",
    "print(10 + False)\n",
    "print(10 + \"text\") # EROARE: nu pot aduna un int cu un string\n"
   ]
  },
  {
   "attachments": {},
   "cell_type": "markdown",
   "metadata": {},
   "source": [
    "## Tipuri de date\n",
    "\n",
    "- Primitive: tipuri de date primitive, care au aceeasi functionalitate default, sunt statice \n",
    "    - int: numar intreg\n",
    "    - float: numar real(cu virgula)\n",
    "    - string: text\n",
    "    - bool: True/False -> valoare de adevar \n",
    "    - None: null -> nu este nimic acolo \n",
    "<br>\n",
    "- Obiecte: tipuri de date mai complexe, care au functionalitate flexibila\n",
    "    - inglobeaza tipuri diferite de date\n",
    "    - sunt dinamice \n",
    "\n",
    "Variabile: Containere de date(aici pun datele cu care lucrez) -> pot pune date de orice tip \n",
    "\n",
    "### Tipuri dinamice cu care vom lucra\n",
    "\n",
    "- liste: array dinamic -> vector cu numar variabil de elemente (alaturare de mai multe elemente) pe care le pot modifica\n",
    "- tupluri: array dinamic in care nu pot schimba elementele\n",
    "- dictionare"
   ]
  },
  {
   "cell_type": "code",
   "execution_count": 33,
   "metadata": {},
   "outputs": [
    {
     "name": "stdout",
     "output_type": "stream",
     "text": [
      "10\n",
      "<class 'NoneType'>\n",
      "Hello           World!\n",
      "[1, 2, True, 'Hello']\n",
      "\"text care contine ghilimele pe care le vreau afisate\"\n"
     ]
    }
   ],
   "source": [
    "numar_10 = 10\n",
    "print(numar)\n",
    "nimic = None\n",
    "print(type(nimic))\n",
    "print(\"Hello           \" + \"World!\")\n",
    "\n",
    "vector = [1, 2, True, \"Hello\"] # array dinamic (vector dinamic)\n",
    "# prin conventie listele(vectorii) contin date de acelasi tip\n",
    "\n",
    "print(vector)\n",
    "\n",
    "citat = \"\\\"text care contine ghilimele pe care le vreau afisate\\\"\"\n",
    "print(citat)"
   ]
  }
 ],
 "metadata": {
  "kernelspec": {
   "display_name": "Python 3",
   "language": "python",
   "name": "python3"
  },
  "language_info": {
   "codemirror_mode": {
    "name": "ipython",
    "version": 3
   },
   "file_extension": ".py",
   "mimetype": "text/x-python",
   "name": "python",
   "nbconvert_exporter": "python",
   "pygments_lexer": "ipython3",
   "version": "3.11.3"
  },
  "orig_nbformat": 4,
  "vscode": {
   "interpreter": {
    "hash": "ae9db6e0adbc91bbf2a4e52a371ad2c6e2e221ec3e109b22490793fdaff1cfb0"
   }
  }
 },
 "nbformat": 4,
 "nbformat_minor": 2
}
