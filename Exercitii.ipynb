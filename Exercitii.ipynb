{
 "cells": [
  {
   "cell_type": "markdown",
   "metadata": {},
   "source": [
    "# 1. Aveti o lista de numere si trebuie sa le calculati suma\n",
    "\n",
    "numbers = [1,2,3,4,5,6]\n",
    "\n",
    "# suma -> are valoarea sumei tutoror numerelor\n",
    "\n",
    "# 2. Suma mai multor dictionare\n",
    "\n",
    "aveti o lista care contine dictionare de tipul [{culoare:\"verde\",valoare:3},{culoare:\"rosu\",valoare:5},]. Faceti suma tuturor elementelor care au culoarea verde\n",
    "\n",
    "# 3. Binary Search\n",
    "\n",
    "Drept input o lista de numere sortate crescator, ex [1,1,3,4,5,6,7]. Verificati daca un numar este in lista."
   ]
  }
 ],
 "metadata": {
  "language_info": {
   "name": "python"
  },
  "orig_nbformat": 4
 },
 "nbformat": 4,
 "nbformat_minor": 2
}
