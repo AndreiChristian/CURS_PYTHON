{
 "cells": [
  {
   "cell_type": "markdown",
   "metadata": {},
   "source": [
    "# 1. Aveti o lista de numere si trebuie sa le calculati suma\n",
    "\n",
    "numbers = [1,2,3,4,5,6]\n",
    "\n",
    "suma -> are valoarea sumei tutoror numerelor"
   ]
  },
  {
   "cell_type": "code",
   "execution_count": 1,
   "metadata": {},
   "outputs": [
    {
     "name": "stdout",
     "output_type": "stream",
     "text": [
      "15\n"
     ]
    }
   ],
   "source": [
    "# Solutie\n",
    "\n",
    "numbers = [1,2,3,4,5]\n",
    "\n",
    "# total = sum(numbers)\n",
    "\n",
    "# print(total)\n",
    "\n",
    "total = 0\n",
    "\n",
    "for num in numbers:\n",
    "    total += num\n",
    "\n",
    "print(total)"
   ]
  },
  {
   "cell_type": "markdown",
   "metadata": {},
   "source": [
    "# 2. Suma mai multor dictionare\n",
    "\n",
    "aveti o lista care contine dictionare de tipul [{culoare:\"verde\",valoare:3},{culoare:\"rosu\",valoare:5},]. Faceti suma tuturor elementelor care au culoarea verde"
   ]
  },
  {
   "cell_type": "code",
   "execution_count": 10,
   "metadata": {},
   "outputs": [
    {
     "name": "stdout",
     "output_type": "stream",
     "text": [
      "3\n"
     ]
    }
   ],
   "source": [
    "elements = [{\"culoare\": \"verde\", \"valoare\": 3}, {\n",
    "    \"culoare\": \"rosu\", \"valoare\": 5}, {\"culoare\": \"roz\", \"valoare\": 7}]\n",
    "\n",
    "total = 0\n",
    "for element in elements:\n",
    "    if element[\"culoare\"] == \"verde\":\n",
    "        total += element[\"valoare\"]\n",
    "\n",
    "print(total)"
   ]
  },
  {
   "cell_type": "markdown",
   "metadata": {},
   "source": [
    "# 3. Binary Search\n",
    "\n",
    "Drept input o lista de numere sortate crescator, ex [1,1,3,4,5,6,7]. Verificati daca un numar este in lista."
   ]
  },
  {
   "cell_type": "code",
   "execution_count": null,
   "metadata": {},
   "outputs": [],
   "source": [
    "def binary_search(list, x):\n",
    "\n",
    "    min = 0\n",
    "    max = len(list) - 1\n",
    "\n",
    "    while min <= max:\n",
    "        mijloc = (min + max)//2\n",
    "\n",
    "        if list[mijloc] == x :\n",
    "            return mijloc\n",
    "\n",
    "\n"
   ]
  }
 ],
 "metadata": {
  "kernelspec": {
   "display_name": "Python 3",
   "language": "python",
   "name": "python3"
  },
  "language_info": {
   "codemirror_mode": {
    "name": "ipython",
    "version": 3
   },
   "file_extension": ".py",
   "mimetype": "text/x-python",
   "name": "python",
   "nbconvert_exporter": "python",
   "pygments_lexer": "ipython3",
   "version": "3.11.2"
  },
  "orig_nbformat": 4
 },
 "nbformat": 4,
 "nbformat_minor": 2
}
