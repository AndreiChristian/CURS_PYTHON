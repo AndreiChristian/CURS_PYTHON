{
 "cells": [
  {
   "attachments": {},
   "cell_type": "markdown",
   "metadata": {},
   "source": [
    "Feedback inainte de tema "
   ]
  },
  {
   "attachments": {},
   "cell_type": "markdown",
   "metadata": {},
   "source": [
    "### <a href=\"https://leetcode.com/problems/fizz-buzz/\"> FizzBuzz </a>\n",
    "\n",
    "Scrieti un program care primeste un numar si afiseaza numerele de la 1 la acel numar, cu urmatoarele conditii:\n",
    "- daca numarul este divizibil cu 3 si cu 5, sa se scrie \"FizzBuzz\"\n",
    "- daca numarul este divizibil cu 3, sa se scrie \"Fizz\"\n",
    "- daca numarul este divizibil cu 5, sa se scrie \"Buzz\"\n",
    "- altfel, se scrie numarul in sine\n",
    "\n",
    "(Va puteti testa problema si apasand pe titlu, va duce pe linkul de leetcode, va faceti un cont sau va logati cu Google si puteti scrie acolo solutia, apoi dati Run si Submit si vedeti daca a trecut testele)"
   ]
  },
  {
   "attachments": {},
   "cell_type": "markdown",
   "metadata": {},
   "source": [
    "Output: <br>\n",
    "1 2 3 Fizz 4 5 Buzz -> incorect <br>\n",
    "1 2 Fizz 4 Buzz ... -> corect "
   ]
  }
 ],
 "metadata": {
  "kernelspec": {
   "display_name": "Python 3",
   "language": "python",
   "name": "python3"
  },
  "language_info": {
   "codemirror_mode": {
    "name": "ipython",
    "version": 3
   },
   "file_extension": ".py",
   "mimetype": "text/x-python",
   "name": "python",
   "nbconvert_exporter": "python",
   "pygments_lexer": "ipython3",
   "version": "3.11.3"
  },
  "orig_nbformat": 4
 },
 "nbformat": 4,
 "nbformat_minor": 2
}
