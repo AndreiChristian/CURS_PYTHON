{
 "cells": [
  {
   "attachments": {},
   "cell_type": "markdown",
   "metadata": {},
   "source": [
    "### Control Flow\n",
    "\n"
   ]
  },
  {
   "cell_type": "code",
   "execution_count": null,
   "metadata": {},
   "outputs": [],
   "source": [
    "if True:\n",
    "    # cod\n",
    "    pass\n",
    "elif 10 < 12:\n",
    "    pass\n",
    "elif 10 < 12:\n",
    "    pass\n",
    "else:\n",
    "    # cod\n",
    "    pass    # inseamna ca nu se mai executa cod\n",
    "\n",
    "numar = \"10\"\n",
    "numar = int(numar)\n",
    "\n",
    "if (numar == 10):\n",
    "    print(\"Numarul este 10\")\n",
    "elif numar == 15:\n",
    "    print(\"Numarul este 15\")\n",
    "elif numar == 20:\n",
    "    print(\"Numarul este 20\")\n",
    "else:\n",
    "    print(\"Este alt numar\")"
   ]
  },
  {
   "attachments": {},
   "cell_type": "markdown",
   "metadata": {},
   "source": [
    "### Bucle\n",
    "\n",
    "Inseamna instructiuni repetate pana la oprire (data de atingerea unei conditii).\n",
    "- while: inseamna cat timp -> va primi o conditie si va repeta blocul de cod care i se subordoneaza cat timp conditia se evalueaza la True \n",
    "- for: este o instructiune care merge pas cu pas -> este folosit la parcurgeri"
   ]
  },
  {
   "cell_type": "code",
   "execution_count": 16,
   "metadata": {},
   "outputs": [
    {
     "name": "stdout",
     "output_type": "stream",
     "text": [
      "0\n",
      "1\n",
      "2\n",
      "3\n",
      "4\n",
      "5\n",
      "6\n",
      "7\n",
      "8\n",
      "9\n",
      "10\n"
     ]
    }
   ],
   "source": [
    "numar = 0\n",
    "\n",
    "while (numar <= 10): #-> conditie care se evalueaza de fiecare data ->cat timp este True se repeta, cand devine False se opreste\n",
    "    print(numar)\n",
    "    numar += 1"
   ]
  },
  {
   "cell_type": "code",
   "execution_count": 27,
   "metadata": {},
   "outputs": [
    {
     "name": "stdout",
     "output_type": "stream",
     "text": [
      "Elementele din sir: \n",
      "2\n",
      "4\n",
      "6\n",
      "8\n",
      "10\n",
      "Lungimea sirului: 5\n",
      "Indecsii elementelor\n",
      "0\n",
      "1\n",
      "2\n",
      "3\n",
      "4\n"
     ]
    }
   ],
   "source": [
    "sir_de_numere = [2, 4, 6, 8, 10]\n",
    "\n",
    "print(\"Elementele din sir: \")\n",
    "for numar in sir_de_numere:\n",
    "    print(numar)\n",
    "\n",
    "print(f\"Lungimea sirului: {len(sir_de_numere)}\")\n",
    "\n",
    "# listele sunt indexate\n",
    "print(\"Indecsii elementelor\")\n",
    "for index in range(len(sir_de_numere)):\n",
    "    print(index)"
   ]
  },
  {
   "attachments": {},
   "cell_type": "markdown",
   "metadata": {},
   "source": [
    "Vreau sa construiesc un sir in mod automat (fara a adauga manual elemente)"
   ]
  },
  {
   "cell_type": "code",
   "execution_count": 30,
   "metadata": {},
   "outputs": [
    {
     "name": "stdout",
     "output_type": "stream",
     "text": [
      "[1, 2, 3, 4, 5, 6, 7, 8, 9, 10]\n"
     ]
    }
   ],
   "source": [
    "# Varianta high-level\n",
    "\n",
    "sir_1 = []\n",
    "\n",
    "for element in range(1, 11):\n",
    "    sir_1.append(element)\n",
    "\n",
    "print(sir_1)"
   ]
  },
  {
   "cell_type": "code",
   "execution_count": 35,
   "metadata": {},
   "outputs": [
    {
     "name": "stdout",
     "output_type": "stream",
     "text": [
      "[1, 2, 3, 4, 5, 6, 7, 8, 9, 10]\n"
     ]
    }
   ],
   "source": [
    "# Varianta mai low-level\n",
    "\n",
    "sir_2 = [None] * 10 #-> am creat o lista de 10 elemente de None: [None, None, None, None, None, ...]\n",
    "\n",
    "for i in range(10):\n",
    "    sir_2[i] = i + 1\n",
    "\n",
    "print(sir_2)"
   ]
  },
  {
   "cell_type": "code",
   "execution_count": 40,
   "metadata": {},
   "outputs": [
    {
     "name": "stdout",
     "output_type": "stream",
     "text": [
      "1\n",
      "3\n",
      "5\n",
      "7\n",
      "9\n"
     ]
    }
   ],
   "source": [
    "# range(start, stop, pas)\n",
    "\n",
    "for numar in range(1, 10, 2):\n",
    "    print(numar)"
   ]
  },
  {
   "cell_type": "code",
   "execution_count": 41,
   "metadata": {},
   "outputs": [
    {
     "name": "stdout",
     "output_type": "stream",
     "text": [
      "a\n",
      "n\n",
      "a\n",
      "a\n",
      "r\n",
      "e\n",
      "m\n",
      "e\n",
      "r\n",
      "e\n"
     ]
    }
   ],
   "source": [
    "text = \"anaaremere\"\n",
    "\n",
    "for caracter in text:\n",
    "    print(caracter)"
   ]
  },
  {
   "cell_type": "code",
   "execution_count": 48,
   "metadata": {},
   "outputs": [
    {
     "name": "stdout",
     "output_type": "stream",
     "text": [
      "0\n",
      "18\n"
     ]
    }
   ],
   "source": [
    "print(18 ^ 18)\n",
    "print(18 ^ 0)\n",
    "\n",
    "\n",
    "# numar XOR numar == 0\n",
    "# numar XOR 0 == numar\n",
    "\n",
    "\n",
    "if (numar ^ parola):\n",
    "    # cod parola gresita\n",
    "    pass\n",
    "else:\n",
    "    # cod parola corecta\n",
    "    pass\n"
   ]
  },
  {
   "cell_type": "code",
   "execution_count": 56,
   "metadata": {},
   "outputs": [
    {
     "name": "stdout",
     "output_type": "stream",
     "text": [
      "Corect\n"
     ]
    }
   ],
   "source": [
    "\n",
    "#parola  #numarul   \n",
    "if 1087523 ^ 1087523:\n",
    "    print(\"Gresit\")\n",
    "else:\n",
    "    print(\"Corect\")"
   ]
  },
  {
   "cell_type": "code",
   "execution_count": 2,
   "metadata": {},
   "outputs": [
    {
     "name": "stdout",
     "output_type": "stream",
     "text": [
      "1\n"
     ]
    }
   ],
   "source": [
    "vector = [1, 2, 3, 4, 5, 6, 7, 8, 9, 10]\n",
    "\n",
    "numar = 3\n",
    "\n",
    "print(vector[2] // numar)"
   ]
  }
 ],
 "metadata": {
  "kernelspec": {
   "display_name": "Python 3",
   "language": "python",
   "name": "python3"
  },
  "language_info": {
   "codemirror_mode": {
    "name": "ipython",
    "version": 3
   },
   "file_extension": ".py",
   "mimetype": "text/x-python",
   "name": "python",
   "nbconvert_exporter": "python",
   "pygments_lexer": "ipython3",
   "version": "3.11.3"
  },
  "orig_nbformat": 4
 },
 "nbformat": 4,
 "nbformat_minor": 2
}
