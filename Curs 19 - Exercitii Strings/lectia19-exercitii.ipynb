{
 "cells": [
  {
   "attachments": {},
   "cell_type": "markdown",
   "metadata": {},
   "source": [
    "### <a href=\"https://leetcode.com/problems/valid-parentheses/description/\"> Sir de paranteze echilibrate </a> (rezolvat cu string.replace())\n",
    "\n",
    "Avand dat un sir de paranteze de toate tipurile (), [], {}, scrieti o functie care verifica daca acel sir este valid. (Un sir de paranteze este valid daca toate parantezele sunt inchise). "
   ]
  },
  {
   "cell_type": "code",
   "execution_count": 6,
   "metadata": {},
   "outputs": [
    {
     "data": {
      "text/plain": [
       "True"
      ]
     },
     "execution_count": 6,
     "metadata": {},
     "output_type": "execute_result"
    }
   ],
   "source": [
    "sir_de_paranteze = \"{())()((}[[]]))}\"\n",
    "\n",
    "def isValid(sir_de_paranteze):\n",
    "    while \"()\" in sir_de_paranteze or \"[]\" in sir_de_paranteze or \"{}\" in sir_de_paranteze:\n",
    "        sir_de_paranteze = sir_de_paranteze.replace(\"()\", \"\").replace(\"[]\", \"\").replace(\"{}\", \"\")\n",
    "\n",
    "    return len(sir_de_paranteze) == 0   # se returneaza valoarea de adevar a expresiei\n",
    "\n",
    "isValid(\"([]{})\")"
   ]
  },
  {
   "attachments": {},
   "cell_type": "markdown",
   "metadata": {},
   "source": [
    "### Cateva probleme simple pe Strings\n",
    "\n",
    "1. Scrieti o functie care inverseaza un string. De exemplu: invers(\"hello\") -> \"olleh\""
   ]
  },
  {
   "cell_type": "code",
   "execution_count": 1,
   "metadata": {},
   "outputs": [
    {
     "ename": "TypeError",
     "evalue": "'str' object does not support item assignment",
     "output_type": "error",
     "traceback": [
      "\u001b[1;31m---------------------------------------------------------------------------\u001b[0m",
      "\u001b[1;31mTypeError\u001b[0m                                 Traceback (most recent call last)",
      "Cell \u001b[1;32mIn[1], line 31\u001b[0m\n\u001b[0;32m     27\u001b[0m         dreapta \u001b[39m-\u001b[39m\u001b[39m=\u001b[39m \u001b[39m1\u001b[39m\n\u001b[0;32m     29\u001b[0m     \u001b[39mreturn\u001b[39;00m text\n\u001b[1;32m---> 31\u001b[0m invers_eficient(\u001b[39m\"\u001b[39;49m\u001b[39mhello\u001b[39;49m\u001b[39m\"\u001b[39;49m)\n",
      "Cell \u001b[1;32mIn[1], line 25\u001b[0m, in \u001b[0;36minvers_eficient\u001b[1;34m(text)\u001b[0m\n\u001b[0;32m     22\u001b[0m dreapta \u001b[39m=\u001b[39m \u001b[39mlen\u001b[39m(text) \u001b[39m-\u001b[39m \u001b[39m1\u001b[39m\n\u001b[0;32m     24\u001b[0m \u001b[39mwhile\u001b[39;00m stanga \u001b[39m<\u001b[39m\u001b[39m=\u001b[39m dreapta:\n\u001b[1;32m---> 25\u001b[0m     text[stanga], text[dreapta] \u001b[39m=\u001b[39m text[dreapta], text[stanga]\n\u001b[0;32m     26\u001b[0m     stanga \u001b[39m+\u001b[39m\u001b[39m=\u001b[39m \u001b[39m1\u001b[39m\n\u001b[0;32m     27\u001b[0m     dreapta \u001b[39m-\u001b[39m\u001b[39m=\u001b[39m \u001b[39m1\u001b[39m\n",
      "\u001b[1;31mTypeError\u001b[0m: 'str' object does not support item assignment"
     ]
    }
   ],
   "source": [
    "# prima abordare - complet neoptimizata\n",
    "def invers(text):\n",
    "    text_inversat = []\n",
    "\n",
    "    for index in range(len(text) - 1, -1, -1):\n",
    "        text_inversat.append(text[index])\n",
    "\n",
    "    return(''.join(text_inversat))\n",
    "\n",
    "# a doua abordare - incerc sa renunt la apeluri multe de functii built-in \n",
    "def invers2(text):\n",
    "    text_invers = \"\"\n",
    "\n",
    "    for index in range(len(text) - 1, -1, -1):\n",
    "        text_invers += text[index]\n",
    "\n",
    "    return text_invers\n",
    "\n",
    "# cea mai eficienta abordare\n",
    "def invers_eficient(text):\n",
    "    stanga = 0\n",
    "    dreapta = len(text) - 1\n",
    "\n",
    "    while stanga <= dreapta:\n",
    "        text[stanga], text[dreapta] = text[dreapta], text[stanga]\n",
    "        stanga += 1\n",
    "        dreapta -= 1\n",
    "    \n",
    "    return text\n",
    "\n",
    "invers_eficient(\"hello\")"
   ]
  },
  {
   "cell_type": "code",
   "execution_count": 12,
   "metadata": {},
   "outputs": [
    {
     "name": "stdout",
     "output_type": "stream",
     "text": [
      "a = 20, b = 10\n"
     ]
    }
   ],
   "source": [
    "# interschimbarea a doua variabile\n",
    "# scriu un cod care inverseaza valorile a doua variabile\n",
    "a = 10\n",
    "b = 20\n",
    "\n",
    "# abordare clasica\n",
    "aux = a\n",
    "a = b\n",
    "b = aux\n",
    "\n",
    "#abordare Python\n",
    "a, b = b, a"
   ]
  }
 ],
 "metadata": {
  "kernelspec": {
   "display_name": "Python 3",
   "language": "python",
   "name": "python3"
  },
  "language_info": {
   "codemirror_mode": {
    "name": "ipython",
    "version": 3
   },
   "file_extension": ".py",
   "mimetype": "text/x-python",
   "name": "python",
   "nbconvert_exporter": "python",
   "pygments_lexer": "ipython3",
   "version": "3.11.3"
  },
  "orig_nbformat": 4
 },
 "nbformat": 4,
 "nbformat_minor": 2
}
